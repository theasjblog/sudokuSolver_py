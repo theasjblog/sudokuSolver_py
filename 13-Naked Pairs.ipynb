{
 "cells": [
  {
   "cell_type": "markdown",
   "metadata": {},
   "source": [
    "https://www.learn-sudoku.com/naked-triplets.html"
   ]
  },
  {
   "cell_type": "code",
   "execution_count": 1,
   "metadata": {},
   "outputs": [],
   "source": [
    "# imports\n",
    "import numpy as np\n",
    "from solverFunctions import *"
   ]
  },
  {
   "cell_type": "code",
   "execution_count": 2,
   "metadata": {},
   "outputs": [],
   "source": [
    "# test grids\n",
    "emptySudoku = np.zeros((9,9))\n",
    "\n",
    "hardSudoku = np.zeros((9,9))\n",
    "hardSudoku[0,1] = 4\n",
    "hardSudoku[0,7] = 1\n",
    "hardSudoku[1,0] = 2\n",
    "hardSudoku[1,8] = 6\n",
    "hardSudoku[7,0] = 9\n",
    "hardSudoku[7,8] = 2\n",
    "hardSudoku[8,1] = 1\n",
    "hardSudoku[8,7] = 9\n",
    "\n",
    "sampleSudoku = np.array([[5, 3, 0, 0, 7, 0, 0, 0, 0],\n",
    "                         [6, 0, 0, 1, 9, 5, 0, 0, 0],\n",
    "                         [0, 9, 8, 0, 0, 0, 0, 6, 0],\n",
    "                         [8, 0, 0, 0, 6, 0, 0, 0, 3],\n",
    "                         [4, 0, 0, 8, 0, 3, 0, 0, 1],\n",
    "                         [7, 0, 0, 0, 2, 0, 0, 0, 6],\n",
    "                         [0, 6, 0, 0, 0, 0, 2, 8, 0],\n",
    "                         [0, 0, 0, 4, 1, 9, 0, 0, 5],\n",
    "                         [0, 0, 0, 0, 8, 0, 0, 7, 9]])"
   ]
  },
  {
   "cell_type": "code",
   "execution_count": 3,
   "metadata": {},
   "outputs": [],
   "source": [
    "#loop through the cells to get all possible numbers in that cell\n",
    "def getPossibilities(grid):\n",
    "    possibleNs = []\n",
    "    for ir in range (0,9):\n",
    "        for ic in range(0,9):\n",
    "            cellPoss = [0]\n",
    "            for i in range(1,10):\n",
    "                if grid[ir, ic] == i:\n",
    "                    cellPoss[0] = i\n",
    "                else:\n",
    "                    if probabilityFunction(grid, ir, ic, i):\n",
    "                        if cellPoss[0] == 0:\n",
    "                            cellPoss = [i]\n",
    "                        else:\n",
    "                            cellPoss.append(i)\n",
    "                \n",
    "            possibleNs.append(cellPoss)\n",
    "    return(possibleNs)"
   ]
  },
  {
   "cell_type": "markdown",
   "metadata": {},
   "source": [
    "Now we need to find the pais and remove the numbers that are in a pair from all other cells."
   ]
  },
  {
   "cell_type": "code",
   "execution_count": 4,
   "metadata": {},
   "outputs": [],
   "source": [
    "#artifically create a naked pair in row and same block\n",
    "nsEmpty = getPossibilities(emptySudoku)\n",
    "nsPair = nsEmpty.copy()\n",
    "nsPair[0] = [1,2]\n",
    "nsPair[1] = [1,3]\n",
    "nsPair[2] = [1,2]"
   ]
  },
  {
   "cell_type": "code",
   "execution_count": 5,
   "metadata": {},
   "outputs": [],
   "source": [
    "#mapping to get where a ns list idx is in a grid\n",
    "def getMapping():\n",
    "    mapping = np.asarray(list(range(0,81))).reshape(9,9)\n",
    "    squaresIdx = ([[0, 1, 2], [0, 1, 2]],\n",
    "                  [[0, 1, 2], [3, 4, 5]],\n",
    "                  [[0, 1, 2], [6, 7, 8]],\n",
    "                  [[3, 4, 5], [0, 1, 2]],\n",
    "                  [[3, 4, 5], [3, 4, 5]],\n",
    "                  [[3, 4, 5], [6, 7, 8]],\n",
    "                  [[6, 7, 8], [0, 1, 2]],\n",
    "                  [[6, 7, 8], [3, 4, 5]],\n",
    "                  [[6, 7, 8], [6, 7, 8]]\n",
    "                 )\n",
    "    return(mapping, squaresIdx)\n"
   ]
  },
  {
   "cell_type": "code",
   "execution_count": 43,
   "metadata": {},
   "outputs": [],
   "source": [
    "def intersection(lst1, lst2): \n",
    "    temp = set(lst2) \n",
    "    lst3 = [value for value in lst1 if value in temp] \n",
    "    return lst3 \n",
    "\n",
    "# get idx for rows\n",
    "def getIdxs(i, typeIs):\n",
    "    mapping, squaresIdx = getMapping()\n",
    "    if typeIs == 'row':\n",
    "        idxs = list(mapping[i,:])\n",
    "    if typeIs == 'col':\n",
    "        idxs = list(mapping[:,i])\n",
    "    if typeIs == 'square':\n",
    "        idxs = []\n",
    "        for ir in range(0,3):\n",
    "            for ic in range(0,3):\n",
    "                idxs.append(mapping[squaresIdx[i][0][ir], squaresIdx[i][1][ic]])\n",
    "    return(idxs)\n",
    "\n",
    "def checkForPairs(nsPair, idxs):\n",
    "    for idx1 in range(0,8):\n",
    "        lst1 = nsPair[idxs[idx1]]\n",
    "        for idx2 in range(idx1+1, 9):\n",
    "            lst2 = nsPair[idxs[idx2]]\n",
    "            if len(lst1) == 2 and len(lst2) == 2:\n",
    "                lstInt = intersection(lst1, lst2)\n",
    "                if len(lstInt) == 2:\n",
    "                    #we assume that there must be only 2 places where we have naked pairs\n",
    "                    # having it in more would mean that the sudoku is not valid\n",
    "                    return(lstInt, idxs[idx1], idxs[idx2])\n",
    "    return([0], 0, 0)\n",
    "\n",
    "def remove_values_from_list(the_list, val):\n",
    "    return [value for value in the_list if value != val]\n",
    "\n",
    "# what to do if I have pairs\n",
    "# the below tells us where in the grid we have pairs, and what the vallues are\n",
    "# we remove all those values for the same row, col and square of the pair\n",
    "def replacePairs(nsPair, typeIs):\n",
    "    replaceMade = False\n",
    "    for i in range(0,9):\n",
    "        idxs = getIdxs(i, typeIs)\n",
    "        thisPair, idx1, idx2 = checkForPairs(nsPair, idxs)\n",
    "        if len(thisPair) == 2:\n",
    "            for ii in idxs:\n",
    "                if not ii == idx1 and not ii == idx2:\n",
    "                    orList = nsPair[ii].copy()\n",
    "                    nsPair[ii] = remove_values_from_list(nsPair[ii], thisPair[0])\n",
    "                    nsPair[ii] = remove_values_from_list(nsPair[ii], thisPair[1])\n",
    "                    if not orList == nsPair[ii]:\n",
    "                        replaceMade = True\n",
    "    return(nsPair, replaceMade)\n",
    "\n",
    "\n",
    "# # now we wrap the abobe in a while loop\n",
    "# # commented otherwise if it runs it invalidates the results\n",
    "# # from the remaining cells of the notebook\n",
    "# keepLooping = True\n",
    "# while keepLooping:\n",
    "#     nsPair, replaceMadeR = replacePairs(nsPair, 'row')\n",
    "#     nsPair, replaceMadeC = replacePairs(nsPair, 'col')\n",
    "#     nsPair, replaceMadeS = replacePairs(nsPair, 'square')\n",
    "#     if not replaceMadeR and not replaceMadeC and not replaceMadeS:\n",
    "#         keepLooping = False\n",
    "\n",
    "def fillGridFromPoss(grid, poss):\n",
    "    line = np.ndarray.flatten(grid)\n",
    "    for i in range(0, 81):\n",
    "        if len(poss[i]) == 1:\n",
    "            line[i] = poss[i][0]\n",
    "    grid = line.reshape((9,9))\n",
    "    return(grid)\n",
    "\n",
    "# Finally, create a function to wrap everything\n",
    "def solveNakedPairs(grid):\n",
    "    nsPossibilities = getPossibilities(grid)\n",
    "    keepLooping = True\n",
    "    while keepLooping:\n",
    "        nsPossibilities, replaceMadeR = replacePairs(nsPossibilities, 'row')\n",
    "        nsPossibilities, replaceMadeC = replacePairs(nsPossibilities, 'col')\n",
    "        nsPossibilities, replaceMadeS = replacePairs(nsPossibilities, 'square')\n",
    "        if not replaceMadeR and not replaceMadeC and not replaceMadeS:\n",
    "            keepLooping = False\n",
    "    grid = fillGridFromPoss(grid, nsPossibilities)\n",
    "    return(grid)"
   ]
  },
  {
   "cell_type": "code",
   "execution_count": 44,
   "metadata": {},
   "outputs": [],
   "source": [
    "g = solveNakedPairs(sampleSudoku)"
   ]
  },
  {
   "cell_type": "code",
   "execution_count": 45,
   "metadata": {},
   "outputs": [
    {
     "data": {
      "text/plain": [
       "array([[0., 0., 0., 4., 5., 6., 7., 8., 9.],\n",
       "       [0., 0., 0., 0., 0., 0., 0., 0., 0.],\n",
       "       [0., 0., 0., 0., 0., 0., 0., 0., 0.],\n",
       "       [2., 1., 0., 0., 0., 0., 0., 0., 0.],\n",
       "       [0., 0., 0., 0., 0., 0., 0., 0., 0.],\n",
       "       [0., 0., 0., 0., 0., 0., 0., 0., 0.],\n",
       "       [0., 0., 1., 0., 0., 0., 0., 0., 0.],\n",
       "       [0., 0., 0., 0., 0., 0., 0., 0., 0.],\n",
       "       [0., 0., 0., 0., 0., 0., 0., 0., 0.]])"
      ]
     },
     "execution_count": 45,
     "metadata": {},
     "output_type": "execute_result"
    }
   ],
   "source": [
    "pairSudoku = np.zeros((9,9))\n",
    "pairSudoku[0,3] = 4\n",
    "pairSudoku[0,4] = 5\n",
    "pairSudoku[0,5] = 6\n",
    "pairSudoku[0,6] = 7\n",
    "pairSudoku[0,7] = 8\n",
    "pairSudoku[0,8] = 9\n",
    "pairSudoku[3,0] = 2\n",
    "pairSudoku[3,1] = 1 \n",
    "pairSudoku[6,2] = 1\n",
    "\n",
    "pairSudoku\n"
   ]
  },
  {
   "cell_type": "code",
   "execution_count": 52,
   "metadata": {},
   "outputs": [
    {
     "data": {
      "text/plain": [
       "array([[1., 0., 0., 4., 5., 6., 7., 8., 9.],\n",
       "       [0., 0., 0., 0., 0., 0., 0., 0., 0.],\n",
       "       [0., 0., 0., 0., 0., 0., 0., 0., 0.],\n",
       "       [2., 1., 0., 0., 0., 0., 0., 0., 0.],\n",
       "       [0., 0., 0., 0., 0., 0., 0., 0., 0.],\n",
       "       [0., 0., 0., 0., 0., 0., 0., 0., 0.],\n",
       "       [0., 0., 1., 0., 0., 0., 0., 0., 0.],\n",
       "       [0., 0., 0., 0., 0., 0., 0., 0., 0.],\n",
       "       [0., 0., 0., 0., 0., 0., 0., 0., 0.]])"
      ]
     },
     "execution_count": 52,
     "metadata": {},
     "output_type": "execute_result"
    }
   ],
   "source": [
    "g = solveNakedPairs(pairSudoku)\n",
    "g"
   ]
  },
  {
   "cell_type": "code",
   "execution_count": 39,
   "metadata": {},
   "outputs": [
    {
     "name": "stdout",
     "output_type": "stream",
     "text": [
      "True\n",
      "[1]\n",
      "[2, 3]\n",
      "[2, 3]\n"
     ]
    }
   ],
   "source": [
    "print(l)\n",
    "print(p[0])\n",
    "print(p[1])\n",
    "print(p[2])"
   ]
  },
  {
   "cell_type": "code",
   "execution_count": null,
   "metadata": {},
   "outputs": [],
   "source": []
  },
  {
   "cell_type": "code",
   "execution_count": null,
   "metadata": {},
   "outputs": [],
   "source": []
  }
 ],
 "metadata": {
  "kernelspec": {
   "display_name": "Python 3",
   "language": "python",
   "name": "python3"
  },
  "language_info": {
   "codemirror_mode": {
    "name": "ipython",
    "version": 3
   },
   "file_extension": ".py",
   "mimetype": "text/x-python",
   "name": "python",
   "nbconvert_exporter": "python",
   "pygments_lexer": "ipython3",
   "version": "3.6.8"
  }
 },
 "nbformat": 4,
 "nbformat_minor": 2
}
