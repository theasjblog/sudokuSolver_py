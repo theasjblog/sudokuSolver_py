{
 "cells": [
  {
   "cell_type": "markdown",
   "metadata": {},
   "source": [
    "This is to solve non trivial sudoku, i.e. the ones that cannot be soleved by simply follow the column/row/grid rules, but where we need to implement some more clever logic.\n",
    "\n",
    "The idea is to get the probability of a number going in a specific position, guess it and then use a brute force approach"
   ]
  },
  {
   "cell_type": "code",
   "execution_count": 208,
   "metadata": {},
   "outputs": [],
   "source": [
    "# imports\n",
    "import numpy as np\n",
    "import sys\n",
    "import math\n",
    "import time\n",
    "from solverFunctions import *"
   ]
  },
  {
   "cell_type": "code",
   "execution_count": 209,
   "metadata": {},
   "outputs": [],
   "source": [
    "# test grids\n",
    "emptySudoku = np.zeros((9,9))\n",
    "\n",
    "hardSudoku = np.zeros((9,9))\n",
    "hardSudoku[0,1] = 4\n",
    "hardSudoku[0,7] = 1\n",
    "hardSudoku[1,0] = 2\n",
    "hardSudoku[1,8] = 6\n",
    "hardSudoku[7,0] = 9\n",
    "hardSudoku[7,8] = 2\n",
    "hardSudoku[8,1] = 1\n",
    "hardSudoku[8,7] = 9\n",
    "\n",
    "sampleSudoku = np.array([[5, 3, 0, 0, 7, 0, 0, 0, 0],\n",
    "                         [6, 0, 0, 1, 9, 5, 0, 0, 0],\n",
    "                         [0, 9, 8, 0, 0, 0, 0, 6, 0],\n",
    "                         [8, 0, 0, 0, 6, 0, 0, 0, 3],\n",
    "                         [4, 0, 0, 8, 0, 3, 0, 0, 1],\n",
    "                         [7, 0, 0, 0, 2, 0, 0, 0, 6],\n",
    "                         [0, 6, 0, 0, 0, 0, 2, 8, 0],\n",
    "\n",
    "                         [0, 0, 0, 4, 1, 9, 0, 0, 5],\n",
    "                         [0, 0, 0, 0, 8, 0, 0, 7, 9]])"
   ]
  },
  {
   "cell_type": "code",
   "execution_count": 210,
   "metadata": {},
   "outputs": [],
   "source": [
    "numIs = 1\n",
    "\n",
    "squaresIdx = ([[0, 1, 2], [0, 1, 2]],\n",
    "              [[0, 1, 2], [3, 4, 5]],\n",
    "              [[0, 1, 2], [6, 7, 8]],\n",
    "              [[3, 4, 5], [0, 1, 2]],\n",
    "              [[3, 4, 5], [3, 4, 5]],\n",
    "              [[3, 4, 5], [6, 7, 8]],\n",
    "              [[6, 7, 8], [0, 1, 2]],\n",
    "              [[6, 7, 8], [3, 4, 5]],\n",
    "              [[6, 7, 8], [6, 7, 8]]\n",
    "             )\n",
    "\n",
    "allProbs = []\n",
    "allFrees = []\n",
    "allPoss = []\n",
    "for numProb in range(1,10):\n",
    "    probSquare = np.zeros((3,3))\n",
    "    intIdxR = 0\n",
    "    for rIdx in squaresIdx[6][0]:\n",
    "        intIdxC = 0;\n",
    "        for cIdx in squaresIdx[6][1]:\n",
    "            squareIdRow = getSquareID(rIdx)\n",
    "            squareIdCol = getSquareID(cIdx)\n",
    "            square = hardSudoku[squareIdRow: squareIdRow+3, squareIdCol:squareIdCol+3]\n",
    "            line = np.ndarray.flatten(square)\n",
    "            freeSpots =  len([i for i in line if i == 0])\n",
    "            if probabilityFunction(hardSudoku, rIdx, cIdx, numProb):\n",
    "                probSquare[intIdxR, intIdxC] = 1\n",
    "            intIdxC = intIdxC + 1\n",
    "        intIdxR = intIdxR + 1\n",
    "        \n",
    "    line = np.ndarray.flatten(probSquare)\n",
    "    possibilities =  len([i for i in line if i > 0])\n",
    "    allPoss.append(possibilities)\n",
    "    allProbs.append(probSquare)\n",
    "    allFrees.append(freeSpots)"
   ]
  },
  {
   "cell_type": "markdown",
   "metadata": {},
   "source": [
    "For this square, the number 2 is the onr that can has less possible available spots. Now let's try to get all possible filled up squares that filled up this space respecting the existing constraints."
   ]
  },
  {
   "cell_type": "code",
   "execution_count": 211,
   "metadata": {},
   "outputs": [
    {
     "name": "stdout",
     "output_type": "stream",
     "text": [
      "1560\n",
      "done\n"
     ]
    }
   ],
   "source": [
    "from itertools import permutations \n",
    "\n",
    "# Get all permutations 1-9\n",
    "perm = list(permutations(list(range(1,10))))\n",
    "\n",
    "keepPerm = []\n",
    "for i in perm:\n",
    "    if i[3] == 9 and i[7] == 1 and not i[0] == 2 and not i[4] == 2 and not i[5] == 2 and not i[6] == 2 and not i[1] == 4 and not i[4] == 4:\n",
    "        keepPerm.append(i)\n",
    "\n",
    "print(len(keepPerm))\n",
    "\n",
    "print('done')"
   ]
  },
  {
   "cell_type": "markdown",
   "metadata": {},
   "source": [
    "Generalize function to give number of possible square arrangements"
   ]
  },
  {
   "cell_type": "code",
   "execution_count": 214,
   "metadata": {},
   "outputs": [],
   "source": [
    "# wrapper to call all the the check funcitons\n",
    "# copy of the existing one but supppressing prints\n",
    "def validateGrid(grid):\n",
    "    if not grid.shape == (9,9):\n",
    "        return(False)\n",
    "    rows = all(np.apply_along_axis(lineCheck, 0, grid))\n",
    "    cols = all(np.apply_along_axis(lineCheck, 1, grid))\n",
    "    if( not rows or not cols):\n",
    "        return(False)\n",
    "    gridCoord = [0,3,6]\n",
    "    checkSquareRes = []\n",
    "    for i in gridCoord:\n",
    "        for ii in gridCoord:\n",
    "            square = grid[i:i+3, ii:ii+3]\n",
    "            checkSquareRes = np.append(checkSquareRes, checkSquare(square))\n",
    "            \n",
    "    \n",
    "    checkSquareRes = all(checkSquareRes)\n",
    "    if( not checkSquareRes):\n",
    "        return(False)\n",
    "    \n",
    "    return(True)\n",
    "\n",
    "def getNArrang(grid, selSquare):\n",
    "    squaresIdx = ([[0, 1, 2], [0, 1, 2]],\n",
    "                  [[0, 1, 2], [3, 4, 5]],\n",
    "                  [[0, 1, 2], [6, 7, 8]],\n",
    "                  [[3, 4, 5], [0, 1, 2]],\n",
    "                  [[3, 4, 5], [3, 4, 5]],\n",
    "                  [[3, 4, 5], [6, 7, 8]],\n",
    "                  [[6, 7, 8], [0, 1, 2]],\n",
    "                  [[6, 7, 8], [3, 4, 5]],\n",
    "                  [[6, 7, 8], [6, 7, 8]]\n",
    "             )\n",
    "\n",
    "    # Get all permutations 1-9\n",
    "    perm = list(permutations(list(range(1,10))))\n",
    "    \n",
    "    squareIdRow = getSquareID(squaresIdx[selSquare][0][0])\n",
    "    squareIdCol = getSquareID(squaresIdx[selSquare][1][0])\n",
    "    square = grid[squareIdRow: squareIdRow+3, squareIdCol:squareIdCol+3]\n",
    "    line = np.ndarray.flatten(square)\n",
    "    freeSpots =  len([i for i in line if i == 0])      \n",
    "                \n",
    "    #if(freeSpots == 9):\n",
    "    #    return(perm)\n",
    "    if (freeSpots == 0):\n",
    "        return([])\n",
    "    \n",
    "    \n",
    "    allProbs = []\n",
    "    allFrees = []\n",
    "    allPoss = []\n",
    "    for numProb in range(1,10):\n",
    "        probSquare = np.zeros((3,3))\n",
    "        intIdxR = 0\n",
    "        for rIdx in squaresIdx[selSquare][0]:\n",
    "            intIdxC = 0;\n",
    "            for cIdx in squaresIdx[selSquare][1]:              \n",
    "                if probabilityFunction(grid, rIdx, cIdx, numProb):\n",
    "                    probSquare[intIdxR, intIdxC] = 1\n",
    "                intIdxC = intIdxC + 1\n",
    "            intIdxR = intIdxR + 1      \n",
    "        line = np.ndarray.flatten(probSquare)\n",
    "        possibilities =  len([i for i in line if i > 0])\n",
    "        allPoss.append(possibilities)\n",
    "        allProbs.append(probSquare)\n",
    "        allFrees.append(freeSpots)\n",
    "    \n",
    "    #get the first minimum values\n",
    "    minVal = min(i for i in allPoss if i > 0)\n",
    "    minPos = allPoss.index(minVal)\n",
    "    triedNumb = minPos + 1\n",
    "    probGrid = allProbs[minPos]\n",
    "    probGrid[probGrid == 1] = triedNumb\n",
    "\n",
    "    keepPerm = []\n",
    "    line = np.ndarray.flatten(square)\n",
    "    for i in perm:\n",
    "        #use only permutations where existing numbers are where they are in the original square \n",
    "        diff = np.asarray(line)-np.asarray(i)\n",
    "        inters = np.where(diff == 0)\n",
    "        #how many numbers we have in origna grid\n",
    "        fixedPos = 9 - freeSpots\n",
    "        if len(inters[0]) == fixedPos: # only intersect the numbers we already have. All of them\n",
    "            #keep only permutaitons where our number is in the desired positions\n",
    "            \n",
    "            diff = np.asarray(np.ndarray.flatten(probGrid))-np.asarray(i)\n",
    "            inters = np.where(diff == 0)\n",
    "            if len(inters[0]) == 1:  \n",
    "                #we still need to eliminate permutations were a number ends up in\n",
    "                #a row or columkn forbidden by the remaining\n",
    "                #of the grid. Easiset way is to put the permutation in the main grid and check with\n",
    "                #validateGrid()\n",
    "                tempGrid = grid.copy()\n",
    "                tempGrid[squareIdRow: squareIdRow+3, squareIdCol:squareIdCol+3] = np.asarray(i).reshape(3,3)\n",
    "                if validateGrid(tempGrid):\n",
    "                    keepPerm.append(i)\n",
    "\n",
    "    return(keepPerm)"
   ]
  },
  {
   "cell_type": "code",
   "execution_count": 215,
   "metadata": {},
   "outputs": [
    {
     "name": "stdout",
     "output_type": "stream",
     "text": [
      "1560\n"
     ]
    }
   ],
   "source": [
    "keepPerm = getNArrang(hardSudoku, 6)\n",
    "print(len(keepPerm))"
   ]
  },
  {
   "cell_type": "code",
   "execution_count": 216,
   "metadata": {
    "scrolled": false
   },
   "outputs": [
    {
     "ename": "KeyboardInterrupt",
     "evalue": "",
     "output_type": "error",
     "traceback": [
      "\u001b[1;31m---------------------------------------------------------------------------\u001b[0m",
      "\u001b[1;31mKeyboardInterrupt\u001b[0m                         Traceback (most recent call last)",
      "\u001b[1;32m<ipython-input-216-3a87287b6b1a>\u001b[0m in \u001b[0;36m<module>\u001b[1;34m\u001b[0m\n\u001b[0;32m      2\u001b[0m \u001b[0mallPerms\u001b[0m \u001b[1;33m=\u001b[0m \u001b[1;33m[\u001b[0m\u001b[1;33m]\u001b[0m\u001b[1;33m\u001b[0m\u001b[1;33m\u001b[0m\u001b[0m\n\u001b[0;32m      3\u001b[0m \u001b[1;32mfor\u001b[0m \u001b[0mi\u001b[0m \u001b[1;32min\u001b[0m \u001b[0mrange\u001b[0m\u001b[1;33m(\u001b[0m\u001b[1;36m0\u001b[0m\u001b[1;33m,\u001b[0m\u001b[1;36m9\u001b[0m\u001b[1;33m)\u001b[0m\u001b[1;33m:\u001b[0m\u001b[1;33m\u001b[0m\u001b[1;33m\u001b[0m\u001b[0m\n\u001b[1;32m----> 4\u001b[1;33m     \u001b[0mkeepPerm\u001b[0m \u001b[1;33m=\u001b[0m \u001b[0mgetNArrang\u001b[0m\u001b[1;33m(\u001b[0m\u001b[0mhardSudoku\u001b[0m\u001b[1;33m,\u001b[0m \u001b[0mi\u001b[0m\u001b[1;33m)\u001b[0m\u001b[1;33m\u001b[0m\u001b[1;33m\u001b[0m\u001b[0m\n\u001b[0m\u001b[0;32m      5\u001b[0m     \u001b[0mallPerms\u001b[0m\u001b[1;33m.\u001b[0m\u001b[0mappend\u001b[0m\u001b[1;33m(\u001b[0m\u001b[0mlen\u001b[0m\u001b[1;33m(\u001b[0m\u001b[0mkeepPerm\u001b[0m\u001b[1;33m)\u001b[0m\u001b[1;33m)\u001b[0m\u001b[1;33m\u001b[0m\u001b[1;33m\u001b[0m\u001b[0m\n\u001b[0;32m      6\u001b[0m \u001b[1;33m\u001b[0m\u001b[0m\n",
      "\u001b[1;32m<ipython-input-214-a505525ae9d4>\u001b[0m in \u001b[0;36mgetNArrang\u001b[1;34m(grid, selSquare)\u001b[0m\n\u001b[0;32m     95\u001b[0m                 \u001b[0mtempGrid\u001b[0m \u001b[1;33m=\u001b[0m \u001b[0mgrid\u001b[0m\u001b[1;33m.\u001b[0m\u001b[0mcopy\u001b[0m\u001b[1;33m(\u001b[0m\u001b[1;33m)\u001b[0m\u001b[1;33m\u001b[0m\u001b[1;33m\u001b[0m\u001b[0m\n\u001b[0;32m     96\u001b[0m                 \u001b[0mtempGrid\u001b[0m\u001b[1;33m[\u001b[0m\u001b[0msquareIdRow\u001b[0m\u001b[1;33m:\u001b[0m \u001b[0msquareIdRow\u001b[0m\u001b[1;33m+\u001b[0m\u001b[1;36m3\u001b[0m\u001b[1;33m,\u001b[0m \u001b[0msquareIdCol\u001b[0m\u001b[1;33m:\u001b[0m\u001b[0msquareIdCol\u001b[0m\u001b[1;33m+\u001b[0m\u001b[1;36m3\u001b[0m\u001b[1;33m]\u001b[0m \u001b[1;33m=\u001b[0m \u001b[0mnp\u001b[0m\u001b[1;33m.\u001b[0m\u001b[0masarray\u001b[0m\u001b[1;33m(\u001b[0m\u001b[0mi\u001b[0m\u001b[1;33m)\u001b[0m\u001b[1;33m.\u001b[0m\u001b[0mreshape\u001b[0m\u001b[1;33m(\u001b[0m\u001b[1;36m3\u001b[0m\u001b[1;33m,\u001b[0m\u001b[1;36m3\u001b[0m\u001b[1;33m)\u001b[0m\u001b[1;33m\u001b[0m\u001b[1;33m\u001b[0m\u001b[0m\n\u001b[1;32m---> 97\u001b[1;33m                 \u001b[1;32mif\u001b[0m \u001b[0mvalidateGrid\u001b[0m\u001b[1;33m(\u001b[0m\u001b[0mtempGrid\u001b[0m\u001b[1;33m)\u001b[0m\u001b[1;33m:\u001b[0m\u001b[1;33m\u001b[0m\u001b[1;33m\u001b[0m\u001b[0m\n\u001b[0m\u001b[0;32m     98\u001b[0m                     \u001b[0mkeepPerm\u001b[0m\u001b[1;33m.\u001b[0m\u001b[0mappend\u001b[0m\u001b[1;33m(\u001b[0m\u001b[0mi\u001b[0m\u001b[1;33m)\u001b[0m\u001b[1;33m\u001b[0m\u001b[1;33m\u001b[0m\u001b[0m\n\u001b[0;32m     99\u001b[0m \u001b[1;33m\u001b[0m\u001b[0m\n",
      "\u001b[1;32m<ipython-input-214-a505525ae9d4>\u001b[0m in \u001b[0;36mvalidateGrid\u001b[1;34m(grid)\u001b[0m\n\u001b[0;32m     13\u001b[0m         \u001b[1;32mfor\u001b[0m \u001b[0mii\u001b[0m \u001b[1;32min\u001b[0m \u001b[0mgridCoord\u001b[0m\u001b[1;33m:\u001b[0m\u001b[1;33m\u001b[0m\u001b[1;33m\u001b[0m\u001b[0m\n\u001b[0;32m     14\u001b[0m             \u001b[0msquare\u001b[0m \u001b[1;33m=\u001b[0m \u001b[0mgrid\u001b[0m\u001b[1;33m[\u001b[0m\u001b[0mi\u001b[0m\u001b[1;33m:\u001b[0m\u001b[0mi\u001b[0m\u001b[1;33m+\u001b[0m\u001b[1;36m3\u001b[0m\u001b[1;33m,\u001b[0m \u001b[0mii\u001b[0m\u001b[1;33m:\u001b[0m\u001b[0mii\u001b[0m\u001b[1;33m+\u001b[0m\u001b[1;36m3\u001b[0m\u001b[1;33m]\u001b[0m\u001b[1;33m\u001b[0m\u001b[1;33m\u001b[0m\u001b[0m\n\u001b[1;32m---> 15\u001b[1;33m             \u001b[0mcheckSquareRes\u001b[0m \u001b[1;33m=\u001b[0m \u001b[0mnp\u001b[0m\u001b[1;33m.\u001b[0m\u001b[0mappend\u001b[0m\u001b[1;33m(\u001b[0m\u001b[0mcheckSquareRes\u001b[0m\u001b[1;33m,\u001b[0m \u001b[0mcheckSquare\u001b[0m\u001b[1;33m(\u001b[0m\u001b[0msquare\u001b[0m\u001b[1;33m)\u001b[0m\u001b[1;33m)\u001b[0m\u001b[1;33m\u001b[0m\u001b[1;33m\u001b[0m\u001b[0m\n\u001b[0m\u001b[0;32m     16\u001b[0m \u001b[1;33m\u001b[0m\u001b[0m\n\u001b[0;32m     17\u001b[0m \u001b[1;33m\u001b[0m\u001b[0m\n",
      "\u001b[1;32m<__array_function__ internals>\u001b[0m in \u001b[0;36mappend\u001b[1;34m(*args, **kwargs)\u001b[0m\n",
      "\u001b[1;32m~\\AppData\\Local\\Continuum\\miniconda3\\lib\\site-packages\\numpy\\lib\\function_base.py\u001b[0m in \u001b[0;36mappend\u001b[1;34m(arr, values, axis)\u001b[0m\n\u001b[0;32m   4691\u001b[0m         \u001b[0mvalues\u001b[0m \u001b[1;33m=\u001b[0m \u001b[0mravel\u001b[0m\u001b[1;33m(\u001b[0m\u001b[0mvalues\u001b[0m\u001b[1;33m)\u001b[0m\u001b[1;33m\u001b[0m\u001b[1;33m\u001b[0m\u001b[0m\n\u001b[0;32m   4692\u001b[0m         \u001b[0maxis\u001b[0m \u001b[1;33m=\u001b[0m \u001b[0marr\u001b[0m\u001b[1;33m.\u001b[0m\u001b[0mndim\u001b[0m\u001b[1;33m-\u001b[0m\u001b[1;36m1\u001b[0m\u001b[1;33m\u001b[0m\u001b[1;33m\u001b[0m\u001b[0m\n\u001b[1;32m-> 4693\u001b[1;33m     \u001b[1;32mreturn\u001b[0m \u001b[0mconcatenate\u001b[0m\u001b[1;33m(\u001b[0m\u001b[1;33m(\u001b[0m\u001b[0marr\u001b[0m\u001b[1;33m,\u001b[0m \u001b[0mvalues\u001b[0m\u001b[1;33m)\u001b[0m\u001b[1;33m,\u001b[0m \u001b[0maxis\u001b[0m\u001b[1;33m=\u001b[0m\u001b[0maxis\u001b[0m\u001b[1;33m)\u001b[0m\u001b[1;33m\u001b[0m\u001b[1;33m\u001b[0m\u001b[0m\n\u001b[0m\u001b[0;32m   4694\u001b[0m \u001b[1;33m\u001b[0m\u001b[0m\n\u001b[0;32m   4695\u001b[0m \u001b[1;33m\u001b[0m\u001b[0m\n",
      "\u001b[1;32m<__array_function__ internals>\u001b[0m in \u001b[0;36mconcatenate\u001b[1;34m(*args, **kwargs)\u001b[0m\n",
      "\u001b[1;31mKeyboardInterrupt\u001b[0m: "
     ]
    }
   ],
   "source": [
    "#get the number of poss for each square\n",
    "allPerms = []\n",
    "for i in range(0,9):\n",
    "    keepPerm = getNArrang(hardSudoku, i)\n",
    "    allPerms.append(len(keepPerm))\n",
    "    \n",
    "print(allPerms)"
   ]
  },
  {
   "cell_type": "markdown",
   "metadata": {},
   "source": [
    "If it still cannot be solved, we keep with the brute force approach: replace the identified grid with on possibility, and restart from the beginning."
   ]
  },
  {
   "cell_type": "code",
   "execution_count": 193,
   "metadata": {},
   "outputs": [
    {
     "name": "stdout",
     "output_type": "stream",
     "text": [
      "0\n"
     ]
    }
   ],
   "source": [
    "b = hardSudoku.copy()\n",
    "\n",
    "keepPerm = getNArrang(hardSudoku, 6)\n",
    "b[6:9, 0:3] = np.asarray(keepPerm[0]).reshape((3,3))\n",
    "keepPerm = getNArrang(b, 0)\n",
    "b[0:3, 0:3] = np.asarray(keepPerm[0]).reshape((3,3))\n",
    "keepPerm = getNArrang(b, 2)\n",
    "b[0:3, 6:9] = np.asarray(keepPerm[0]).reshape((3,3))\n",
    "keepPerm = getNArrang(b, 8)\n",
    "b[6:9, 6:9] = np.asarray(keepPerm[0]).reshape((3,3))\n",
    "keepPerm = getNArrang(b, 1)\n",
    "b[0:3, 3:6] = np.asarray(keepPerm[0]).reshape((3,3))\n",
    "keepPerm = getNArrang(b, 3)\n",
    "b[3:6, 0:3] = np.asarray(keepPerm[0]).reshape((3,3))\n",
    "keepPerm = getNArrang(b, 5)\n",
    "b[3:6, 6:9] = np.asarray(keepPerm[0]).reshape((3,3))\n",
    "keepPerm = getNArrang(b, 7)\n",
    "b[6:9, 3:6] = np.asarray(keepPerm[0]).reshape((3,3))\n",
    "keepPerm = getNArrang(b, 4)\n",
    "print(len(keepPerm))"
   ]
  },
  {
   "cell_type": "markdown",
   "metadata": {},
   "source": [
    "We need to make the above a loop with nested for's until it is solved, but first let's see if we can vectorize or speed up things anyway."
   ]
  },
  {
   "cell_type": "code",
   "execution_count": 237,
   "metadata": {},
   "outputs": [],
   "source": [
    "def getNArrangFast(grid, selSquare):\n",
    "    squaresIdx = ([[0, 1, 2], [0, 1, 2]],\n",
    "                  [[0, 1, 2], [3, 4, 5]],\n",
    "                  [[0, 1, 2], [6, 7, 8]],\n",
    "                  [[3, 4, 5], [0, 1, 2]],\n",
    "                  [[3, 4, 5], [3, 4, 5]],\n",
    "                  [[3, 4, 5], [6, 7, 8]],\n",
    "                  [[6, 7, 8], [0, 1, 2]],\n",
    "                  [[6, 7, 8], [3, 4, 5]],\n",
    "                  [[6, 7, 8], [6, 7, 8]]\n",
    "             )\n",
    "\n",
    "    # Get all permutations 1-9\n",
    "    perm = list(permutations(list(range(1,10))))\n",
    "    \n",
    "    squareIdRow = getSquareID(squaresIdx[selSquare][0][0])\n",
    "    squareIdCol = getSquareID(squaresIdx[selSquare][1][0])\n",
    "    square = grid[squareIdRow: squareIdRow+3, squareIdCol:squareIdCol+3]\n",
    "    line = np.ndarray.flatten(square)\n",
    "    freeSpots =  len([i for i in line if i == 0])      \n",
    "                \n",
    "    if (freeSpots == 0):\n",
    "        return([])\n",
    "    \n",
    "    \n",
    "    allProbs = []\n",
    "    allFrees = []\n",
    "    allPoss = []\n",
    "    for numProb in range(1,10):\n",
    "        probSquare = np.zeros((3,3))\n",
    "        intIdxR = 0\n",
    "        for rIdx in squaresIdx[selSquare][0]:\n",
    "            intIdxC = 0;\n",
    "            for cIdx in squaresIdx[selSquare][1]:              \n",
    "                if probabilityFunction(grid, rIdx, cIdx, numProb):\n",
    "                    probSquare[intIdxR, intIdxC] = 1\n",
    "                intIdxC = intIdxC + 1\n",
    "            intIdxR = intIdxR + 1      \n",
    "        line = np.ndarray.flatten(probSquare)\n",
    "        possibilities =  len([i for i in line if i > 0])\n",
    "        allPoss.append(possibilities)\n",
    "        allProbs.append(probSquare)\n",
    "        allFrees.append(freeSpots)\n",
    "    \n",
    "    #get the first minimum values\n",
    "    minVal = min(i for i in allPoss if i > 0)\n",
    "    minPos = allPoss.index(minVal)\n",
    "    triedNumb = minPos + 1\n",
    "    probGrid = allProbs[minPos]\n",
    "    probGrid[probGrid == 1] = triedNumb\n",
    "\n",
    "    keepPerm = []\n",
    "    line = np.ndarray.flatten(square)\n",
    "    for i in perm:\n",
    "        #use only permutations where existing numbers are where they are in the original square \n",
    "        diff = np.asarray(line)-np.asarray(i)\n",
    "        inters = np.where(diff == 0)\n",
    "        #how many numbers we have in origna grid\n",
    "        fixedPos = 9 - freeSpots\n",
    "        if len(inters[0]) == fixedPos: # only intersect the numbers we already have. All of them\n",
    "            #keep only permutaitons where our number is in the desired positions\n",
    "            \n",
    "            diff = np.asarray(np.ndarray.flatten(probGrid))-np.asarray(i)\n",
    "            inters = np.where(diff == 0)\n",
    "            if len(inters[0]) == 1:  \n",
    "                #we still need to eliminate permutations were a number ends up in\n",
    "                #a row or columkn forbidden by the remaining\n",
    "                #of the grid. Easiset way is to put the permutation in the main grid and check with\n",
    "                #validateGrid()\n",
    "                # this is slow. might be faster to remove it entirely\n",
    "                tempGrid = grid.copy()\n",
    "                tempGrid[squareIdRow: squareIdRow+3, squareIdCol:squareIdCol+3] = np.asarray(i).reshape(3,3)\n",
    "                if validateGrid(tempGrid):\n",
    "                    keepPerm.append(i)\n",
    "\n",
    "    return('keepPerm')"
   ]
  },
  {
   "cell_type": "code",
   "execution_count": 238,
   "metadata": {},
   "outputs": [
    {
     "data": {
      "text/plain": [
       "'keepPerm'"
      ]
     },
     "execution_count": 238,
     "metadata": {},
     "output_type": "execute_result"
    }
   ],
   "source": [
    "getNArrangFast(hardSudoku, 1)"
   ]
  },
  {
   "cell_type": "code",
   "execution_count": 234,
   "metadata": {},
   "outputs": [
    {
     "ename": "SyntaxError",
     "evalue": "invalid syntax (<ipython-input-234-7c1471f213fd>, line 8)",
     "output_type": "error",
     "traceback": [
      "\u001b[1;36m  File \u001b[1;32m\"<ipython-input-234-7c1471f213fd>\"\u001b[1;36m, line \u001b[1;32m8\u001b[0m\n\u001b[1;33m    a = np.apply_along_axis(==0, 1, keepPerm)\u001b[0m\n\u001b[1;37m                             ^\u001b[0m\n\u001b[1;31mSyntaxError\u001b[0m\u001b[1;31m:\u001b[0m invalid syntax\n"
     ]
    }
   ],
   "source": [
    "perm = list(permutations(list(range(1,10))))\n",
    "lenPerm = int(len(perm)/9)\n",
    "perm = np.asarray(perm)\n",
    "print(perm.shape)\n",
    "line = np.ndarray.flatten(hardSudoku[0:3,6:9])\n",
    "nVal = len([i for i in line if i > 0])\n",
    "keepPerm = perm-line\n",
    "\n"
   ]
  },
  {
   "cell_type": "code",
   "execution_count": 226,
   "metadata": {},
   "outputs": [
    {
     "data": {
      "text/plain": [
       "40320.0"
      ]
     },
     "execution_count": 226,
     "metadata": {},
     "output_type": "execute_result"
    }
   ],
   "source": [
    "362880/9"
   ]
  },
  {
   "cell_type": "code",
   "execution_count": null,
   "metadata": {},
   "outputs": [],
   "source": []
  }
 ],
 "metadata": {
  "kernelspec": {
   "display_name": "Python 3",
   "language": "python",
   "name": "python3"
  },
  "language_info": {
   "codemirror_mode": {
    "name": "ipython",
    "version": 3
   },
   "file_extension": ".py",
   "mimetype": "text/x-python",
   "name": "python",
   "nbconvert_exporter": "python",
   "pygments_lexer": "ipython3",
   "version": "3.6.8"
  }
 },
 "nbformat": 4,
 "nbformat_minor": 2
}
