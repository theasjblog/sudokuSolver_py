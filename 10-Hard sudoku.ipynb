{
 "cells": [
  {
   "cell_type": "markdown",
   "metadata": {},
   "source": [
    "This is to solve non trivial sudoku, i.e. the ones that cannot be soleved by simply follow the column/row/grid rules, but where we need to implement some more clever logic.\n",
    "\n",
    "The idea is to get the probability of a number going in a specific position, guess it and then use a brute force approach"
   ]
  },
  {
   "cell_type": "code",
   "execution_count": 2,
   "metadata": {},
   "outputs": [],
   "source": [
    "# imports\n",
    "from itertools import permutations, combinations\n",
    "import numpy as np\n",
    "import sys\n",
    "import math\n",
    "import time\n",
    "from solverFunctions import *"
   ]
  },
  {
   "cell_type": "code",
   "execution_count": 15,
   "metadata": {},
   "outputs": [],
   "source": [
    "# test grids\n",
    "emptySudoku = np.zeros((9,9))\n",
    "\n",
    "hardSudoku = np.zeros((9,9))\n",
    "hardSudoku[0,1] = 4\n",
    "hardSudoku[0,7] = 1\n",
    "hardSudoku[1,0] = 2\n",
    "hardSudoku[1,8] = 6\n",
    "hardSudoku[7,0] = 9\n",
    "hardSudoku[7,8] = 2\n",
    "hardSudoku[8,1] = 1\n",
    "hardSudoku[8,7] = 9\n",
    "\n",
    "sampleSudoku = np.array([[5, 3, 0, 0, 7, 0, 0, 0, 0],\n",
    "                         [6, 0, 0, 1, 9, 5, 0, 0, 0],\n",
    "                         [0, 9, 8, 0, 0, 0, 0, 6, 0],\n",
    "                         [8, 0, 0, 0, 6, 0, 0, 0, 3],\n",
    "                         [4, 0, 0, 8, 0, 3, 0, 0, 1],\n",
    "                         [7, 0, 0, 0, 2, 0, 0, 0, 6],\n",
    "                         [0, 6, 0, 0, 0, 0, 2, 8, 0],\n",
    "                         [0, 0, 0, 4, 1, 9, 0, 0, 5],\n",
    "                         [0, 0, 0, 0, 8, 0, 0, 7, 9]])"
   ]
  },
  {
   "cell_type": "code",
   "execution_count": 210,
   "metadata": {},
   "outputs": [],
   "source": [
    "numIs = 1\n",
    "\n",
    "squaresIdx = ([[0, 1, 2], [0, 1, 2]],\n",
    "              [[0, 1, 2], [3, 4, 5]],\n",
    "              [[0, 1, 2], [6, 7, 8]],\n",
    "              [[3, 4, 5], [0, 1, 2]],\n",
    "              [[3, 4, 5], [3, 4, 5]],\n",
    "              [[3, 4, 5], [6, 7, 8]],\n",
    "              [[6, 7, 8], [0, 1, 2]],\n",
    "              [[6, 7, 8], [3, 4, 5]],\n",
    "              [[6, 7, 8], [6, 7, 8]]\n",
    "             )\n",
    "\n",
    "allProbs = []\n",
    "allFrees = []\n",
    "allPoss = []\n",
    "for numProb in range(1,10):\n",
    "    probSquare = np.zeros((3,3))\n",
    "    intIdxR = 0\n",
    "    for rIdx in squaresIdx[6][0]:\n",
    "        intIdxC = 0;\n",
    "        for cIdx in squaresIdx[6][1]:\n",
    "            squareIdRow = getSquareID(rIdx)\n",
    "            squareIdCol = getSquareID(cIdx)\n",
    "            square = hardSudoku[squareIdRow: squareIdRow+3, squareIdCol:squareIdCol+3]\n",
    "            line = np.ndarray.flatten(square)\n",
    "            freeSpots =  len([i for i in line if i == 0])\n",
    "            if probabilityFunction(hardSudoku, rIdx, cIdx, numProb):\n",
    "                probSquare[intIdxR, intIdxC] = 1\n",
    "            intIdxC = intIdxC + 1\n",
    "        intIdxR = intIdxR + 1\n",
    "        \n",
    "    line = np.ndarray.flatten(probSquare)\n",
    "    possibilities =  len([i for i in line if i > 0])\n",
    "    allPoss.append(possibilities)\n",
    "    allProbs.append(probSquare)\n",
    "    allFrees.append(freeSpots)"
   ]
  },
  {
   "cell_type": "markdown",
   "metadata": {},
   "source": [
    "For this square, the number 2 is the onr that can has less possible available spots. Now let's try to get all possible filled up squares that filled up this space respecting the existing constraints."
   ]
  },
  {
   "cell_type": "code",
   "execution_count": 4,
   "metadata": {},
   "outputs": [
    {
     "name": "stdout",
     "output_type": "stream",
     "text": [
      "84\n",
      "1560\n",
      "done\n"
     ]
    }
   ],
   "source": [
    "# Get all permutations 1-9\n",
    "perm = list(permutations(list(range(1,10))))\n",
    "keepPerm = []\n",
    "for i in perm:\n",
    "    if i[3] == 9 and i[7] == 1 and not i[0] == 2 and not i[4] == 2 and not i[5] == 2 and not i[6] == 2 and not i[1] == 4 and not i[4] == 4:\n",
    "        keepPerm.append(i)\n",
    "\n",
    "print(len(keepPerm))\n",
    "\n",
    "print('done')"
   ]
  },
  {
   "cell_type": "markdown",
   "metadata": {},
   "source": [
    "Generalize function to give number of possible square arrangements"
   ]
  },
  {
   "cell_type": "code",
   "execution_count": 16,
   "metadata": {},
   "outputs": [],
   "source": [
    "def getNArrang(grid, selSquare):\n",
    "    squaresIdx = ([[0, 1, 2], [0, 1, 2]],\n",
    "                  [[0, 1, 2], [3, 4, 5]],\n",
    "                  [[0, 1, 2], [6, 7, 8]],\n",
    "                  [[3, 4, 5], [0, 1, 2]],\n",
    "                  [[3, 4, 5], [3, 4, 5]],\n",
    "                  [[3, 4, 5], [6, 7, 8]],\n",
    "                  [[6, 7, 8], [0, 1, 2]],\n",
    "                  [[6, 7, 8], [3, 4, 5]],\n",
    "                  [[6, 7, 8], [6, 7, 8]]\n",
    "             )\n",
    "\n",
    "    # Get all permutations 1-9\n",
    "    perm = list(permutations(list(range(1,10))))\n",
    "    \n",
    "    squareIdRow = getSquareID(squaresIdx[selSquare][0][0])\n",
    "    squareIdCol = getSquareID(squaresIdx[selSquare][1][0])\n",
    "    square = grid[squareIdRow: squareIdRow+3, squareIdCol:squareIdCol+3]\n",
    "    line = np.ndarray.flatten(square)\n",
    "    freeSpots =  len([i for i in line if i == 0])      \n",
    "                \n",
    "    if (freeSpots == 0):\n",
    "        return([])\n",
    "    \n",
    "    \n",
    "    allProbs = []\n",
    "    allFrees = []\n",
    "    allPoss = []\n",
    "    for numProb in range(1,10):\n",
    "        probSquare = np.zeros((3,3))\n",
    "        intIdxR = 0\n",
    "        for rIdx in squaresIdx[selSquare][0]:\n",
    "            intIdxC = 0;\n",
    "            for cIdx in squaresIdx[selSquare][1]:              \n",
    "                if probabilityFunction(grid, rIdx, cIdx, numProb):\n",
    "                    probSquare[intIdxR, intIdxC] = 1\n",
    "                intIdxC = intIdxC + 1\n",
    "            intIdxR = intIdxR + 1      \n",
    "        line = np.ndarray.flatten(probSquare)\n",
    "        possibilities =  len([i for i in line if i > 0])\n",
    "        allPoss.append(possibilities)\n",
    "        allProbs.append(probSquare)\n",
    "        allFrees.append(freeSpots)\n",
    "    \n",
    "    #get the first minimum values\n",
    "    minVal = min(i for i in allPoss if i > 0)\n",
    "    minPos = allPoss.index(minVal)\n",
    "    triedNumb = minPos + 1\n",
    "    probGrid = allProbs[minPos]\n",
    "    probGrid[probGrid == 1] = triedNumb\n",
    "\n",
    "    keepPerm = []\n",
    "    line = np.ndarray.flatten(square)\n",
    "    for i in perm:\n",
    "        #use only permutations where existing numbers are where they are in the original square \n",
    "        diff = np.asarray(line)-np.asarray(i)\n",
    "        inters = np.where(diff == 0)\n",
    "        #how many numbers we have in origna grid\n",
    "        fixedPos = 9 - freeSpots\n",
    "        if len(inters[0]) == fixedPos: # only intersect the numbers we already have. All of them\n",
    "            #keep only permutaitons where our number is in the desired positions\n",
    "            \n",
    "            diff = np.asarray(np.ndarray.flatten(probGrid))-np.asarray(i)\n",
    "            inters = np.where(diff == 0)\n",
    "            if len(inters[0]) == 1:  \n",
    "                #we still need to eliminate permutations were a number ends up in\n",
    "                #a row or columkn forbidden by the remaining\n",
    "                #of the grid. Easiset way is to put the permutation in the main grid and check with\n",
    "                #validateGrid()\n",
    "                tempGrid = grid.copy()\n",
    "                tempGrid[squareIdRow: squareIdRow+3, squareIdCol:squareIdCol+3] = np.asarray(i).reshape(3,3)\n",
    "                if validateGrid(tempGrid):\n",
    "                    keepPerm.append(i)\n",
    "\n",
    "    return(keepPerm)"
   ]
  },
  {
   "cell_type": "code",
   "execution_count": 8,
   "metadata": {},
   "outputs": [
    {
     "name": "stdout",
     "output_type": "stream",
     "text": [
      "1560\n"
     ]
    }
   ],
   "source": [
    "keepPerm = getNArrang(hardSudoku, 6)\n",
    "print(len(keepPerm))"
   ]
  },
  {
   "cell_type": "code",
   "execution_count": 216,
   "metadata": {
    "scrolled": false
   },
   "outputs": [
    {
     "ename": "KeyboardInterrupt",
     "evalue": "",
     "output_type": "error",
     "traceback": [
      "\u001b[1;31m---------------------------------------------------------------------------\u001b[0m",
      "\u001b[1;31mKeyboardInterrupt\u001b[0m                         Traceback (most recent call last)",
      "\u001b[1;32m<ipython-input-216-3a87287b6b1a>\u001b[0m in \u001b[0;36m<module>\u001b[1;34m\u001b[0m\n\u001b[0;32m      2\u001b[0m \u001b[0mallPerms\u001b[0m \u001b[1;33m=\u001b[0m \u001b[1;33m[\u001b[0m\u001b[1;33m]\u001b[0m\u001b[1;33m\u001b[0m\u001b[1;33m\u001b[0m\u001b[0m\n\u001b[0;32m      3\u001b[0m \u001b[1;32mfor\u001b[0m \u001b[0mi\u001b[0m \u001b[1;32min\u001b[0m \u001b[0mrange\u001b[0m\u001b[1;33m(\u001b[0m\u001b[1;36m0\u001b[0m\u001b[1;33m,\u001b[0m\u001b[1;36m9\u001b[0m\u001b[1;33m)\u001b[0m\u001b[1;33m:\u001b[0m\u001b[1;33m\u001b[0m\u001b[1;33m\u001b[0m\u001b[0m\n\u001b[1;32m----> 4\u001b[1;33m     \u001b[0mkeepPerm\u001b[0m \u001b[1;33m=\u001b[0m \u001b[0mgetNArrang\u001b[0m\u001b[1;33m(\u001b[0m\u001b[0mhardSudoku\u001b[0m\u001b[1;33m,\u001b[0m \u001b[0mi\u001b[0m\u001b[1;33m)\u001b[0m\u001b[1;33m\u001b[0m\u001b[1;33m\u001b[0m\u001b[0m\n\u001b[0m\u001b[0;32m      5\u001b[0m     \u001b[0mallPerms\u001b[0m\u001b[1;33m.\u001b[0m\u001b[0mappend\u001b[0m\u001b[1;33m(\u001b[0m\u001b[0mlen\u001b[0m\u001b[1;33m(\u001b[0m\u001b[0mkeepPerm\u001b[0m\u001b[1;33m)\u001b[0m\u001b[1;33m)\u001b[0m\u001b[1;33m\u001b[0m\u001b[1;33m\u001b[0m\u001b[0m\n\u001b[0;32m      6\u001b[0m \u001b[1;33m\u001b[0m\u001b[0m\n",
      "\u001b[1;32m<ipython-input-214-a505525ae9d4>\u001b[0m in \u001b[0;36mgetNArrang\u001b[1;34m(grid, selSquare)\u001b[0m\n\u001b[0;32m     95\u001b[0m                 \u001b[0mtempGrid\u001b[0m \u001b[1;33m=\u001b[0m \u001b[0mgrid\u001b[0m\u001b[1;33m.\u001b[0m\u001b[0mcopy\u001b[0m\u001b[1;33m(\u001b[0m\u001b[1;33m)\u001b[0m\u001b[1;33m\u001b[0m\u001b[1;33m\u001b[0m\u001b[0m\n\u001b[0;32m     96\u001b[0m                 \u001b[0mtempGrid\u001b[0m\u001b[1;33m[\u001b[0m\u001b[0msquareIdRow\u001b[0m\u001b[1;33m:\u001b[0m \u001b[0msquareIdRow\u001b[0m\u001b[1;33m+\u001b[0m\u001b[1;36m3\u001b[0m\u001b[1;33m,\u001b[0m \u001b[0msquareIdCol\u001b[0m\u001b[1;33m:\u001b[0m\u001b[0msquareIdCol\u001b[0m\u001b[1;33m+\u001b[0m\u001b[1;36m3\u001b[0m\u001b[1;33m]\u001b[0m \u001b[1;33m=\u001b[0m \u001b[0mnp\u001b[0m\u001b[1;33m.\u001b[0m\u001b[0masarray\u001b[0m\u001b[1;33m(\u001b[0m\u001b[0mi\u001b[0m\u001b[1;33m)\u001b[0m\u001b[1;33m.\u001b[0m\u001b[0mreshape\u001b[0m\u001b[1;33m(\u001b[0m\u001b[1;36m3\u001b[0m\u001b[1;33m,\u001b[0m\u001b[1;36m3\u001b[0m\u001b[1;33m)\u001b[0m\u001b[1;33m\u001b[0m\u001b[1;33m\u001b[0m\u001b[0m\n\u001b[1;32m---> 97\u001b[1;33m                 \u001b[1;32mif\u001b[0m \u001b[0mvalidateGrid\u001b[0m\u001b[1;33m(\u001b[0m\u001b[0mtempGrid\u001b[0m\u001b[1;33m)\u001b[0m\u001b[1;33m:\u001b[0m\u001b[1;33m\u001b[0m\u001b[1;33m\u001b[0m\u001b[0m\n\u001b[0m\u001b[0;32m     98\u001b[0m                     \u001b[0mkeepPerm\u001b[0m\u001b[1;33m.\u001b[0m\u001b[0mappend\u001b[0m\u001b[1;33m(\u001b[0m\u001b[0mi\u001b[0m\u001b[1;33m)\u001b[0m\u001b[1;33m\u001b[0m\u001b[1;33m\u001b[0m\u001b[0m\n\u001b[0;32m     99\u001b[0m \u001b[1;33m\u001b[0m\u001b[0m\n",
      "\u001b[1;32m<ipython-input-214-a505525ae9d4>\u001b[0m in \u001b[0;36mvalidateGrid\u001b[1;34m(grid)\u001b[0m\n\u001b[0;32m     13\u001b[0m         \u001b[1;32mfor\u001b[0m \u001b[0mii\u001b[0m \u001b[1;32min\u001b[0m \u001b[0mgridCoord\u001b[0m\u001b[1;33m:\u001b[0m\u001b[1;33m\u001b[0m\u001b[1;33m\u001b[0m\u001b[0m\n\u001b[0;32m     14\u001b[0m             \u001b[0msquare\u001b[0m \u001b[1;33m=\u001b[0m \u001b[0mgrid\u001b[0m\u001b[1;33m[\u001b[0m\u001b[0mi\u001b[0m\u001b[1;33m:\u001b[0m\u001b[0mi\u001b[0m\u001b[1;33m+\u001b[0m\u001b[1;36m3\u001b[0m\u001b[1;33m,\u001b[0m \u001b[0mii\u001b[0m\u001b[1;33m:\u001b[0m\u001b[0mii\u001b[0m\u001b[1;33m+\u001b[0m\u001b[1;36m3\u001b[0m\u001b[1;33m]\u001b[0m\u001b[1;33m\u001b[0m\u001b[1;33m\u001b[0m\u001b[0m\n\u001b[1;32m---> 15\u001b[1;33m             \u001b[0mcheckSquareRes\u001b[0m \u001b[1;33m=\u001b[0m \u001b[0mnp\u001b[0m\u001b[1;33m.\u001b[0m\u001b[0mappend\u001b[0m\u001b[1;33m(\u001b[0m\u001b[0mcheckSquareRes\u001b[0m\u001b[1;33m,\u001b[0m \u001b[0mcheckSquare\u001b[0m\u001b[1;33m(\u001b[0m\u001b[0msquare\u001b[0m\u001b[1;33m)\u001b[0m\u001b[1;33m)\u001b[0m\u001b[1;33m\u001b[0m\u001b[1;33m\u001b[0m\u001b[0m\n\u001b[0m\u001b[0;32m     16\u001b[0m \u001b[1;33m\u001b[0m\u001b[0m\n\u001b[0;32m     17\u001b[0m \u001b[1;33m\u001b[0m\u001b[0m\n",
      "\u001b[1;32m<__array_function__ internals>\u001b[0m in \u001b[0;36mappend\u001b[1;34m(*args, **kwargs)\u001b[0m\n",
      "\u001b[1;32m~\\AppData\\Local\\Continuum\\miniconda3\\lib\\site-packages\\numpy\\lib\\function_base.py\u001b[0m in \u001b[0;36mappend\u001b[1;34m(arr, values, axis)\u001b[0m\n\u001b[0;32m   4691\u001b[0m         \u001b[0mvalues\u001b[0m \u001b[1;33m=\u001b[0m \u001b[0mravel\u001b[0m\u001b[1;33m(\u001b[0m\u001b[0mvalues\u001b[0m\u001b[1;33m)\u001b[0m\u001b[1;33m\u001b[0m\u001b[1;33m\u001b[0m\u001b[0m\n\u001b[0;32m   4692\u001b[0m         \u001b[0maxis\u001b[0m \u001b[1;33m=\u001b[0m \u001b[0marr\u001b[0m\u001b[1;33m.\u001b[0m\u001b[0mndim\u001b[0m\u001b[1;33m-\u001b[0m\u001b[1;36m1\u001b[0m\u001b[1;33m\u001b[0m\u001b[1;33m\u001b[0m\u001b[0m\n\u001b[1;32m-> 4693\u001b[1;33m     \u001b[1;32mreturn\u001b[0m \u001b[0mconcatenate\u001b[0m\u001b[1;33m(\u001b[0m\u001b[1;33m(\u001b[0m\u001b[0marr\u001b[0m\u001b[1;33m,\u001b[0m \u001b[0mvalues\u001b[0m\u001b[1;33m)\u001b[0m\u001b[1;33m,\u001b[0m \u001b[0maxis\u001b[0m\u001b[1;33m=\u001b[0m\u001b[0maxis\u001b[0m\u001b[1;33m)\u001b[0m\u001b[1;33m\u001b[0m\u001b[1;33m\u001b[0m\u001b[0m\n\u001b[0m\u001b[0;32m   4694\u001b[0m \u001b[1;33m\u001b[0m\u001b[0m\n\u001b[0;32m   4695\u001b[0m \u001b[1;33m\u001b[0m\u001b[0m\n",
      "\u001b[1;32m<__array_function__ internals>\u001b[0m in \u001b[0;36mconcatenate\u001b[1;34m(*args, **kwargs)\u001b[0m\n",
      "\u001b[1;31mKeyboardInterrupt\u001b[0m: "
     ]
    }
   ],
   "source": [
    "#get the number of poss for each square\n",
    "allPerms = []\n",
    "for i in range(0,9):\n",
    "    keepPerm = getNArrang(hardSudoku, i)\n",
    "    allPerms.append(len(keepPerm))\n",
    "    \n",
    "print(allPerms)"
   ]
  },
  {
   "cell_type": "markdown",
   "metadata": {},
   "source": [
    "If it still cannot be solved, we keep with the brute force approach: replace the identified grid with on possibility, and restart from the beginning."
   ]
  },
  {
   "cell_type": "code",
   "execution_count": 193,
   "metadata": {},
   "outputs": [
    {
     "name": "stdout",
     "output_type": "stream",
     "text": [
      "0\n"
     ]
    }
   ],
   "source": [
    "b = hardSudoku.copy()\n",
    "\n",
    "keepPerm = getNArrang(hardSudoku, 6)\n",
    "b[6:9, 0:3] = np.asarray(keepPerm[0]).reshape((3,3))\n",
    "keepPerm = getNArrang(b, 0)\n",
    "b[0:3, 0:3] = np.asarray(keepPerm[0]).reshape((3,3))\n",
    "keepPerm = getNArrang(b, 2)\n",
    "b[0:3, 6:9] = np.asarray(keepPerm[0]).reshape((3,3))\n",
    "keepPerm = getNArrang(b, 8)\n",
    "b[6:9, 6:9] = np.asarray(keepPerm[0]).reshape((3,3))\n",
    "keepPerm = getNArrang(b, 1)\n",
    "b[0:3, 3:6] = np.asarray(keepPerm[0]).reshape((3,3))\n",
    "keepPerm = getNArrang(b, 3)\n",
    "b[3:6, 0:3] = np.asarray(keepPerm[0]).reshape((3,3))\n",
    "keepPerm = getNArrang(b, 5)\n",
    "b[3:6, 6:9] = np.asarray(keepPerm[0]).reshape((3,3))\n",
    "keepPerm = getNArrang(b, 7)\n",
    "b[6:9, 3:6] = np.asarray(keepPerm[0]).reshape((3,3))\n",
    "keepPerm = getNArrang(b, 4)\n",
    "print(len(keepPerm))"
   ]
  },
  {
   "cell_type": "markdown",
   "metadata": {},
   "source": [
    "We need to make the above a loop with nested for's until it is solved, but first let's see if we can vectorize or speed up things anyway."
   ]
  },
  {
   "cell_type": "code",
   "execution_count": 17,
   "metadata": {},
   "outputs": [],
   "source": [
    "def getNArrangFast(grid, selSquare):\n",
    "    squaresIdx = ([[0, 1, 2], [0, 1, 2]],\n",
    "                  [[0, 1, 2], [3, 4, 5]],\n",
    "                  [[0, 1, 2], [6, 7, 8]],\n",
    "                  [[3, 4, 5], [0, 1, 2]],\n",
    "                  [[3, 4, 5], [3, 4, 5]],\n",
    "                  [[3, 4, 5], [6, 7, 8]],\n",
    "                  [[6, 7, 8], [0, 1, 2]],\n",
    "                  [[6, 7, 8], [3, 4, 5]],\n",
    "                  [[6, 7, 8], [6, 7, 8]]\n",
    "             )\n",
    "\n",
    "    # Get all permutations 1-9\n",
    "    perm = list(permutations(list(range(1,10))))\n",
    "    \n",
    "    squareIdRow = getSquareID(squaresIdx[selSquare][0][0])\n",
    "    squareIdCol = getSquareID(squaresIdx[selSquare][1][0])\n",
    "    square = grid[squareIdRow: squareIdRow+3, squareIdCol:squareIdCol+3]\n",
    "    line = np.ndarray.flatten(square)\n",
    "    freeSpots =  len([i for i in line if i == 0])      \n",
    "                \n",
    "    if (freeSpots == 0):\n",
    "        return([])\n",
    "    \n",
    "    \n",
    "    allProbs = []\n",
    "    allFrees = []\n",
    "    allPoss = []\n",
    "    for numProb in range(1,10):\n",
    "        probSquare = np.zeros((3,3))\n",
    "        intIdxR = 0\n",
    "        for rIdx in squaresIdx[selSquare][0]:\n",
    "            intIdxC = 0;\n",
    "            for cIdx in squaresIdx[selSquare][1]:              \n",
    "                if probabilityFunction(grid, rIdx, cIdx, numProb):\n",
    "                    probSquare[intIdxR, intIdxC] = 1\n",
    "                intIdxC = intIdxC + 1\n",
    "            intIdxR = intIdxR + 1      \n",
    "        line = np.ndarray.flatten(probSquare)\n",
    "        possibilities =  len([i for i in line if i > 0])\n",
    "        allPoss.append(possibilities)\n",
    "        allProbs.append(probSquare)\n",
    "        allFrees.append(freeSpots)\n",
    "    \n",
    "    #get the first minimum values\n",
    "    minVal = min(i for i in allPoss if i > 0)\n",
    "    minPos = allPoss.index(minVal)\n",
    "    triedNumb = minPos + 1\n",
    "    probGrid = allProbs[minPos]\n",
    "    probGrid[probGrid == 1] = triedNumb\n",
    "\n",
    "    keepPerm = []\n",
    "    line = np.ndarray.flatten(square)\n",
    "    for i in perm:\n",
    "        #use only permutations where existing numbers are where they are in the original square \n",
    "        diff = np.asarray(line)-np.asarray(i)\n",
    "        inters = np.where(diff == 0)\n",
    "        #how many numbers we have in origna grid\n",
    "        fixedPos = 9 - freeSpots\n",
    "        if len(inters[0]) == fixedPos: # only intersect the numbers we already have. All of them\n",
    "            #keep only permutaitons where our number is in the desired positions\n",
    "            diff = np.asarray(np.ndarray.flatten(probGrid))-np.asarray(i)\n",
    "            inters = np.where(diff == 0)\n",
    "            \n",
    "            if len(inters[0]) == 1:\n",
    "                keepPerm.append(i)\n",
    "            \n",
    "#                 #we still need to eliminate permutations were a number ends up in\n",
    "#                 #a row or columkn forbidden by the remaining\n",
    "#                 #of the grid. Easiset way is to put the permutation in the main grid and check with\n",
    "#                 #validateGrid()\n",
    "#                 # this is slow. might be faster to remove it entirely\n",
    "#                 tempGrid = grid.copy()\n",
    "#                 tempGrid[squareIdRow: squareIdRow+3, squareIdCol:squareIdCol+3] = np.asarray(i).reshape(3,3)\n",
    "#                 if validateGrid(tempGrid):\n",
    "#                     keepPerm.append(i)\n",
    "\n",
    "    return(keepPerm)"
   ]
  },
  {
   "cell_type": "code",
   "execution_count": 18,
   "metadata": {},
   "outputs": [
    {
     "name": "stdout",
     "output_type": "stream",
     "text": [
      "duplicates in rows or cols\n",
      "duplicates in rows or cols\n",
      "duplicates in rows or cols\n",
      "duplicates in rows or cols\n"
     ]
    },
    {
     "ename": "KeyboardInterrupt",
     "evalue": "",
     "output_type": "error",
     "traceback": [
      "\u001b[1;31m---------------------------------------------------------------------------\u001b[0m",
      "\u001b[1;31mKeyboardInterrupt\u001b[0m                         Traceback (most recent call last)",
      "\u001b[1;32m<ipython-input-18-4314ed12be27>\u001b[0m in \u001b[0;36m<module>\u001b[1;34m\u001b[0m\n\u001b[0;32m     29\u001b[0m                 \u001b[1;32mif\u001b[0m \u001b[0mlen\u001b[0m\u001b[1;33m(\u001b[0m\u001b[0mres\u001b[0m\u001b[1;33m)\u001b[0m \u001b[1;33m==\u001b[0m \u001b[1;36m9\u001b[0m\u001b[1;33m:\u001b[0m\u001b[1;33m\u001b[0m\u001b[1;33m\u001b[0m\u001b[0m\n\u001b[0;32m     30\u001b[0m                     \u001b[1;32mbreak\u001b[0m\u001b[1;33m\u001b[0m\u001b[1;33m\u001b[0m\u001b[0m\n\u001b[1;32m---> 31\u001b[1;33m                 \u001b[0mkeepPerm5\u001b[0m \u001b[1;33m=\u001b[0m \u001b[0mgetNArrangFast\u001b[0m\u001b[1;33m(\u001b[0m\u001b[0mbC4\u001b[0m\u001b[1;33m,\u001b[0m \u001b[1;36m4\u001b[0m\u001b[1;33m)\u001b[0m\u001b[1;33m\u001b[0m\u001b[1;33m\u001b[0m\u001b[0m\n\u001b[0m\u001b[0;32m     32\u001b[0m                 \u001b[1;32mfor\u001b[0m \u001b[0mi5\u001b[0m \u001b[1;32min\u001b[0m \u001b[0mkeepPerm5\u001b[0m\u001b[1;33m:\u001b[0m\u001b[1;33m\u001b[0m\u001b[1;33m\u001b[0m\u001b[0m\n\u001b[0;32m     33\u001b[0m                     \u001b[0mbC5\u001b[0m \u001b[1;33m=\u001b[0m \u001b[0mbC4\u001b[0m\u001b[1;33m.\u001b[0m\u001b[0mcopy\u001b[0m\u001b[1;33m(\u001b[0m\u001b[1;33m)\u001b[0m\u001b[1;33m\u001b[0m\u001b[1;33m\u001b[0m\u001b[0m\n",
      "\u001b[1;32m<ipython-input-17-80c1392185d1>\u001b[0m in \u001b[0;36mgetNArrangFast\u001b[1;34m(grid, selSquare)\u001b[0m\n\u001b[0;32m     60\u001b[0m         \u001b[1;32mif\u001b[0m \u001b[0mlen\u001b[0m\u001b[1;33m(\u001b[0m\u001b[0minters\u001b[0m\u001b[1;33m[\u001b[0m\u001b[1;36m0\u001b[0m\u001b[1;33m]\u001b[0m\u001b[1;33m)\u001b[0m \u001b[1;33m==\u001b[0m \u001b[0mfixedPos\u001b[0m\u001b[1;33m:\u001b[0m \u001b[1;31m# only intersect the numbers we already have. All of them\u001b[0m\u001b[1;33m\u001b[0m\u001b[1;33m\u001b[0m\u001b[0m\n\u001b[0;32m     61\u001b[0m             \u001b[1;31m#keep only permutaitons where our number is in the desired positions\u001b[0m\u001b[1;33m\u001b[0m\u001b[1;33m\u001b[0m\u001b[1;33m\u001b[0m\u001b[0m\n\u001b[1;32m---> 62\u001b[1;33m             \u001b[0mdiff\u001b[0m \u001b[1;33m=\u001b[0m \u001b[0mnp\u001b[0m\u001b[1;33m.\u001b[0m\u001b[0masarray\u001b[0m\u001b[1;33m(\u001b[0m\u001b[0mnp\u001b[0m\u001b[1;33m.\u001b[0m\u001b[0mndarray\u001b[0m\u001b[1;33m.\u001b[0m\u001b[0mflatten\u001b[0m\u001b[1;33m(\u001b[0m\u001b[0mprobGrid\u001b[0m\u001b[1;33m)\u001b[0m\u001b[1;33m)\u001b[0m\u001b[1;33m-\u001b[0m\u001b[0mnp\u001b[0m\u001b[1;33m.\u001b[0m\u001b[0masarray\u001b[0m\u001b[1;33m(\u001b[0m\u001b[0mi\u001b[0m\u001b[1;33m)\u001b[0m\u001b[1;33m\u001b[0m\u001b[1;33m\u001b[0m\u001b[0m\n\u001b[0m\u001b[0;32m     63\u001b[0m             \u001b[0minters\u001b[0m \u001b[1;33m=\u001b[0m \u001b[0mnp\u001b[0m\u001b[1;33m.\u001b[0m\u001b[0mwhere\u001b[0m\u001b[1;33m(\u001b[0m\u001b[0mdiff\u001b[0m \u001b[1;33m==\u001b[0m \u001b[1;36m0\u001b[0m\u001b[1;33m)\u001b[0m\u001b[1;33m\u001b[0m\u001b[1;33m\u001b[0m\u001b[0m\n\u001b[0;32m     64\u001b[0m \u001b[1;33m\u001b[0m\u001b[0m\n",
      "\u001b[1;31mKeyboardInterrupt\u001b[0m: "
     ]
    }
   ],
   "source": [
    "b = hardSudoku.copy()\n",
    "\n",
    "keepPerm1 = getNArrangFast(hardSudoku, 0)\n",
    "for i1 in keepPerm1:\n",
    "    bC1 = b.copy()\n",
    "    bC1[0:3, 0:3] = np.asarray(i1).reshape(3,3)\n",
    "    res = solveSudoku(bC1) \n",
    "    if len(res) == 9:\n",
    "        break\n",
    "    keepPerm2 = getNArrangFast(bC1, 1)\n",
    "    for i2 in keepPerm2:\n",
    "        bC2 = bC1.copy()\n",
    "        bC2[0:3, 3:6] = np.asarray(i2).reshape(3,3)\n",
    "        res = solveSudoku(bC2) \n",
    "        if len(res) == 9:\n",
    "            break\n",
    "        keepPerm3 = getNArrangFast(bC2, 2)\n",
    "        for i3 in keepPerm3:\n",
    "            bC3 = bC2.copy()\n",
    "            bC3[0:3, 6:9] = np.asarray(i3).reshape(3,3)\n",
    "            res = solveSudoku(bC3) \n",
    "            if len(res) == 9:\n",
    "                break\n",
    "            keepPerm4 = getNArrangFast(bC3, 3)\n",
    "            for i4 in keepPerm4:\n",
    "                bC4 = bC3.copy()\n",
    "                bC4[3:6, 0:3] = np.asarray(i4).reshape(3,3)\n",
    "                res = solveSudoku(bC4) \n",
    "                if len(res) == 9:\n",
    "                    break\n",
    "                keepPerm5 = getNArrangFast(bC4, 4)\n",
    "                for i5 in keepPerm5:\n",
    "                    bC5 = bC4.copy()\n",
    "                    bC5[3:6, 3:6] = np.asarray(i5).reshape(3,3)\n",
    "                    res = solveSudoku(bC5) \n",
    "                    if len(res) == 9:\n",
    "                        break\n",
    "                    keepPerm6 = getNArrangFast(bC5, 5)\n",
    "                    for i6 in keepPerm6:\n",
    "                        bC6 = bC5.copy()\n",
    "                        bC6[3:6, 6:9] = np.asarray(i6).reshape(3,3)\n",
    "                        res = solveSudoku(bC6) \n",
    "                        if len(res) == 9:\n",
    "                            break\n",
    "                        keepPerm7 = getNArrangFast(bC6, 6)\n",
    "                        for i7 in keepPerm7:\n",
    "                            bC7 = bC6.copy()\n",
    "                            bC7[6:9, 0:3] = np.asarray(i7).reshape(3,3)\n",
    "                            res = solveSudoku(bC7) \n",
    "                            if len(res) == 9:\n",
    "                                break\n",
    "                            keepPerm8 = getNArrangFast(bC7, 7)\n",
    "                            for i8 in keepPerm8:\n",
    "                                bC8 = bC7.copy()\n",
    "                                bC8[6:9, 3:6] = np.asarray(i8).reshape(3,3)\n",
    "                                res = solveSudoku(bC8) \n",
    "                                if len(res) == 9:\n",
    "                                    break\n",
    "                                keepPerm9 = getNArrangFast(bC8, 8)\n",
    "                                for i9 in keepPerm9:\n",
    "                                    bC9 = bC8.copy()\n",
    "                                    bC9[6:9, 6:9] = np.asarray(i9).reshape(3,3)\n",
    "                                    res = solveSudoku(bC9) \n",
    "                                    if len(res) == 9:\n",
    "                                        break\n",
    "                        \n",
    "                \n",
    "        \n",
    "    \n",
    "print(res)"
   ]
  },
  {
   "cell_type": "code",
   "execution_count": 12,
   "metadata": {},
   "outputs": [
    {
     "name": "stdout",
     "output_type": "stream",
     "text": [
      "[[3 4 5]\n",
      " [2 6 1]\n",
      " [7 8 9]]\n"
     ]
    }
   ],
   "source": [
    "print(np.asarray(i1).reshape(3,3))"
   ]
  },
  {
   "cell_type": "code",
   "execution_count": 226,
   "metadata": {},
   "outputs": [
    {
     "data": {
      "text/plain": [
       "40320.0"
      ]
     },
     "execution_count": 226,
     "metadata": {},
     "output_type": "execute_result"
    }
   ],
   "source": [
    "362880/9"
   ]
  },
  {
   "cell_type": "code",
   "execution_count": null,
   "metadata": {},
   "outputs": [],
   "source": []
  }
 ],
 "metadata": {
  "kernelspec": {
   "display_name": "Python 3",
   "language": "python",
   "name": "python3"
  },
  "language_info": {
   "codemirror_mode": {
    "name": "ipython",
    "version": 3
   },
   "file_extension": ".py",
   "mimetype": "text/x-python",
   "name": "python",
   "nbconvert_exporter": "python",
   "pygments_lexer": "ipython3",
   "version": "3.6.8"
  }
 },
 "nbformat": 4,
 "nbformat_minor": 2
}
