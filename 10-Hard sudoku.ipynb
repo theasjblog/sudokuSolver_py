{
 "cells": [
  {
   "cell_type": "markdown",
   "metadata": {},
   "source": [
    "This is to solve non trivial sudoku, i.e. the ones that cannot be soleved by simply follow the column/row/grid rules, but where we need to implement some more clever logic.\n",
    "\n",
    "The idea is to get the probability of a number going in a specific position, guess it and then use a brute force approach"
   ]
  },
  {
   "cell_type": "code",
   "execution_count": 5,
   "metadata": {},
   "outputs": [],
   "source": [
    "# imports\n",
    "import numpy as np\n",
    "import sys\n",
    "import math\n",
    "import time\n",
    "from solverFunctions import *"
   ]
  },
  {
   "cell_type": "code",
   "execution_count": 2,
   "metadata": {},
   "outputs": [],
   "source": [
    "# test grids\n",
    "emptySudoku = np.zeros((9,9))\n",
    "\n",
    "hardSudoku = np.zeros((9,9))\n",
    "hardSudoku[0,1] = 4\n",
    "hardSudoku[0,7] = 1\n",
    "hardSudoku[1,0] = 2\n",
    "hardSudoku[1,8] = 6\n",
    "hardSudoku[7,0] = 9\n",
    "hardSudoku[7,8] = 2\n",
    "hardSudoku[8,1] = 1\n",
    "hardSudoku[8,7] = 9\n",
    "\n",
    "sampleSudoku = np.array([[5, 3, 0, 0, 7, 0, 0, 0, 0],\n",
    "                         [6, 0, 0, 1, 9, 5, 0, 0, 0],\n",
    "                         [0, 9, 8, 0, 0, 0, 0, 6, 0],\n",
    "                         [8, 0, 0, 0, 6, 0, 0, 0, 3],\n",
    "                         [4, 0, 0, 8, 0, 3, 0, 0, 1],\n",
    "                         [7, 0, 0, 0, 2, 0, 0, 0, 6],\n",
    "                         [0, 6, 0, 0, 0, 0, 2, 8, 0],\n",
    "\n",
    "                         [0, 0, 0, 4, 1, 9, 0, 0, 5],\n",
    "                         [0, 0, 0, 0, 8, 0, 0, 7, 9]])"
   ]
  },
  {
   "cell_type": "code",
   "execution_count": 53,
   "metadata": {},
   "outputs": [],
   "source": [
    "numIs = 1\n",
    "\n",
    "squaresIdx = ([[0, 1, 2], [0, 1, 2]],\n",
    "              [[0, 1, 2], [3, 4, 5]],\n",
    "              [[0, 1, 2], [6, 7, 8]],\n",
    "              [[3, 4, 5], [0, 1, 2]],\n",
    "              [[3, 4, 5], [3, 4, 5]],\n",
    "              [[3, 4, 5], [6, 7, 8]],\n",
    "              [[6, 7, 8], [0, 1, 2]],\n",
    "              [[6, 7, 8], [3, 4, 5]],\n",
    "              [[6, 7, 8], [6, 7, 8]]\n",
    "             )\n",
    "\n",
    "allProbs = []\n",
    "allFrees = []\n",
    "allPoss = []\n",
    "for numProb in range(1,10):\n",
    "    probSquare = np.zeros((3,3))\n",
    "    intIdxR = 0\n",
    "    for rIdx in squaresIdx[6][0]:\n",
    "        intIdxC = 0;\n",
    "        for cIdx in squaresIdx[6][1]:\n",
    "            squareIdRow = getSquareID(rIdx)\n",
    "            squareIdCol = getSquareID(cIdx)\n",
    "            square = hardSudoku[squareIdRow: squareIdRow+3, squareIdCol:squareIdCol+3]\n",
    "            line = np.ndarray.flatten(square)\n",
    "            freeSpots =  len([i for i in line if i == 0])\n",
    "            if probabilityFunction(hardSudoku, rIdx, cIdx, numProb):\n",
    "                probSquare[intIdxR, intIdxC] = 1\n",
    "            intIdxC = intIdxC + 1\n",
    "        intIdxR = intIdxR + 1\n",
    "        \n",
    "    line = np.ndarray.flatten(probSquare)\n",
    "    possibilities =  len([i for i in line if i > 0])\n",
    "    allPoss.append(possibilities)\n",
    "    allProbs.append(probSquare)\n",
    "    allFrees.append(freeSpots)"
   ]
  },
  {
   "cell_type": "markdown",
   "metadata": {},
   "source": [
    "For this square, the number 2 is the onr that can has less possible available spots. Now let's try to get all possible filled up squares that filled up this space respecting the existing constraints."
   ]
  },
  {
   "cell_type": "code",
   "execution_count": 80,
   "metadata": {},
   "outputs": [
    {
     "name": "stdout",
     "output_type": "stream",
     "text": [
      "1560\n",
      "done\n"
     ]
    }
   ],
   "source": [
    "from itertools import permutations \n",
    "\n",
    "# Get all permutations 1-9\n",
    "perm = list(permutations(list(range(1,10))))\n",
    "\n",
    "keepPerm = []\n",
    "for i in perm:\n",
    "    if i[3] == 9 and i[7] == 1 and not i[0] == 2 and not i[4] == 2 and not i[5] == 2 and not i[6] == 2 and not i[1] == 4 and not i[4] == 4:\n",
    "        keepPerm.append(i)\n",
    "\n",
    "print(len(keepPerm))\n",
    "        \n",
    "for i in keepPerm:\n",
    "    b = hardSudoku.copy()\n",
    "    b[6:9, 0:3] = np.asarray(keepPerm[0]).reshape((3,3))\n",
    "    res = solveSudoku(b)\n",
    "\n",
    "print('done')"
   ]
  },
  {
   "cell_type": "code",
   "execution_count": 66,
   "metadata": {},
   "outputs": [
    {
     "name": "stdout",
     "output_type": "stream",
     "text": [
      "Sudoku was not solved\n"
     ]
    }
   ],
   "source": [
    "print(solveSudoku(hardSudoku))"
   ]
  },
  {
   "cell_type": "code",
   "execution_count": null,
   "metadata": {},
   "outputs": [],
   "source": []
  }
 ],
 "metadata": {
  "kernelspec": {
   "display_name": "Python 3",
   "language": "python",
   "name": "python3"
  },
  "language_info": {
   "codemirror_mode": {
    "name": "ipython",
    "version": 3
   },
   "file_extension": ".py",
   "mimetype": "text/x-python",
   "name": "python",
   "nbconvert_exporter": "python",
   "pygments_lexer": "ipython3",
   "version": "3.7.4"
  }
 },
 "nbformat": 4,
 "nbformat_minor": 2
}
