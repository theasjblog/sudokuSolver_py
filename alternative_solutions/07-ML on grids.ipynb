{
 "cells": [
  {
   "cell_type": "markdown",
   "metadata": {},
   "source": [
    "Based on the process to get grids identified in notebooks 5 and 6.\n",
    "\n",
    "I already have created the npy images. I now need to read them in to create the train/test/validate datasets.\n",
    "\n"
   ]
  },
  {
   "cell_type": "code",
   "execution_count": 1,
   "metadata": {},
   "outputs": [],
   "source": [
    "import os\n",
    "import numpy as np\n",
    "import matplotlib.pyplot as plt\n",
    "import random\n",
    "%matplotlib inline"
   ]
  },
  {
   "cell_type": "code",
   "execution_count": 2,
   "metadata": {},
   "outputs": [],
   "source": [
    "labelsDataDir = 'C:\\\\Users\\\\JOSA\\\\Documents\\\\repos\\\\allImgsLabelledDB\\\\'\n",
    "npyDataDir = 'C:\\\\Users\\\\JOSA\\\\Documents\\\\repos\\\\npyData\\\\'\n",
    "\n",
    "allNpys = []\n",
    "for file in os.listdir(npyDataDir):\n",
    "    if file.endswith(\".npy\"):\n",
    "        allNpys.append(file)\n"
   ]
  },
  {
   "cell_type": "code",
   "execution_count": 3,
   "metadata": {},
   "outputs": [
    {
     "data": {
      "application/vnd.jupyter.widget-view+json": {
       "model_id": "49ab5ea14ee4409c89bc20ebef6427e2",
       "version_major": 2,
       "version_minor": 0
      },
      "text/plain": [
       "VBox(children=(Output(), Button(description='Show random square', style=ButtonStyle())))"
      ]
     },
     "metadata": {},
     "output_type": "display_data"
    }
   ],
   "source": [
    "######################\n",
    "import random\n",
    "import ipywidgets as widgets\n",
    "from ipywidgets import interact, interact_manual, interactive\n",
    "from IPython.display import display,clear_output    \n",
    "    \n",
    "%matplotlib inline\n",
    "\n",
    "# To prevent automatic figure display when execution of the cell ends\n",
    "%config InlineBackend.close_figures=False \n",
    "\n",
    "\n",
    "plt.ioff()\n",
    "ax=plt.gca()\n",
    "\n",
    "out=widgets.Output()\n",
    "button=widgets.Button(description='Show random square')\n",
    "vbox=widgets.VBox(children=(out,button))\n",
    "display(vbox)\n",
    "\n",
    "def click(b):\n",
    "    ax.clear()\n",
    "    #get the name of the image and the squareIdx, needed to retrived the label from the labelled dataset\n",
    "    testIdx = 0\n",
    "    while testIdx == 0:\n",
    "        pickImg = random.choice(allNpys)\n",
    "        imgName = pickImg.split('_')[0] # + '.npy' for the data, # + '.dat' for the labels\n",
    "        squareIdx = int(pickImg.split('_')[1].split('.')[0])\n",
    "        # #read the dat\n",
    "        #labels = np.loadtxt(os.path.join(labelsDataDir, imgName + '.dat' ))\n",
    "        allLabels = []\n",
    "        with open(os.path.join(labelsDataDir, imgName + '.dat' )) as f:\n",
    "            allLabels.append([line.split()[0:9] for line in f])\n",
    "\n",
    "        allLabels = allLabels[0][2:11]\n",
    "        allLabels2 = []\n",
    "        for i in range(0, 9):\n",
    "            allLabels2 = allLabels2 + list(map(int, allLabels[i]))\n",
    "    \n",
    "        testIdx = allLabels2[squareIdx]\n",
    "    # check labels    \n",
    "    ax.imshow(np.load(os.path.join(npyDataDir, pickImg)), cmap=plt.cm.gray)\n",
    "    ax.set_axis_off()\n",
    "    ax.set_title(pickImg + ', ' + str(allLabels2[squareIdx]))\n",
    "        \n",
    "    with out:\n",
    "        clear_output(wait=True)\n",
    "        display(ax.figure)\n",
    "\n",
    "button.on_click(click)\n",
    "click(None)"
   ]
  },
  {
   "cell_type": "markdown",
   "metadata": {},
   "source": [
    "Now we know we can correctly read in images and get the label. We now need to create the train datasets"
   ]
  },
  {
   "cell_type": "code",
   "execution_count": 4,
   "metadata": {},
   "outputs": [],
   "source": [
    "x_labels = []\n",
    "for i in range(0, len(allNpys)):\n",
    "    pickImg = allNpys[i]\n",
    "    imgName = pickImg.split('_')[0] # + '.npy' for the data, # + '.dat' for the labels\n",
    "    squareIdx = int(pickImg.split('_')[1].split('.')[0])\n",
    "    if os.path.isfile(os.path.join(labelsDataDir, imgName + '.dat' )):\n",
    "        # #read the dat\n",
    "        #labels = np.loadtxt(os.path.join(labelsDataDir, imgName + '.dat' ))\n",
    "        allLabels = []\n",
    "        with open(os.path.join(labelsDataDir, imgName + '.dat' )) as f:\n",
    "            allLabels.append([line.split()[0:9] for line in f])\n",
    "\n",
    "        allLabels = allLabels[0][2:11]\n",
    "        allLabels2 = []\n",
    "        for ii in range(0, 9):\n",
    "            allLabels2 = allLabels2 + list(map(int, allLabels[ii]))\n",
    "    \n",
    "        x_labels.append(allLabels2[squareIdx])\n",
    "        thisImg = np.load(os.path.join(npyDataDir, pickImg))\n",
    "        if i == 0:\n",
    "            x_train = thisImg\n",
    "        else:\n",
    "            x_train = np.dstack((x_train, thisImg))\n",
    "                      \n"
   ]
  },
  {
   "cell_type": "code",
   "execution_count": 5,
   "metadata": {},
   "outputs": [],
   "source": [
    "from sklearn.model_selection import train_test_split\n",
    "#prepare datasets\n",
    "x_train = np.transpose(x_train, (2, 0, 1))  \n",
    "# Reshaping the array to 4-dims so that it can work with the Keras API\n",
    "x_train = x_train.reshape(x_train.shape[0], x_train.shape[1],\n",
    "                                            x_train.shape[2], 1)\n",
    "y_train = np.array(x_labels)\n",
    "# Making sure that the values are float so that we can get decimal points after division\n",
    "x_train = x_train.astype('float32')\n",
    "# Normalizing the RGB codes by dividing it to the max RGB value.\n",
    "x_train /= 255\n",
    "# create testtrain/validate\n",
    "x_train, x_test, y_train, y_test = train_test_split(x_train, y_train, test_size=0.1, random_state=1234)\n",
    "x_train, x_validation, y_train, y_validation = train_test_split(x_train, y_train, test_size = 0.1, random_state = 1234)\n",
    "input_shape = (30, 30, 1)"
   ]
  },
  {
   "cell_type": "code",
   "execution_count": 6,
   "metadata": {},
   "outputs": [
    {
     "name": "stderr",
     "output_type": "stream",
     "text": [
      "Using TensorFlow backend.\n"
     ]
    },
    {
     "name": "stdout",
     "output_type": "stream",
     "text": [
      "Epoch 1/10\n",
      "13056/13056 [==============================] - 11s 839us/step - loss: 1.4719 - accuracy: 0.6399\n",
      "Epoch 2/10\n",
      "13056/13056 [==============================] - 11s 819us/step - loss: 1.2808 - accuracy: 0.6412\n",
      "Epoch 3/10\n",
      "13056/13056 [==============================] - 10s 749us/step - loss: 0.9587 - accuracy: 0.6615\n",
      "Epoch 4/10\n",
      "13056/13056 [==============================] - 10s 753us/step - loss: 0.8578 - accuracy: 0.6881\n",
      "Epoch 5/10\n",
      "13056/13056 [==============================] - 10s 778us/step - loss: 0.8139 - accuracy: 0.7041\n",
      "Epoch 6/10\n",
      "13056/13056 [==============================] - 10s 800us/step - loss: 0.7723 - accuracy: 0.7206\n",
      "Epoch 7/10\n",
      "13056/13056 [==============================] - 10s 759us/step - loss: 0.7408 - accuracy: 0.7351\n",
      "Epoch 8/10\n",
      "13056/13056 [==============================] - 10s 771us/step - loss: 0.7097 - accuracy: 0.7479\n",
      "Epoch 9/10\n",
      "13056/13056 [==============================] - 10s 754us/step - loss: 0.6803 - accuracy: 0.7571\n",
      "Epoch 10/10\n",
      "13056/13056 [==============================] - 10s 757us/step - loss: 0.6466 - accuracy: 0.7739\n",
      "1612/1612 [==============================] - 0s 195us/step\n"
     ]
    },
    {
     "data": {
      "text/plain": [
       "[0.6167320752927742, 0.7990074157714844]"
      ]
     },
     "execution_count": 6,
     "metadata": {},
     "output_type": "execute_result"
    }
   ],
   "source": [
    "# train model\n",
    "import tensorflow as tf\n",
    "import keras\n",
    "# Importing the required Keras modules containing model and layers\n",
    "from keras.models import Sequential\n",
    "from keras.layers import Dense, Conv2D, Dropout, Flatten, MaxPooling2D\n",
    "# Creating a Sequential Model and adding the layers\n",
    "model = Sequential()\n",
    "model.add(Conv2D(30, kernel_size=(3,3), input_shape=input_shape))\n",
    "model.add(MaxPooling2D(pool_size=(2, 2)))\n",
    "model.add(Flatten()) # Flattening the 2D arrays for fully connected layers\n",
    "model.add(Dense(128, activation=tf.nn.relu))\n",
    "model.add(Dropout(0.2))\n",
    "model.add(Dense(10,activation=tf.nn.softmax))\n",
    "\n",
    "\n",
    "model.compile(optimizer='adam', \n",
    "              loss='sparse_categorical_crossentropy', \n",
    "              metrics=['accuracy'])\n",
    "model.fit(x=x_train,y=y_train, epochs=10)\n",
    "\n",
    "\n",
    "\n",
    "model.evaluate(x_test, y_test)\n",
    "\n",
    "\n"
   ]
  },
  {
   "cell_type": "code",
   "execution_count": 7,
   "metadata": {},
   "outputs": [
    {
     "data": {
      "application/vnd.jupyter.widget-view+json": {
       "model_id": "3787db92a42349adae89e56820cc3664",
       "version_major": 2,
       "version_minor": 0
      },
      "text/plain": [
       "VBox(children=(Output(), Button(description='Show random square', style=ButtonStyle())))"
      ]
     },
     "metadata": {},
     "output_type": "display_data"
    }
   ],
   "source": [
    "%matplotlib inline\n",
    "\n",
    "# To prevent automatic figure display when execution of the cell ends\n",
    "%config InlineBackend.close_figures=False \n",
    "\n",
    "\n",
    "plt.ioff()\n",
    "ax=plt.gca()\n",
    "\n",
    "out=widgets.Output()\n",
    "button=widgets.Button(description='Show random square')\n",
    "vbox=widgets.VBox(children=(out,button))\n",
    "display(vbox)\n",
    "\n",
    "def click(b):\n",
    "    ax.clear()\n",
    "    image_index = random.choice(range(0, x_test.shape[0]))\n",
    "    #get the name of the image and the squareIdx, needed to retrived the label from the labelled dataset\n",
    "    pred = model.predict(x_test[image_index].reshape(1, x_test[image_index].shape[0], x_test[image_index].shape[1], 1))\n",
    "    \n",
    "    # check labels    \n",
    "    ax.imshow(x_test[image_index].reshape(30, 30), cmap=plt.cm.gray)\n",
    "    ax.set_axis_off()\n",
    "    ax.set_title(str(pred.argmax()))\n",
    "        \n",
    "    with out:\n",
    "        clear_output(wait=True)\n",
    "        display(ax.figure)\n",
    "\n",
    "button.on_click(click)\n",
    "click(None)"
   ]
  },
  {
   "cell_type": "code",
   "execution_count": 34,
   "metadata": {},
   "outputs": [
    {
     "name": "stdout",
     "output_type": "stream",
     "text": [
      "Train on 13056 samples, validate on 1612 samples\n",
      "Epoch 1/50\n",
      "13056/13056 [==============================] - 9s 673us/step - loss: 1.5185 - accuracy: 0.6350 - val_loss: 1.4348 - val_accuracy: 0.6433\n",
      "Epoch 2/50\n",
      "13056/13056 [==============================] - 9s 670us/step - loss: 1.4418 - accuracy: 0.6412 - val_loss: 1.4266 - val_accuracy: 0.6433\n",
      "Epoch 3/50\n",
      "13056/13056 [==============================] - 8s 631us/step - loss: 1.4196 - accuracy: 0.6412 - val_loss: 1.3734 - val_accuracy: 0.6433\n",
      "Epoch 4/50\n",
      "13056/13056 [==============================] - 8s 639us/step - loss: 1.2595 - accuracy: 0.6439 - val_loss: 1.0150 - val_accuracy: 0.6737\n",
      "Epoch 5/50\n",
      "13056/13056 [==============================] - 8s 624us/step - loss: 0.8847 - accuracy: 0.6952 - val_loss: 0.8181 - val_accuracy: 0.7103\n",
      "Epoch 6/50\n",
      "13056/13056 [==============================] - 8s 618us/step - loss: 0.7767 - accuracy: 0.7291 - val_loss: 0.7299 - val_accuracy: 0.7550\n",
      "Epoch 7/50\n",
      "13056/13056 [==============================] - 8s 619us/step - loss: 0.6974 - accuracy: 0.7594 - val_loss: 0.6528 - val_accuracy: 0.7885\n",
      "Epoch 8/50\n",
      "13056/13056 [==============================] - 8s 615us/step - loss: 0.6256 - accuracy: 0.7891 - val_loss: 0.5937 - val_accuracy: 0.7984\n",
      "Epoch 9/50\n",
      "13056/13056 [==============================] - 9s 661us/step - loss: 0.5527 - accuracy: 0.8136 - val_loss: 0.5259 - val_accuracy: 0.8313\n",
      "Epoch 10/50\n",
      "13056/13056 [==============================] - 8s 628us/step - loss: 0.4869 - accuracy: 0.8372 - val_loss: 0.4666 - val_accuracy: 0.8400\n",
      "Epoch 11/50\n",
      "13056/13056 [==============================] - 8s 622us/step - loss: 0.4310 - accuracy: 0.8604 - val_loss: 0.4195 - val_accuracy: 0.8635\n",
      "Epoch 12/50\n",
      "13056/13056 [==============================] - 9s 667us/step - loss: 0.3868 - accuracy: 0.8774 - val_loss: 0.3801 - val_accuracy: 0.8821\n",
      "Epoch 13/50\n",
      "13056/13056 [==============================] - 9s 661us/step - loss: 0.3424 - accuracy: 0.8937 - val_loss: 0.3562 - val_accuracy: 0.8902\n",
      "Epoch 14/50\n",
      "13056/13056 [==============================] - 8s 644us/step - loss: 0.3134 - accuracy: 0.9059 - val_loss: 0.3382 - val_accuracy: 0.8995\n",
      "Epoch 15/50\n",
      "13056/13056 [==============================] - 9s 659us/step - loss: 0.2733 - accuracy: 0.9195 - val_loss: 0.2778 - val_accuracy: 0.9181\n",
      "Epoch 16/50\n",
      "13056/13056 [==============================] - 9s 653us/step - loss: 0.2434 - accuracy: 0.9290 - val_loss: 0.2770 - val_accuracy: 0.9218\n",
      "Epoch 17/50\n",
      "13056/13056 [==============================] - 8s 648us/step - loss: 0.2215 - accuracy: 0.9350 - val_loss: 0.2535 - val_accuracy: 0.9280\n",
      "Epoch 18/50\n",
      "13056/13056 [==============================] - 8s 642us/step - loss: 0.1985 - accuracy: 0.9431 - val_loss: 0.2162 - val_accuracy: 0.9491\n",
      "Epoch 19/50\n",
      "13056/13056 [==============================] - 9s 654us/step - loss: 0.1840 - accuracy: 0.9472 - val_loss: 0.2449 - val_accuracy: 0.9330\n",
      "Epoch 20/50\n",
      "13056/13056 [==============================] - 9s 670us/step - loss: 0.1604 - accuracy: 0.9539 - val_loss: 0.2065 - val_accuracy: 0.9467\n",
      "Epoch 21/50\n",
      "13056/13056 [==============================] - 8s 646us/step - loss: 0.1455 - accuracy: 0.9590 - val_loss: 0.2030 - val_accuracy: 0.9516\n",
      "Epoch 22/50\n",
      "13056/13056 [==============================] - 8s 640us/step - loss: 0.1319 - accuracy: 0.9628 - val_loss: 0.2024 - val_accuracy: 0.9467\n",
      "Epoch 23/50\n",
      "13056/13056 [==============================] - 8s 651us/step - loss: 0.1193 - accuracy: 0.9668 - val_loss: 0.1997 - val_accuracy: 0.9454\n",
      "Epoch 24/50\n",
      "13056/13056 [==============================] - 8s 645us/step - loss: 0.1120 - accuracy: 0.9683 - val_loss: 0.1843 - val_accuracy: 0.9491\n",
      "Epoch 25/50\n",
      "13056/13056 [==============================] - 8s 641us/step - loss: 0.1018 - accuracy: 0.9714 - val_loss: 0.1734 - val_accuracy: 0.9597\n",
      "Epoch 26/50\n",
      "13056/13056 [==============================] - 8s 648us/step - loss: 0.0910 - accuracy: 0.9729 - val_loss: 0.1656 - val_accuracy: 0.9609\n",
      "Epoch 27/50\n",
      "13056/13056 [==============================] - 8s 645us/step - loss: 0.0878 - accuracy: 0.9763 - val_loss: 0.1628 - val_accuracy: 0.9646\n",
      "Epoch 28/50\n",
      "13056/13056 [==============================] - 8s 645us/step - loss: 0.0778 - accuracy: 0.9766 - val_loss: 0.1602 - val_accuracy: 0.9671\n",
      "Epoch 29/50\n",
      "13056/13056 [==============================] - 8s 648us/step - loss: 0.0740 - accuracy: 0.9777 - val_loss: 0.1794 - val_accuracy: 0.9591\n",
      "Epoch 30/50\n",
      "13056/13056 [==============================] - 8s 650us/step - loss: 0.0704 - accuracy: 0.9787 - val_loss: 0.1708 - val_accuracy: 0.9715\n",
      "Epoch 31/50\n",
      "13056/13056 [==============================] - 9s 651us/step - loss: 0.0660 - accuracy: 0.9806 - val_loss: 0.1615 - val_accuracy: 0.9677\n",
      "Epoch 32/50\n",
      "13056/13056 [==============================] - 8s 649us/step - loss: 0.0562 - accuracy: 0.9828 - val_loss: 0.1432 - val_accuracy: 0.9684\n",
      "Epoch 33/50\n",
      "13056/13056 [==============================] - 9s 661us/step - loss: 0.0560 - accuracy: 0.9842 - val_loss: 0.1527 - val_accuracy: 0.9677\n",
      "Epoch 34/50\n",
      "13056/13056 [==============================] - 8s 646us/step - loss: 0.0461 - accuracy: 0.9874 - val_loss: 0.1417 - val_accuracy: 0.9696\n",
      "Epoch 35/50\n",
      "13056/13056 [==============================] - 8s 648us/step - loss: 0.0506 - accuracy: 0.9843 - val_loss: 0.1597 - val_accuracy: 0.9684\n",
      "Epoch 36/50\n",
      "13056/13056 [==============================] - 9s 682us/step - loss: 0.0502 - accuracy: 0.9851 - val_loss: 0.1803 - val_accuracy: 0.9671\n",
      "Epoch 37/50\n",
      "13056/13056 [==============================] - 9s 691us/step - loss: 0.0444 - accuracy: 0.9867 - val_loss: 0.1483 - val_accuracy: 0.9696\n",
      "Epoch 38/50\n",
      "13056/13056 [==============================] - 9s 678us/step - loss: 0.0445 - accuracy: 0.9854 - val_loss: 0.1651 - val_accuracy: 0.9721\n",
      "Epoch 39/50\n",
      "13056/13056 [==============================] - 8s 638us/step - loss: 0.0311 - accuracy: 0.9908 - val_loss: 0.1455 - val_accuracy: 0.9708\n",
      "Epoch 40/50\n",
      "13056/13056 [==============================] - 8s 624us/step - loss: 0.0315 - accuracy: 0.9907 - val_loss: 0.1607 - val_accuracy: 0.9702\n",
      "Epoch 41/50\n",
      "13056/13056 [==============================] - 9s 668us/step - loss: 0.0395 - accuracy: 0.9886 - val_loss: 0.1627 - val_accuracy: 0.9733\n",
      "Epoch 42/50\n",
      "13056/13056 [==============================] - 10s 738us/step - loss: 0.0351 - accuracy: 0.9887 - val_loss: 0.1530 - val_accuracy: 0.9708\n",
      "Epoch 43/50\n",
      "13056/13056 [==============================] - 9s 704us/step - loss: 0.0291 - accuracy: 0.9918 - val_loss: 0.1508 - val_accuracy: 0.9733\n",
      "Epoch 44/50\n",
      "13056/13056 [==============================] - 8s 637us/step - loss: 0.0212 - accuracy: 0.9941 - val_loss: 0.1641 - val_accuracy: 0.9715\n",
      "Epoch 45/50\n",
      "13056/13056 [==============================] - 8s 633us/step - loss: 0.0292 - accuracy: 0.9919 - val_loss: 0.1391 - val_accuracy: 0.9764\n",
      "Epoch 46/50\n",
      "13056/13056 [==============================] - 8s 634us/step - loss: 0.0203 - accuracy: 0.9952 - val_loss: 0.1561 - val_accuracy: 0.9758\n",
      "Epoch 47/50\n",
      "13056/13056 [==============================] - 8s 640us/step - loss: 0.0297 - accuracy: 0.9910 - val_loss: 0.1371 - val_accuracy: 0.9727\n",
      "Epoch 48/50\n",
      "13056/13056 [==============================] - 8s 634us/step - loss: 0.0239 - accuracy: 0.9927 - val_loss: 0.1404 - val_accuracy: 0.9733\n",
      "Epoch 49/50\n",
      "13056/13056 [==============================] - 8s 638us/step - loss: 0.0257 - accuracy: 0.9924 - val_loss: 0.1517 - val_accuracy: 0.9777\n",
      "Epoch 50/50\n",
      "13056/13056 [==============================] - 9s 683us/step - loss: 0.0265 - accuracy: 0.9928 - val_loss: 0.1741 - val_accuracy: 0.9696\n"
     ]
    },
    {
     "data": {
      "text/plain": [
       "<keras.callbacks.callbacks.History at 0x1c8f9a4ef60>"
      ]
     },
     "execution_count": 34,
     "metadata": {},
     "output_type": "execute_result"
    }
   ],
   "source": [
    "from keras.layers import Dense, Activation, Dropout, Convolution2D, Flatten, MaxPooling2D, Reshape, InputLayer\n",
    "# define vars\n",
    "input_shape = (30,30,1)\n",
    "#input_reshape = (30, 30, 1)\n",
    "\n",
    "conv_num_filters = 5\n",
    "conv_filter_size = 5\n",
    "\n",
    "pool_size = (2, 2)\n",
    "\n",
    "hidden_num_units = 128\n",
    "output_num_units = 10\n",
    "\n",
    "epochs = 50 # 30 should be enough to plateu performance\n",
    "batch_size = 128\n",
    "\n",
    "######\n",
    "# model = Sequential()\n",
    "# model.add(Conv2D(30, kernel_size=(3,3), input_shape=input_shape))\n",
    "# model.add(MaxPooling2D(pool_size=(2, 2)))\n",
    "# model.add(Flatten()) # Flattening the 2D arrays for fully connected layers\n",
    "# model.add(Dense(128, activation=tf.nn.relu))\n",
    "# model.add(Dropout(0.2))\n",
    "# model.add(Dense(10,activation=tf.nn.softmax))\n",
    "##############\n",
    "model = Sequential()#[InputLayer(input_shape=input_shape),\n",
    "model.add(Conv2D(30, (3, 3), input_shape=input_shape))#,\n",
    "model.add(MaxPooling2D(pool_size=pool_size))#,\n",
    "model.add(Conv2D(30, (3, 3)))#,\n",
    "model.add(MaxPooling2D(pool_size=pool_size))#,\n",
    "model.add(Conv2D(30, (3, 3)))#,\n",
    "model.add(Flatten())#,\n",
    "model.add(Dense(units=hidden_num_units, activation='relu'))#,\n",
    "model.add(Dense(units=output_num_units, input_dim=hidden_num_units, activation='softmax'))#,\n",
    "#])\n",
    "model.compile(loss =\"sparse_categorical_crossentropy\", optimizer='adam', metrics=['accuracy'])\n",
    "\n",
    "model.fit(x=x_train, y=y_train, epochs=epochs, batch_size=batch_size,\n",
    "          validation_data=(x_test, y_test))\n"
   ]
  },
  {
   "cell_type": "code",
   "execution_count": 35,
   "metadata": {},
   "outputs": [
    {
     "data": {
      "application/vnd.jupyter.widget-view+json": {
       "model_id": "17751520242f4025aad6a84bd7d43ac9",
       "version_major": 2,
       "version_minor": 0
      },
      "text/plain": [
       "VBox(children=(Output(), Button(description='Show random square', style=ButtonStyle())))"
      ]
     },
     "metadata": {},
     "output_type": "display_data"
    }
   ],
   "source": [
    "%matplotlib inline\n",
    "\n",
    "# To prevent automatic figure display when execution of the cell ends\n",
    "%config InlineBackend.close_figures=False \n",
    "\n",
    "\n",
    "plt.ioff()\n",
    "ax=plt.gca()\n",
    "\n",
    "out=widgets.Output()\n",
    "button=widgets.Button(description='Show random square')\n",
    "vbox=widgets.VBox(children=(out,button))\n",
    "display(vbox)\n",
    "\n",
    "def click(b):\n",
    "    ax.clear()\n",
    "    image_index = random.choice(range(0, x_test.shape[0]))\n",
    "    #get the name of the image and the squareIdx, needed to retrived the label from the labelled dataset\n",
    "    pred = model.predict(x_test[image_index].reshape(1, x_test[image_index].shape[0], x_test[image_index].shape[1], 1))\n",
    "    \n",
    "    # check labels    \n",
    "    ax.imshow(x_test[image_index].reshape(30, 30), cmap=plt.cm.gray)\n",
    "    ax.set_axis_off()\n",
    "    ax.set_title(str(pred.argmax()))\n",
    "        \n",
    "    with out:\n",
    "        clear_output(wait=True)\n",
    "        display(ax.figure)\n",
    "\n",
    "button.on_click(click)\n",
    "click(None)"
   ]
  },
  {
   "cell_type": "markdown",
   "metadata": {},
   "source": [
    "# Save model"
   ]
  },
  {
   "cell_type": "code",
   "execution_count": 37,
   "metadata": {},
   "outputs": [
    {
     "name": "stdout",
     "output_type": "stream",
     "text": [
      "Saved model to disk\n"
     ]
    }
   ],
   "source": [
    "model.save(\"numbersModel.h5\")\n",
    "print(\"Saved model to disk\")"
   ]
  },
  {
   "cell_type": "code",
   "execution_count": null,
   "metadata": {},
   "outputs": [],
   "source": []
  }
 ],
 "metadata": {
  "kernelspec": {
   "display_name": "Python 3",
   "language": "python",
   "name": "python3"
  },
  "language_info": {
   "codemirror_mode": {
    "name": "ipython",
    "version": 3
   },
   "file_extension": ".py",
   "mimetype": "text/x-python",
   "name": "python",
   "nbconvert_exporter": "python",
   "pygments_lexer": "ipython3",
   "version": "3.6.8"
  }
 },
 "nbformat": 4,
 "nbformat_minor": 2
}
