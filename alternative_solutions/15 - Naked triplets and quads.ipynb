{
 "cells": [
  {
   "cell_type": "code",
   "execution_count": 1,
   "metadata": {},
   "outputs": [],
   "source": [
    "# imports\n",
    "from itertools import combinations\n",
    "import numpy as np\n",
    "from solverWithPairs import *"
   ]
  },
  {
   "cell_type": "code",
   "execution_count": 2,
   "metadata": {},
   "outputs": [],
   "source": [
    "# row 0, col 0, 1 and 6 are triplets\n",
    "tripSudoku = np.zeros((9,9))\n",
    "tripSudoku[0,2] = 7\n",
    "tripSudoku[0,3] = 2\n",
    "tripSudoku[0,4] = 3\n",
    "tripSudoku[0,5] = 4\n",
    "tripSudoku[1,0] = 6\n",
    "tripSudoku[1,1] = 8\n",
    "tripSudoku[3,6] = 6\n",
    "tripSudoku[4,6] = 8\n",
    "tripSudoku[3,7] = 5\n",
    "tripSudoku[3,8] = 1\n",
    "\n",
    "# another triplet, but this time not obvious\n",
    "# in row 0, col 0, 4, 8\n",
    "nakedTripSudoku = np.zeros((9,9))\n",
    "nakedTripSudoku[0,1] = 2\n",
    "nakedTripSudoku[1,1] = 3\n",
    "nakedTripSudoku[2,1] = 7\n",
    "nakedTripSudoku[6,0] = 4\n",
    "nakedTripSudoku[3,0] = 1\n",
    "nakedTripSudoku[4,0] = 8\n",
    "nakedTripSudoku[5,0] = 9\n",
    "nakedTripSudoku[3,2] = 5\n",
    "nakedTripSudoku[2,4] = 3\n",
    "nakedTripSudoku[1,4] = 5\n",
    "nakedTripSudoku[4,3] = 9\n",
    "nakedTripSudoku[4,4] = 1\n",
    "nakedTripSudoku[3,4] = 4\n",
    "nakedTripSudoku[5,4] = 7\n",
    "nakedTripSudoku[7,4] = 9\n",
    "nakedTripSudoku[7,5] = 4\n",
    "nakedTripSudoku[3,5] = 8\n",
    "nakedTripSudoku[4,2] = 6\n",
    "nakedTripSudoku[6,3] = 1\n",
    "nakedTripSudoku[7,3] = 8\n",
    "nakedTripSudoku[3,3] = 6\n",
    "nakedTripSudoku[1,5] = 9\n",
    "nakedTripSudoku[1,6] = 1\n",
    "nakedTripSudoku[2,6] = 6\n",
    "nakedTripSudoku[4,6] = 5\n",
    "nakedTripSudoku[5,6] = 8\n",
    "nakedTripSudoku[6,7] = 8\n",
    "nakedTripSudoku[3,8] = 3\n",
    "nakedTripSudoku[4,8] = 4\n",
    "nakedTripSudoku[6,8] = 7\n",
    "nakedTripSudoku[8,8] = 9\n",
    "\n",
    "quadSudoku = np.zeros((9,9))\n",
    "quadSudoku[0,1] = 5\n",
    "quadSudoku[2,2] = 2\n",
    "quadSudoku[0,6] = 4\n",
    "quadSudoku[0,4] = 7\n",
    "quadSudoku[3,0] = 3\n",
    "quadSudoku[4,0] = 6\n",
    "quadSudoku[5,0] = 8\n",
    "quadSudoku[3,2] = 9\n",
    "quadSudoku[1,3] = 4\n",
    "quadSudoku[1,4] = 6\n",
    "quadSudoku[1,5] = 8\n",
    "quadSudoku[4,2] = 7\n",
    "quadSudoku[2,6] = 7\n",
    "quadSudoku[2,3] = 3\n",
    "quadSudoku[6,1] = 8\n"
   ]
  },
  {
   "cell_type": "code",
   "execution_count": 3,
   "metadata": {},
   "outputs": [],
   "source": [
    "def checkFor3(ns, idxs):\n",
    "    comb = list(combinations(idxs, 3))\n",
    "    for thisComb in comb:\n",
    "        lst1 = ns[thisComb[0]]\n",
    "        lst2 = ns[thisComb[1]]\n",
    "        lst3 = ns[thisComb[2]]\n",
    "        if len(lst1)>1 and len(lst2)>1 and len(lst3)>1:\n",
    "            lstTmp = lst1 + lst2 + lst3\n",
    "            lstTmp = np.array(lstTmp) \n",
    "            lstTmp = list(np.unique(lstTmp))\n",
    "            if len(lstTmp) == 3:\n",
    "                return(lstTmp, thisComb)\n",
    "    return([0], [0, 0, 0])\n",
    "\n",
    "\n",
    "def replace3(ns, typeIs):\n",
    "    replaceMade = False\n",
    "    for i in range(0,9):\n",
    "        idxs = getIdxs(i, typeIs)\n",
    "        comb = list(combinations(idxs, 3))\n",
    "        thisComb, idx = checkFor3(ns, idxs)\n",
    "        if len(thisComb) == 3:\n",
    "            for ii in comb:\n",
    "                if not ii == thisComb:\n",
    "                    orList = ns.copy()\n",
    "                    ns[ii[0]] = remove_values_from_list_V2(ns[ii[0]], thisComb)\n",
    "                    ns[ii[1]] = remove_values_from_list_V2(ns[ii[1]], thisComb)\n",
    "                    ns[ii[2]] = remove_values_from_list_V2(ns[ii[2]], thisComb)\n",
    "                    if not orList == ns:\n",
    "                        replaceMade = True\n",
    "    return(ns, replaceMade)\n",
    "\n",
    "def remove_values_from_list_V2(the_list, val):\n",
    "    for i in val:\n",
    "        the_list = [value for value in the_list if value != i]\n",
    "    return(the_list)\n",
    "\n",
    "# Finally, create a function to wrap everything\n",
    "def solveNaked3(grid):\n",
    "    nsPossibilities = getPossibilities(grid)\n",
    "    keepLooping = True\n",
    "    while keepLooping:\n",
    "        nsPossibilities, replaceMadeR = replace3(nsPossibilities, 'row')\n",
    "        nsPossibilities, replaceMadeC = replace3(nsPossibilities, 'col')\n",
    "        nsPossibilities, replaceMadeS = replace3(nsPossibilities, 'square')\n",
    "        if not replaceMadeR and not replaceMadeC and not replaceMadeS:\n",
    "            keepLooping = False\n",
    "    grid = fillGridFromPoss(grid, nsPossibilities)\n",
    "    return(grid)"
   ]
  },
  {
   "cell_type": "code",
   "execution_count": 4,
   "metadata": {},
   "outputs": [],
   "source": [
    "ns = getPossibilities(tripSudoku)\n",
    "g = solveNaked3(tripSudoku)"
   ]
  },
  {
   "cell_type": "markdown",
   "metadata": {},
   "source": [
    "## Quads"
   ]
  },
  {
   "cell_type": "code",
   "execution_count": 5,
   "metadata": {},
   "outputs": [],
   "source": [
    "def checkFor4(ns, idxs):\n",
    "    comb = list(combinations(idxs, 4))\n",
    "    for thisComb in comb:\n",
    "        lst1 = ns[thisComb[0]]\n",
    "        lst2 = ns[thisComb[1]]\n",
    "        lst3 = ns[thisComb[2]]\n",
    "        lst4 = ns[thisComb[3]]\n",
    "        if len(lst1)>1 and len(lst2)>1 and len(lst3)>1 and len(lst4)>1:\n",
    "            lstTmp = lst1 + lst2 + lst3 +lst4\n",
    "            lstTmp = np.array(lstTmp) \n",
    "            lstTmp = list(np.unique(lstTmp))\n",
    "            if len(lstTmp) == 4:\n",
    "                return(lstTmp, thisComb)\n",
    "    return([0], [0, 0, 0, 0])\n",
    "\n",
    "\n",
    "def replace4(ns, typeIs):\n",
    "    replaceMade = False\n",
    "    for i in range(0,9):\n",
    "        idxs = getIdxs(i, typeIs)\n",
    "        comb = list(combinations(idxs, 4))\n",
    "        thisComb, idx = checkFor4(ns, idxs)\n",
    "        if len(thisComb) == 4:\n",
    "            for ii in comb:\n",
    "                if not ii == thisComb:\n",
    "                    orList = ns.copy()\n",
    "                    ns[ii[0]] = remove_values_from_list_V2(ns[ii[0]], thisComb)\n",
    "                    ns[ii[1]] = remove_values_from_list_V2(ns[ii[1]], thisComb)\n",
    "                    ns[ii[2]] = remove_values_from_list_V2(ns[ii[2]], thisComb)\n",
    "                    ns[ii[3]] = remove_values_from_list_V2(ns[ii[3]], thisComb)\n",
    "                    if not orList == ns:\n",
    "                        replaceMade = True\n",
    "    return(ns, replaceMade)\n",
    "\n",
    "# Finally, create a function to wrap everything\n",
    "def solveNaked4(grid):\n",
    "    nsPossibilities = getPossibilities(grid)\n",
    "    keepLooping = True\n",
    "    while keepLooping:\n",
    "        nsPossibilities, replaceMadeR = replace4(nsPossibilities, 'row')\n",
    "        nsPossibilities, replaceMadeC = replace4(nsPossibilities, 'col')\n",
    "        nsPossibilities, replaceMadeS = replace4(nsPossibilities, 'square')\n",
    "        if not replaceMadeR and not replaceMadeC and not replaceMadeS:\n",
    "            keepLooping = False\n",
    "    grid = fillGridFromPoss(grid, nsPossibilities)\n",
    "    return(grid)\n"
   ]
  },
  {
   "cell_type": "code",
   "execution_count": 7,
   "metadata": {},
   "outputs": [
    {
     "name": "stderr",
     "output_type": "stream",
     "text": [
      "C:\\Users\\JOSA\\AppData\\Local\\Continuum\\miniconda3\\lib\\site-packages\\ipykernel_launcher.py:3: DeprecationWarning: elementwise comparison failed; this will raise an error in the future.\n",
      "  This is separate from the ipykernel package so we can avoid doing imports until\n"
     ]
    },
    {
     "data": {
      "text/plain": [
       "False"
      ]
     },
     "execution_count": 7,
     "metadata": {},
     "output_type": "execute_result"
    }
   ],
   "source": [
    "ns = getPossibilities(tripSudoku)\n",
    "p = solveNaked3(tripSudoku)\n",
    "ns == p"
   ]
  },
  {
   "cell_type": "code",
   "execution_count": null,
   "metadata": {},
   "outputs": [],
   "source": []
  }
 ],
 "metadata": {
  "kernelspec": {
   "display_name": "Python 3",
   "language": "python",
   "name": "python3"
  },
  "language_info": {
   "codemirror_mode": {
    "name": "ipython",
    "version": 3
   },
   "file_extension": ".py",
   "mimetype": "text/x-python",
   "name": "python",
   "nbconvert_exporter": "python",
   "pygments_lexer": "ipython3",
   "version": "3.6.8"
  }
 },
 "nbformat": 4,
 "nbformat_minor": 2
}
