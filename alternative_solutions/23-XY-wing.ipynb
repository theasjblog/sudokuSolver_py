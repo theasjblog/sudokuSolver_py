{
 "cells": [
  {
   "cell_type": "markdown",
   "metadata": {},
   "source": [
    "https://www.learn-sudoku.com/xy-wing.html"
   ]
  },
  {
   "cell_type": "code",
   "execution_count": 1,
   "metadata": {},
   "outputs": [],
   "source": [
    "import numpy as np\n",
    "from itertools import combinations\n",
    "from baseNaked234Hidden234Xwing import *"
   ]
  },
  {
   "cell_type": "code",
   "execution_count": 2,
   "metadata": {},
   "outputs": [],
   "source": [
    "# xy wing in [2,0], [2,3], [0,5] = 1, 7, 2\n",
    "xywingSudoku = np.zeros((9,9))\n",
    "xywingSudoku[0,1] = 4\n",
    "xywingSudoku[0,3] = 5\n",
    "xywingSudoku[0,4] = 9\n",
    "xywingSudoku[1,0] = 5\n",
    "xywingSudoku[1,1] = 9\n",
    "xywingSudoku[1,2] = 7\n",
    "xywingSudoku[1,4] = 8\n",
    "xywingSudoku[2,1] = 6\n",
    "xywingSudoku[2,2] = 8\n",
    "xywingSudoku[2,4] = 3\n",
    "xywingSudoku[2,5] = 4\n",
    "xywingSudoku[3,2] = 2\n",
    "xywingSudoku[4,5] = 2\n",
    "xywingSudoku[0,6] = 6\n",
    "xywingSudoku[3,3] = 1"
   ]
  },
  {
   "cell_type": "code",
   "execution_count": 3,
   "metadata": {},
   "outputs": [],
   "source": [
    "# find the 3 cells\n",
    "# 3 numbers in common\n",
    "# each cell has only 2 numbers\n",
    "# each cell share only one umber with the other two\n",
    "# only one of the 3 intercet both the other two\n",
    "#list(np.unique(np.asarray([3,4] + [8,4])))\n",
    "# first just look for 3 cells tht could be a xy wing, we worry about intersection later\n",
    "\n",
    "def checkForXywing(ns):\n",
    "    comb = list(combinations(list(range(0,81)), 3))\n",
    "    posAre = []\n",
    "    for thisComb in comb:\n",
    "        num1 = ns[thisComb[0]]\n",
    "        num2 = ns[thisComb[1]]\n",
    "        num3 = ns[thisComb[2]]\n",
    "        if len(num1) == 2 and len(num2) == 2 and len(num3) ==2:\n",
    "            int1 = list(np.unique(np.asarray(num1 + num2)))\n",
    "            int2 = list(np.unique(np.asarray(num2 + num3)))\n",
    "            int3 = list(np.unique(np.asarray(num1 + num3)))\n",
    "            allInt = list(np.unique(np.asarray(int1 + int2 + int3)))\n",
    "            if len(int1) == 3 and len(int2) == 3 and len(int3) == 3 and len(allInt) == 3:\n",
    "                posAre.append(thisComb)\n",
    "\n",
    "    #now we validate positions\n",
    "    #this is wrong\n",
    "    okPos = []\n",
    "    okVert = []\n",
    "    okWings = []\n",
    "    for thisCandidates in posAre:\n",
    "        countApp = []\n",
    "        for thisIdx in thisCandidates:\n",
    "            allInts = getIntersections(thisIdx)\n",
    "            countApp.append(len(intersection(allInts, list(thisCandidates))))\n",
    "        if len(intersection(countApp, [3])) == 1:\n",
    "            okPos.append(thisCandidates)\n",
    "            okVert.append(findIdx(countApp, 3))\n",
    "            okWings.append(negFindIdx(countApp, 3))\n",
    "    return(okPos, okVert, okWings)\n",
    "\n",
    "# all intersections for a given 0-80 IDX\n",
    "def getIntersections(idx):\n",
    "    m, s = getMapping()\n",
    "    rowCol = np.ndarray.tolist(np.argwhere(m == idx))\n",
    "    ints = [np.ndarray.tolist(m[rowCol[0][0],:]) +  np.ndarray.tolist(m[:,rowCol[0][1]])][0]\n",
    "    for i in range(0,9):\n",
    "        idxS = getIdxs(i, 'square')\n",
    "        if idx in idxS:\n",
    "            ints = ints + idxS\n",
    "    ints = np.ndarray.tolist(np.unique(np.asarray(ints)))\n",
    "    return(ints)\n",
    "\n",
    "def findIdx(lst, a):\n",
    "    return [i for i, x in enumerate(lst) if x==a]\n",
    "\n",
    "def negFindIdx(lst, a):\n",
    "    return [i for i, x in enumerate(lst) if not x==a]\n",
    "\n",
    "# do replacements\n",
    "def replaceXywing(ns, pos, verts, wings):\n",
    "    if len(pos) == 0:\n",
    "        return(ns)\n",
    "    for i in range(0, len(pos)):\n",
    "        thisSet = list(pos[i])\n",
    "        thisVert = verts[i]\n",
    "        thisWings = wings[i]\n",
    "        lst1 = getIntersections(pos[0][thisWings[0]])\n",
    "        lst2 = getIntersections(pos[0][thisWings[1]])\n",
    "        tmpLst = intersection(lst1, lst2)\n",
    "        toRemove = intersection(ns[pos[0][thisWings[0]]], ns[pos[0][thisWings[1]]])[0]\n",
    "        for ii in tmpLst:\n",
    "            thisNs = ns[ii]\n",
    "            if len(thisNs)>1 and toRemove in thisNs:\n",
    "                thisNs.remove(toRemove)\n",
    "            ns[ii] = thisNs\n",
    "    return(ns)\n",
    "\n",
    "\n",
    "def solevXYwing(ns):\n",
    "    pos, vert, wings = checkForXywing(ns)\n",
    "    ns = replaceXywing(ns, pos, vert, wings)\n",
    "    return(ns)\n"
   ]
  },
  {
   "cell_type": "code",
   "execution_count": 4,
   "metadata": {},
   "outputs": [
    {
     "name": "stdout",
     "output_type": "stream",
     "text": [
      "[[0. 4. 0. 5. 9. 0. 6. 0. 0.]\n",
      " [5. 9. 7. 0. 8. 0. 0. 0. 0.]\n",
      " [0. 6. 8. 0. 3. 4. 0. 0. 0.]\n",
      " [0. 0. 2. 1. 0. 0. 0. 0. 0.]\n",
      " [0. 0. 0. 0. 0. 2. 0. 0. 0.]\n",
      " [0. 0. 0. 0. 0. 0. 0. 0. 0.]\n",
      " [0. 0. 0. 0. 0. 0. 0. 0. 0.]\n",
      " [0. 0. 0. 0. 0. 0. 0. 0. 0.]\n",
      " [0. 0. 0. 0. 0. 0. 0. 0. 0.]]\n",
      "[[0. 4. 3. 5. 9. 0. 6. 0. 0.]\n",
      " [5. 9. 7. 0. 8. 0. 0. 0. 0.]\n",
      " [0. 6. 8. 0. 3. 4. 0. 0. 0.]\n",
      " [0. 0. 2. 1. 0. 0. 0. 0. 0.]\n",
      " [0. 0. 0. 0. 0. 2. 0. 0. 0.]\n",
      " [0. 0. 0. 0. 0. 0. 0. 0. 0.]\n",
      " [0. 0. 0. 0. 0. 0. 0. 0. 0.]\n",
      " [0. 0. 0. 0. 0. 0. 0. 0. 0.]\n",
      " [0. 0. 0. 0. 0. 0. 0. 0. 0.]]\n"
     ]
    }
   ],
   "source": [
    "print(xywingSudoku)\n",
    "ns = getPossibilities(xywingSudoku)\n",
    "ns = solevXYwing(ns)\n",
    "grid = fillGridFromPoss(xywingSudoku, ns)\n",
    "print(grid)"
   ]
  },
  {
   "cell_type": "code",
   "execution_count": null,
   "metadata": {},
   "outputs": [],
   "source": []
  }
 ],
 "metadata": {
  "kernelspec": {
   "display_name": "Python 3",
   "language": "python",
   "name": "python3"
  },
  "language_info": {
   "codemirror_mode": {
    "name": "ipython",
    "version": 3
   },
   "file_extension": ".py",
   "mimetype": "text/x-python",
   "name": "python",
   "nbconvert_exporter": "python",
   "pygments_lexer": "ipython3",
   "version": "3.6.8"
  }
 },
 "nbformat": 4,
 "nbformat_minor": 2
}
