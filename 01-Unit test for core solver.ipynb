{
 "cells": [
  {
   "cell_type": "markdown",
   "metadata": {},
   "source": [
    "# Unit tests for the core solver"
   ]
  },
  {
   "cell_type": "code",
   "execution_count": 1,
   "metadata": {},
   "outputs": [],
   "source": [
    "# import the core solver functions\n",
    "from solverFunctions import *"
   ]
  },
  {
   "cell_type": "code",
   "execution_count": 2,
   "metadata": {},
   "outputs": [],
   "source": [
    "import unittest\n",
    "\n",
    "class Test(unittest.TestCase):\n",
    "\n",
    "    def test_validateGrid(self):\n",
    "        self.assertFalse(validateGrid(invalidRow))\n",
    "        self.assertFalse(validateGrid(invalidCol))\n",
    "        self.assertFalse(validateGrid(invalidSquare))\n",
    "        self.assertTrue(validateGrid(sampleSudoku))\n",
    "    \n",
    "    def test_squareID(self):\n",
    "        res = []\n",
    "        for i in list(range(0,9)):\n",
    "            res = np.append(res, getSquareID(i))\n",
    "        self.assertTrue(np.array_equal(res, [0,0,0,3,3,3,6,6,6]))\n",
    "        \n",
    "    def test_gridFill(self):\n",
    "        testGrid = emptySudoku.copy()\n",
    "        subGrid1 = np.array([[1,2,3],\n",
    "                             [4,5,6],\n",
    "                             [7,8,0]])\n",
    "        subGrid2 = np.array([[1,2,3],\n",
    "                             [4,5,6],\n",
    "                             [7,8,9]])\n",
    "        subGrid3 = np.array([[1,2,3],\n",
    "                             [4,5,6],\n",
    "                             [7,0,0]])\n",
    "        testGrid[0:3,0:3] = subGrid1\n",
    "        self.assertTrue(np.array_equal(fillSquares(testGrid)[0:3, 0:3],\n",
    "                                       np.array([[1,2,3],\n",
    "                                                 [4,5,6],\n",
    "                                                 [7,8,9]])))\n",
    "        testGrid[0:3,0:3] = subGrid2\n",
    "        self.assertTrue(np.array_equal(fillSquares(testGrid)[0:3, 0:3],\n",
    "                                       np.array([[1,2,3],\n",
    "                                                 [4,5,6],\n",
    "                                                 [7,8,9]])))\n",
    "        testGrid[0:3,0:3] = subGrid3\n",
    "        self.assertTrue(np.array_equal(fillSquares(testGrid)[0:3, 0:3],\n",
    "                                       subGrid3))\n",
    "\n",
    "    def test_solver(self):\n",
    "        self.assertTrue(np.array_equal(solveSudoku(sampleSudoku.copy()),\n",
    "                                      solvedSudoku))\n",
    "        self.assertTrue(type(solveSudoku(emptySudoku)), str)\n",
    "        self.assertTrue(type(solveSudoku(invalidRow)), str)\n",
    "        self.assertTrue(type(solveSudoku(invalidCol)), str)\n",
    "        self.assertTrue(type(solveSudoku(invalidSquare)), str)\n",
    "    \n",
    "    def test_probFun(self):\n",
    "        self.assertTrue(probabilityFunction(sampleSudoku, 4, 4, 5))\n",
    "        self.assertFalse(probabilityFunction(sampleSudoku, 0, 0, 5))\n",
    "        self.assertFalse(probabilityFunction(sampleSudoku, 0, 2, 8))\n",
    "        self.assertFalse(probabilityFunction(sampleSudoku, 2, 0, 7))\n",
    "        self.assertFalse(probabilityFunction(sampleSudoku, 2, 0, 3))\n",
    "        \n",
    "        \n"
   ]
  },
  {
   "cell_type": "code",
   "execution_count": 3,
   "metadata": {},
   "outputs": [
    {
     "name": "stderr",
     "output_type": "stream",
     "text": [
      "test_gridFill (__main__.Test) ... ok\n",
      "test_probFun (__main__.Test) ... ok\n",
      "test_solver (__main__.Test) ... ok\n",
      "test_squareID (__main__.Test) ... ok\n",
      "test_validateGrid (__main__.Test) ... "
     ]
    },
    {
     "name": "stdout",
     "output_type": "stream",
     "text": [
      "duplicates in rows or cols\n",
      "duplicates in rows or cols\n",
      "duplicates in square\n",
      "duplicates in rows or cols\n",
      "duplicates in rows or cols\n",
      "duplicates in square\n"
     ]
    },
    {
     "name": "stderr",
     "output_type": "stream",
     "text": [
      "ok\n",
      "\n",
      "----------------------------------------------------------------------\n",
      "Ran 5 tests in 0.072s\n",
      "\n",
      "OK\n"
     ]
    },
    {
     "data": {
      "text/plain": [
       "<unittest.main.TestProgram at 0x1b949d61f60>"
      ]
     },
     "execution_count": 3,
     "metadata": {},
     "output_type": "execute_result"
    }
   ],
   "source": [
    "unittest.main(argv=[''], verbosity=2, exit =False)"
   ]
  },
  {
   "cell_type": "code",
   "execution_count": null,
   "metadata": {},
   "outputs": [],
   "source": []
  },
  {
   "cell_type": "code",
   "execution_count": null,
   "metadata": {},
   "outputs": [],
   "source": []
  }
 ],
 "metadata": {
  "kernelspec": {
   "display_name": "Python 3",
   "language": "python",
   "name": "python3"
  },
  "language_info": {
   "codemirror_mode": {
    "name": "ipython",
    "version": 3
   },
   "file_extension": ".py",
   "mimetype": "text/x-python",
   "name": "python",
   "nbconvert_exporter": "python",
   "pygments_lexer": "ipython3",
   "version": "3.6.1"
  }
 },
 "nbformat": 4,
 "nbformat_minor": 2
}
