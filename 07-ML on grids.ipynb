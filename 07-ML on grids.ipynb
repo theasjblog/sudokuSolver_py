{
 "cells": [
  {
   "cell_type": "markdown",
   "metadata": {},
   "source": [
    "Based on the process to get grids identified in notebooks 5 and 6.\n",
    "\n",
    "I already have created the npy images. I now need to read them in to create the train/test/validate datasets.\n",
    "\n"
   ]
  },
  {
   "cell_type": "code",
   "execution_count": 45,
   "metadata": {},
   "outputs": [],
   "source": [
    "import os\n",
    "import numpy as np\n",
    "import matplotlib.pyplot as plt\n",
    "import random\n",
    "%matplotlib inline"
   ]
  },
  {
   "cell_type": "code",
   "execution_count": 68,
   "metadata": {},
   "outputs": [],
   "source": [
    "labelsDataDir = 'C:\\\\Users\\\\JOSA\\\\Documents\\\\repos\\\\allImgsLabelledDB\\\\'\n",
    "npyDataDir = 'C:\\\\Users\\\\JOSA\\\\Documents\\\\repos\\\\npyData\\\\'\n",
    "\n",
    "allNpys = []\n",
    "for file in os.listdir(npyDataDir):\n",
    "    if file.endswith(\".npy\"):\n",
    "        allNpys.append(file)\n"
   ]
  },
  {
   "cell_type": "code",
   "execution_count": 70,
   "metadata": {},
   "outputs": [
    {
     "data": {
      "application/vnd.jupyter.widget-view+json": {
       "model_id": "62024df50c2149688a9e62ff2554bc27",
       "version_major": 2,
       "version_minor": 0
      },
      "text/plain": [
       "VBox(children=(Output(), Button(description='Show random square', style=ButtonStyle())))"
      ]
     },
     "metadata": {},
     "output_type": "display_data"
    }
   ],
   "source": [
    "######################\n",
    "import random\n",
    "import ipywidgets as widgets\n",
    "from ipywidgets import interact, interact_manual, interactive\n",
    "from IPython.display import display,clear_output    \n",
    "    \n",
    "%matplotlib inline\n",
    "\n",
    "# To prevent automatic figure display when execution of the cell ends\n",
    "%config InlineBackend.close_figures=False \n",
    "\n",
    "\n",
    "plt.ioff()\n",
    "ax=plt.gca()\n",
    "\n",
    "out=widgets.Output()\n",
    "button=widgets.Button(description='Show random square')\n",
    "vbox=widgets.VBox(children=(out,button))\n",
    "display(vbox)\n",
    "\n",
    "def click(b):\n",
    "    ax.clear()\n",
    "    #get the name of the image and the squareIdx, needed to retrived the label from the labelled dataset\n",
    "    pickImg = random.choice(allNpys)\n",
    "    imgName = pickImg.split('_')[0] # + '.npy' for the data, # + '.dat' for the labels\n",
    "    squareIdx = int(pickImg.split('_')[1].split('.')[0])\n",
    "    # #read the dat\n",
    "    #labels = np.loadtxt(os.path.join(labelsDataDir, imgName + '.dat' ))\n",
    "    allLabels = []\n",
    "    with open(os.path.join(labelsDataDir, imgName + '.dat' )) as f:\n",
    "        allLabels.append([line.split()[0:9] for line in f])\n",
    "\n",
    "    allLabels = allLabels[0][2:11]\n",
    "    allLabels2 = []\n",
    "    for i in range(0, 9):\n",
    "        allLabels2 = allLabels2 + list(map(int, allLabels[i]))\n",
    "    # check labels\n",
    "        \n",
    "    ax.imshow(np.load(os.path.join(npyDataDir, pickImg)), cmap=plt.cm.gray)\n",
    "    ax.set_axis_off()\n",
    "    ax.set_title(pickImg + ', ' + str(allLabels2[squareIdx]))\n",
    "        \n",
    "    with out:\n",
    "        clear_output(wait=True)\n",
    "        display(ax.figure)\n",
    "\n",
    "button.on_click(click)\n",
    "click(None)"
   ]
  },
  {
   "cell_type": "markdown",
   "metadata": {},
   "source": [
    "Some rotaed images are wrong. Check them\n",
    "1039_26\n",
    "1040_25"
   ]
  },
  {
   "cell_type": "code",
   "execution_count": 72,
   "metadata": {},
   "outputs": [
    {
     "data": {
      "image/png": "[encoded data removed]",
      "text/plain": [
       "<Figure size 432x288 with 1 Axes>"
      ]
     },
     "metadata": {
      "needs_background": "light"
     },
     "output_type": "display_data"
    },
    {
     "name": "stdout",
     "output_type": "stream",
     "text": [
      "[['0', '5', '3', '4', '0', '7', '6', '1', '0'], ['8', '0', '0', '0', '0', '0', '0', '0', '3'], ['0', '4', '0', '0', '0', '0', '0', '9', '0'], ['3', '0', '0', '8', '0', '6', '0', '0', '5'], ['0', '0', '0', '0', '0', '0', '0', '0', '0'], ['6', '0', '0', '5', '0', '9', '0', '0', '8'], ['0', '1', '0', '0', '0', '0', '0', '2', '0'], ['2', '0', '0', '0', '0', '0', '0', '0', '4'], ['0', '8', '9', '6', '0', '3', '7', '5', '0']]\n"
     ]
    }
   ],
   "source": [
    "#get the name of the image and the squareIdx, needed to retrived the label from the labelled dataset\n",
    "pickImg = random.choice(allNpys)\n",
    "pickImg = 'image1039_26.npy'\n",
    "imgName = pickImg.split('_')[0] # + '.npy' for the data, # + '.dat' for the labels\n",
    "squareIdx = int(pickImg.split('_')[1].split('.')[0])\n",
    "# #read the dat\n",
    "#labels = np.loadtxt(os.path.join(labelsDataDir, imgName + '.dat' ))\n",
    "allLabels = []\n",
    "with open(os.path.join(labelsDataDir, imgName + '.dat' )) as f:\n",
    "    allLabels.append([line.split()[0:9] for line in f])\n",
    "\n",
    "allLabels = allLabels[0][2:11]\n",
    "allLabels2 = []\n",
    "for i in range(0, 9):\n",
    "    allLabels2 = allLabels2 + list(map(int, allLabels[i]))\n",
    "# check labels\n",
    "plt.imshow(np.load(os.path.join(npyDataDir, pickImg)), cmap=plt.cm.gray)\n",
    "plt.title(pickImg + ', ' + str(allLabels2[squareIdx]))\n",
    "plt.show()\n",
    "print(allLabels)\n"
   ]
  },
  {
   "cell_type": "markdown",
   "metadata": {},
   "source": [
    "Rotated images are an issue. we need to account for it.\n",
    "\n",
    "The easy ways is for me to create a list of images to rotate, and if the image is one of those:\n",
    "    \n",
    "* Rotate the saved npy.\n",
    "* Modify the image suqreIdx with a function that transpose it\n",
    "\n",
    "All of this is done below"
   ]
  },
  {
   "cell_type": "code",
   "execution_count": 87,
   "metadata": {},
   "outputs": [
    {
     "name": "stdout",
     "output_type": "stream",
     "text": [
      "[[0.20519419 0.13911229 0.92579358 0.50806449 0.76634302 0.74025815\n",
      "  0.45339826 0.20504869 0.84149227]\n",
      " [0.44828759 0.56702462 0.49369511 0.23894933 0.5417929  0.08657049\n",
      "  0.19940969 0.15291503 0.36034761]\n",
      " [0.31324156 0.37588689 0.54442291 0.3517718  0.8034328  0.2589538\n",
      "  0.44836567 0.79992394 0.58981791]\n",
      " [0.87805997 0.80649413 0.00781699 0.02649803 0.34581071 0.88669185\n",
      "  0.43311028 0.61359802 0.35725618]\n",
      " [0.04608723 0.02042196 0.62797968 0.95105706 0.32293895 0.22360377\n",
      "  0.23563726 0.75912514 0.85623346]\n",
      " [0.52524885 0.86616205 0.39406673 0.33587205 0.95044891 0.12206079\n",
      "  0.95915428 0.73119659 0.02271806]\n",
      " [0.47559416 0.52645951 0.29983047 0.85173932 0.31003159 0.7831109\n",
      "  0.6589037  0.99246979 0.23055067]\n",
      " [0.43364285 0.72199973 0.66898959 0.75033053 0.29761185 0.38293023\n",
      "  0.15846016 0.32554963 0.85518294]\n",
      " [0.33618441 0.5677814  0.62291217 0.68711435 0.0267899  0.84199103\n",
      "  0.34828549 0.63469499 0.47418101]]\n",
      "[72. 63. 54. 45. 36. 27. 18.  9.  0. 73. 64. 55. 46. 37. 28. 19. 10.  1.\n",
      " 74. 65. 56. 47. 38. 29. 20. 11.  2. 75. 66. 57. 48. 39. 30. 21. 12.  3.\n",
      " 76. 67. 58. 49. 40. 31. 22. 13.  4. 77. 68. 59. 50. 41. 32. 23. 14.  5.\n",
      " 78. 69. 60. 51. 42. 33. 24. 15.  6. 79. 70. 61. 52. 43. 34. 25. 16.  7.\n",
      " 80. 71. 62. 53. 44. 35. 26. 17.  8.]\n",
      "[[0]]\n"
     ]
    }
   ],
   "source": [
    "randNp = np.random.rand(9,9)\n",
    "print(randNp)  \n",
    "\n",
    "oldIdx = np.linspace(0,80,81).reshape((9,9))\n",
    "newIdx = np.rot90(oldIdx, k = 3)\n",
    "newIdxF = np.ndarray.flatten(newIdx)\n",
    "print(newIdxF)\n",
    "print(np.argwhere(newIdxF == 72))\n",
    "\n",
    "#transpose and use the index of matching number as new index"
   ]
  },
  {
   "cell_type": "code",
   "execution_count": null,
   "metadata": {},
   "outputs": [],
   "source": []
  }
 ],
 "metadata": {
  "kernelspec": {
   "display_name": "Python 3",
   "language": "python",
   "name": "python3"
  },
  "language_info": {
   "codemirror_mode": {
    "name": "ipython",
    "version": 3
   },
   "file_extension": ".py",
   "mimetype": "text/x-python",
   "name": "python",
   "nbconvert_exporter": "python",
   "pygments_lexer": "ipython3",
   "version": "3.6.8"
  }
 },
 "nbformat": 4,
 "nbformat_minor": 2
}
