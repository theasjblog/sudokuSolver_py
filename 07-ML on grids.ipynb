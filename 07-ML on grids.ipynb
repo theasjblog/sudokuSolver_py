{
 "cells": [
  {
   "cell_type": "markdown",
   "metadata": {},
   "source": [
    "Based on the process to get grids identified in notebooks 5 and 6.\n",
    "\n",
    "I already have created the npy images. I now need to read them in to create the train/test/validate datasets.\n",
    "\n"
   ]
  },
  {
   "cell_type": "code",
   "execution_count": 33,
   "metadata": {},
   "outputs": [],
   "source": [
    "import os\n",
    "import numpy as np\n",
    "import matplotlib.pyplot as plt\n",
    "import random\n",
    "%matplotlib inline"
   ]
  },
  {
   "cell_type": "code",
   "execution_count": 34,
   "metadata": {},
   "outputs": [],
   "source": [
    "labelsDataDir = 'C:\\\\Users\\\\JOSA\\\\Documents\\\\repos\\\\allImgsLabelledDB\\\\'\n",
    "npyDataDir = 'C:\\\\Users\\\\JOSA\\\\Documents\\\\repos\\\\npyData\\\\'\n",
    "\n",
    "allNpys = []\n",
    "for file in os.listdir(npyDataDir):\n",
    "    if file.endswith(\".npy\"):\n",
    "        allNpys.append(file)\n"
   ]
  },
  {
   "cell_type": "code",
   "execution_count": 40,
   "metadata": {},
   "outputs": [
    {
     "data": {
      "application/vnd.jupyter.widget-view+json": {
       "model_id": "057ee0f21c4c44d4a38906f60711ac25",
       "version_major": 2,
       "version_minor": 0
      },
      "text/plain": [
       "VBox(children=(Output(), Button(description='Show random square', style=ButtonStyle())))"
      ]
     },
     "metadata": {},
     "output_type": "display_data"
    }
   ],
   "source": [
    "######################\n",
    "import random\n",
    "import ipywidgets as widgets\n",
    "from ipywidgets import interact, interact_manual, interactive\n",
    "from IPython.display import display,clear_output    \n",
    "    \n",
    "%matplotlib inline\n",
    "\n",
    "# To prevent automatic figure display when execution of the cell ends\n",
    "%config InlineBackend.close_figures=False \n",
    "\n",
    "\n",
    "plt.ioff()\n",
    "ax=plt.gca()\n",
    "\n",
    "out=widgets.Output()\n",
    "button=widgets.Button(description='Show random square')\n",
    "vbox=widgets.VBox(children=(out,button))\n",
    "display(vbox)\n",
    "\n",
    "def click(b):\n",
    "    ax.clear()\n",
    "    #get the name of the image and the squareIdx, needed to retrived the label from the labelled dataset\n",
    "    testIdx = 0\n",
    "    while testIdx == 0:\n",
    "        pickImg = random.choice(allNpys)\n",
    "        imgName = pickImg.split('_')[0] # + '.npy' for the data, # + '.dat' for the labels\n",
    "        squareIdx = int(pickImg.split('_')[1].split('.')[0])\n",
    "        # #read the dat\n",
    "        #labels = np.loadtxt(os.path.join(labelsDataDir, imgName + '.dat' ))\n",
    "        allLabels = []\n",
    "        with open(os.path.join(labelsDataDir, imgName + '.dat' )) as f:\n",
    "            allLabels.append([line.split()[0:9] for line in f])\n",
    "\n",
    "        allLabels = allLabels[0][2:11]\n",
    "        allLabels2 = []\n",
    "        for i in range(0, 9):\n",
    "            allLabels2 = allLabels2 + list(map(int, allLabels[i]))\n",
    "    \n",
    "        testIdx = allLabels2[squareIdx]\n",
    "    # check labels    \n",
    "    ax.imshow(np.load(os.path.join(npyDataDir, pickImg)), cmap=plt.cm.gray)\n",
    "    ax.set_axis_off()\n",
    "    ax.set_title(pickImg + ', ' + str(allLabels2[squareIdx]))\n",
    "        \n",
    "    with out:\n",
    "        clear_output(wait=True)\n",
    "        display(ax.figure)\n",
    "\n",
    "button.on_click(click)\n",
    "click(None)"
   ]
  },
  {
   "cell_type": "markdown",
   "metadata": {},
   "source": [
    "Now we know we can correctly read in images and get the label. We now need to create the train datasets"
   ]
  },
  {
   "cell_type": "code",
   "execution_count": 86,
   "metadata": {},
   "outputs": [],
   "source": [
    "x_labels = []\n",
    "for i in range(0, len(allNpys)):\n",
    "    pickImg = allNpys[i]\n",
    "    imgName = pickImg.split('_')[0] # + '.npy' for the data, # + '.dat' for the labels\n",
    "    squareIdx = int(pickImg.split('_')[1].split('.')[0])\n",
    "    if os.path.isfile(os.path.join(labelsDataDir, imgName + '.dat' )):\n",
    "        # #read the dat\n",
    "        #labels = np.loadtxt(os.path.join(labelsDataDir, imgName + '.dat' ))\n",
    "        allLabels = []\n",
    "        with open(os.path.join(labelsDataDir, imgName + '.dat' )) as f:\n",
    "            allLabels.append([line.split()[0:9] for line in f])\n",
    "\n",
    "        allLabels = allLabels[0][2:11]\n",
    "        allLabels2 = []\n",
    "        for ii in range(0, 9):\n",
    "            allLabels2 = allLabels2 + list(map(int, allLabels[ii]))\n",
    "    \n",
    "        x_labels.append(allLabels2[squareIdx])\n",
    "        thisImg = np.load(os.path.join(npyDataDir, pickImg))\n",
    "        if i == 0:\n",
    "            x_train = thisImg\n",
    "        else:\n",
    "            x_train = np.dstack((x_train, thisImg))\n",
    "                      \n"
   ]
  },
  {
   "cell_type": "code",
   "execution_count": 87,
   "metadata": {},
   "outputs": [],
   "source": [
    "from sklearn.model_selection import train_test_split\n",
    "#prepare datasets\n",
    "x_train = np.transpose(x_train, (2, 0, 1))  \n",
    "# Reshaping the array to 4-dims so that it can work with the Keras API\n",
    "x_train = x_train.reshape(x_train.shape[0], x_train.shape[1],\n",
    "                                            x_train.shape[2], 1)\n",
    "y_train = np.array(x_labels)\n",
    "# Making sure that the values are float so that we can get decimal points after division\n",
    "x_train = x_train.astype('float32')\n",
    "# Normalizing the RGB codes by dividing it to the max RGB value.\n",
    "x_train /= 255\n",
    "# create testtrain/validate\n",
    "x_train, x_test, y_train, y_test = train_test_split(x_train, y_train, test_size=0.1, random_state=1234)\n",
    "x_train, x_validation, y_train, y_validation = train_test_split(x_train, y_train, test_size = 0.1, random_state = 1234)\n",
    "input_shape = (30, 30, 1)"
   ]
  },
  {
   "cell_type": "code",
   "execution_count": 88,
   "metadata": {},
   "outputs": [
    {
     "name": "stdout",
     "output_type": "stream",
     "text": [
      "Epoch 1/10\n",
      "13056/13056 [==============================] - 11s 837us/step - loss: 1.4659 - accuracy: 0.6393\n",
      "Epoch 2/10\n",
      "13056/13056 [==============================] - 11s 822us/step - loss: 1.1889 - accuracy: 0.6449\n",
      "Epoch 3/10\n",
      "13056/13056 [==============================] - 11s 824us/step - loss: 0.9094 - accuracy: 0.6761\n",
      "Epoch 4/10\n",
      "13056/13056 [==============================] - 11s 818us/step - loss: 0.8442 - accuracy: 0.6940\n",
      "Epoch 5/10\n",
      "13056/13056 [==============================] - 11s 824us/step - loss: 0.8079 - accuracy: 0.7040\n",
      "Epoch 6/10\n",
      "13056/13056 [==============================] - 11s 828us/step - loss: 0.7830 - accuracy: 0.7115\n",
      "Epoch 7/10\n",
      "13056/13056 [==============================] - 11s 814us/step - loss: 0.7563 - accuracy: 0.7263\n",
      "Epoch 8/10\n",
      "13056/13056 [==============================] - 11s 825us/step - loss: 0.7283 - accuracy: 0.7417\n",
      "Epoch 9/10\n",
      "13056/13056 [==============================] - 11s 816us/step - loss: 0.6953 - accuracy: 0.7559\n",
      "Epoch 10/10\n",
      "13056/13056 [==============================] - 11s 840us/step - loss: 0.6683 - accuracy: 0.7647\n",
      "1612/1612 [==============================] - 0s 279us/step\n"
     ]
    },
    {
     "data": {
      "image/png": "[encoded data removed]",
      "text/plain": [
       "<Figure size 432x288 with 1 Axes>"
      ]
     },
     "metadata": {
      "needs_background": "light"
     },
     "output_type": "display_data"
    }
   ],
   "source": [
    "# train model\n",
    "import tensorflow as tf\n",
    "import keras\n",
    "# Importing the required Keras modules containing model and layers\n",
    "from keras.models import Sequential\n",
    "from keras.layers import Dense, Conv2D, Dropout, Flatten, MaxPooling2D\n",
    "# Creating a Sequential Model and adding the layers\n",
    "model = Sequential()\n",
    "model.add(Conv2D(30, kernel_size=(3,3), input_shape=input_shape))\n",
    "model.add(MaxPooling2D(pool_size=(2, 2)))\n",
    "model.add(Flatten()) # Flattening the 2D arrays for fully connected layers\n",
    "model.add(Dense(128, activation=tf.nn.relu))\n",
    "model.add(Dropout(0.2))\n",
    "model.add(Dense(10,activation=tf.nn.softmax))\n",
    "\n",
    "\n",
    "model.compile(optimizer='adam', \n",
    "              loss='sparse_categorical_crossentropy', \n",
    "              metrics=['accuracy'])\n",
    "model.fit(x=x_train,y=y_train, epochs=10)\n",
    "\n",
    "\n",
    "\n",
    "model.evaluate(x_test, y_test)\n",
    "\n",
    "\n"
   ]
  },
  {
   "cell_type": "code",
   "execution_count": 91,
   "metadata": {},
   "outputs": [
    {
     "data": {
      "application/vnd.jupyter.widget-view+json": {
       "model_id": "6e86f89b013e4195af2e3dd40db84113",
       "version_major": 2,
       "version_minor": 0
      },
      "text/plain": [
       "VBox(children=(Output(), Button(description='Show random square', style=ButtonStyle())))"
      ]
     },
     "metadata": {},
     "output_type": "display_data"
    }
   ],
   "source": [
    "%matplotlib inline\n",
    "\n",
    "# To prevent automatic figure display when execution of the cell ends\n",
    "%config InlineBackend.close_figures=False \n",
    "\n",
    "\n",
    "plt.ioff()\n",
    "ax=plt.gca()\n",
    "\n",
    "out=widgets.Output()\n",
    "button=widgets.Button(description='Show random square')\n",
    "vbox=widgets.VBox(children=(out,button))\n",
    "display(vbox)\n",
    "\n",
    "def click(b):\n",
    "    ax.clear()\n",
    "    image_index = random.choice(range(0, x_test.shape[0]))\n",
    "    #get the name of the image and the squareIdx, needed to retrived the label from the labelled dataset\n",
    "    pred = model.predict(x_test[image_index].reshape(1, x_test[image_index].shape[0], x_test[image_index].shape[1], 1))\n",
    "    \n",
    "    # check labels    \n",
    "    ax.imshow(x_test[image_index].reshape(30, 30), cmap=plt.cm.gray)\n",
    "    ax.set_axis_off()\n",
    "    ax.set_title(str(pred.argmax()))\n",
    "        \n",
    "    with out:\n",
    "        clear_output(wait=True)\n",
    "        display(ax.figure)\n",
    "\n",
    "button.on_click(click)\n",
    "click(None)"
   ]
  },
  {
   "cell_type": "code",
   "execution_count": null,
   "metadata": {},
   "outputs": [],
   "source": []
  },
  {
   "cell_type": "code",
   "execution_count": null,
   "metadata": {},
   "outputs": [],
   "source": []
  }
 ],
 "metadata": {
  "kernelspec": {
   "display_name": "Python 3",
   "language": "python",
   "name": "python3"
  },
  "language_info": {
   "codemirror_mode": {
    "name": "ipython",
    "version": 3
   },
   "file_extension": ".py",
   "mimetype": "text/x-python",
   "name": "python",
   "nbconvert_exporter": "python",
   "pygments_lexer": "ipython3",
   "version": "3.6.8"
  }
 },
 "nbformat": 4,
 "nbformat_minor": 2
}
