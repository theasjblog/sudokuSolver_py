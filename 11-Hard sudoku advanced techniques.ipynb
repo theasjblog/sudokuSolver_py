{
 "cells": [
  {
   "cell_type": "markdown",
   "metadata": {},
   "source": [
    "Hard sudoku solving techniques are based on getting the possibilities for each box, and analyzing those possibilities to exclude numbers from certain cells"
   ]
  },
  {
   "cell_type": "code",
   "execution_count": 1,
   "metadata": {},
   "outputs": [],
   "source": [
    "# imports\n",
    "from itertools import permutations \n",
    "import numpy as np\n",
    "import sys\n",
    "import math\n",
    "import time\n",
    "from solverFunctions import *"
   ]
  },
  {
   "cell_type": "code",
   "execution_count": 2,
   "metadata": {},
   "outputs": [],
   "source": [
    "# test grids\n",
    "emptySudoku = np.zeros((9,9))\n",
    "\n",
    "hardSudoku = np.zeros((9,9))\n",
    "hardSudoku[0,1] = 4\n",
    "hardSudoku[0,7] = 1\n",
    "hardSudoku[1,0] = 2\n",
    "hardSudoku[1,8] = 6\n",
    "hardSudoku[7,0] = 9\n",
    "hardSudoku[7,8] = 2\n",
    "hardSudoku[8,1] = 1\n",
    "hardSudoku[8,7] = 9\n",
    "\n",
    "sampleSudoku = np.array([[5, 3, 0, 0, 7, 0, 0, 0, 0],\n",
    "                         [6, 0, 0, 1, 9, 5, 0, 0, 0],\n",
    "                         [0, 9, 8, 0, 0, 0, 0, 6, 0],\n",
    "                         [8, 0, 0, 0, 6, 0, 0, 0, 3],\n",
    "                         [4, 0, 0, 8, 0, 3, 0, 0, 1],\n",
    "                         [7, 0, 0, 0, 2, 0, 0, 0, 6],\n",
    "                         [0, 6, 0, 0, 0, 0, 2, 8, 0],\n",
    "                         [0, 0, 0, 4, 1, 9, 0, 0, 5],\n",
    "                         [0, 0, 0, 0, 8, 0, 0, 7, 9]])"
   ]
  },
  {
   "cell_type": "code",
   "execution_count": 9,
   "metadata": {},
   "outputs": [
    {
     "name": "stdout",
     "output_type": "stream",
     "text": [
      "81\n"
     ]
    }
   ],
   "source": [
    "#loop through the cells to get all possible numbers in that cell\n",
    "b = sampleSudoku.copy()\n",
    "possibleNs = []\n",
    "for ir in range (0,9):\n",
    "    for ic in range(0,9):\n",
    "        cellPoss = [0]\n",
    "        for i in range(1,10):\n",
    "            if probabilityFunction(b, ir, ic, i):\n",
    "                if cellPoss[0] == 0:\n",
    "                    cellPoss = [i]\n",
    "                else:\n",
    "                    cellPoss.append(i)\n",
    "            if b[ir, ic] == i:\n",
    "                cellPoss = i\n",
    "        possibleNs.append(cellPoss)"
   ]
  },
  {
   "cell_type": "markdown",
   "metadata": {},
   "source": [
    "## Naked pairs in a box"
   ]
  },
  {
   "cell_type": "code",
   "execution_count": 82,
   "metadata": {},
   "outputs": [
    {
     "name": "stdout",
     "output_type": "stream",
     "text": [
      "[[0], [0], [2, 4], [0], [7], [2, 4], [1], [0], [0]]\n",
      "[[5 3 0 0 7 0 0 0 0]\n",
      " [6 0 0 1 9 5 0 0 0]\n",
      " [0 9 8 0 0 0 0 6 0]\n",
      " [8 0 0 0 6 0 0 0 3]\n",
      " [4 0 0 8 0 3 0 0 1]\n",
      " [7 0 0 0 2 0 0 0 6]\n",
      " [0 6 0 0 0 0 2 8 0]\n",
      " [0 0 0 4 1 9 0 0 5]\n",
      " [0 0 0 0 8 0 0 7 9]]\n",
      "[[5 3 0 0 7 0 0 0 0]\n",
      " [6 7 0 1 9 5 0 0 0]\n",
      " [1 9 8 0 0 0 0 6 0]\n",
      " [8 0 0 0 6 0 0 0 3]\n",
      " [4 0 0 8 5 3 0 0 1]\n",
      " [7 0 0 0 2 0 0 0 6]\n",
      " [0 6 0 0 0 7 2 8 4]\n",
      " [0 0 0 4 1 9 0 3 5]\n",
      " [0 0 0 0 8 0 0 7 9]]\n"
     ]
    }
   ],
   "source": [
    "def nakedPairs(listPoss, rIdx):\n",
    "    keepLooping = False\n",
    "    for ir in rIdx:\n",
    "        for intIr in (0,1):\n",
    "            if len(listPoss[ir[intIr]]) > 1 and len(listPoss[ir[intIr+1]]) > 1:\n",
    "                diffList = list(set(listPoss[ir[intIr]]).intersection(set(listPoss[ir[intIr+1]])))\n",
    "                if len(diffList) == 2:\n",
    "                    listPoss[ir[intIr]] = diffList\n",
    "                    listPoss[ir[intIr+1]] = diffList\n",
    "                    keepLooping = True\n",
    "                 \n",
    "                    for num in range(1,10):\n",
    "                        availability = 0\n",
    "                        for thisPoss in listPoss:\n",
    "                            if num in thisPoss:\n",
    "                                availability = availability + 1\n",
    "                        if availability == 1:\n",
    "                            \n",
    "                            for thisPoss in range(0, len(listPoss)):\n",
    "                                if num in listPoss[thisPoss]:\n",
    "                                    listPoss[thisPoss] = [num]\n",
    "    return listPoss, keepLooping\n",
    "\n",
    "rowsIdx = [0, 1, 2, 9, 10, 11, 18, 20]\n",
    "listPoss = []\n",
    "listPoss.append(possibleNs[0])\n",
    "listPoss.append(possibleNs[1])\n",
    "listPoss.append(possibleNs[2])\n",
    "listPoss.append(possibleNs[9])\n",
    "listPoss.append(possibleNs[10])\n",
    "listPoss.append(possibleNs[11])\n",
    "listPoss.append(possibleNs[18])\n",
    "listPoss.append(possibleNs[19])\n",
    "listPoss.append(possibleNs[20])\n",
    "\n",
    "rIdx = [[0,1,2],[3,4,5],[6,7,8]]\n",
    "cIdx = [[0,3,6],[1,4,7],[2,5,8]]\n",
    "\n",
    "keepLooping = True\n",
    "while keepLooping:\n",
    "    \n",
    "    listPoss, keepLoopingR =  nakedPairs(listPoss, rIdx)\n",
    "    listPoss, keepLoopingC =  nakedPairs(listPoss, cIdx)\n",
    "    if keepLoopingC and keepLoopingR:\n",
    "        keepLooping = True\n",
    "    else :\n",
    "        keepLooping = False\n",
    "    \n",
    "print(listPoss)\n",
    "\n",
    "possibleNs[0] = listPoss[0]\n",
    "possibleNs[1] = listPoss[1]\n",
    "possibleNs[2] = listPoss[2]\n",
    "possibleNs[9] = listPoss[3]\n",
    "possibleNs[10] = listPoss[4]\n",
    "possibleNs[11] = listPoss[5]\n",
    "possibleNs[18] = listPoss[6]\n",
    "possibleNs[19] = listPoss[7]\n",
    "possibleNs[20] = listPoss[8]\n",
    "\n",
    "# assign and note the cells with only 1 poss\n",
    "idx = 0\n",
    "for ir in range(0,9):\n",
    "    for ic in range(0,9):\n",
    "        if not possibleNs[idx][0] == 0 and len(possibleNs[idx]) == 1:\n",
    "            b[ir, ic] = possibleNs[idx][0]\n",
    "        idx = idx + 1\n"
   ]
  },
  {
   "cell_type": "code",
   "execution_count": 114,
   "metadata": {},
   "outputs": [
    {
     "name": "stdout",
     "output_type": "stream",
     "text": [
      "[[0. 4. 0. 0. 0. 0. 0. 1. 0.]\n",
      " [2. 0. 0. 0. 0. 0. 0. 0. 6.]\n",
      " [0. 0. 0. 0. 0. 0. 0. 0. 0.]\n",
      " [0. 0. 0. 0. 0. 0. 0. 0. 0.]\n",
      " [0. 0. 0. 0. 0. 0. 0. 0. 0.]\n",
      " [0. 0. 0. 0. 0. 0. 0. 0. 0.]\n",
      " [0. 0. 0. 0. 0. 0. 0. 0. 0.]\n",
      " [9. 0. 0. 0. 0. 0. 0. 0. 2.]\n",
      " [0. 1. 0. 0. 0. 0. 0. 9. 0.]]\n"
     ]
    }
   ],
   "source": [
    "#loop through the cells to get all possible numbers in that cell\n",
    "b = hardSudoku.copy()\n",
    "squareIdx = 8\n",
    "\n",
    "possibleNs = []\n",
    "for ir in range (0,9):\n",
    "    for ic in range(0,9):\n",
    "        cellPoss = [0]\n",
    "        for i in range(1,10):\n",
    "            if probabilityFunction(b, ir, ic, i):\n",
    "                if cellPoss[0] == 0:\n",
    "                    cellPoss = [i]\n",
    "                else:\n",
    "                    cellPoss.append(i)\n",
    "        possibleNs.append(cellPoss)\n",
    "\n",
    "        \n",
    "allIdx = np.array(list(range(0,81))).reshape((9,9))\n",
    "topLeftIdx = [[0, 0],\n",
    "              [0, 3],\n",
    "              [0, 6],\n",
    "              [3, 0],\n",
    "              [3, 3],\n",
    "              [3, 6],\n",
    "              [6, 0],\n",
    "              [6, 3],\n",
    "              [6, 6]]\n",
    "\n",
    "allSquareIdxs = np.ndarray.flatten(allIdx[topLeftIdx[squareIdx][0]:topLeftIdx[squareIdx][0]+3,\n",
    "           topLeftIdx[squareIdx][1]:topLeftIdx[squareIdx][1]+3])\n",
    "\n",
    "\n",
    "listPoss = []\n",
    "for i in allSquareIdxs:\n",
    "    listPoss.append(possibleNs[i])\n",
    "\n",
    "rIdx = [[0,1,2],[3,4,5],[6,7,8]]\n",
    "cIdx = [[0,3,6],[1,4,7],[2,5,8]]\n",
    "\n",
    "keepLooping = True\n",
    "while keepLooping:\n",
    "    \n",
    "    listPoss, keepLoopingR =  nakedPairs(listPoss, rIdx)\n",
    "    listPoss, keepLoopingC =  nakedPairs(listPoss, cIdx)\n",
    "    if keepLoopingC and keepLoopingR:\n",
    "        keepLooping = True\n",
    "    else :\n",
    "        keepLooping = False\n",
    "\n",
    "for i in range(0, len(listPoss)):\n",
    "    possibleNs[allSquareIdxs[i]] = listPoss[i]\n",
    "    \n",
    "# assign and note the cells with only 1 poss\n",
    "idx = 0\n",
    "for ir in range(0,9):\n",
    "    for ic in range(0,9):\n",
    "        if not possibleNs[idx][0] == 0 and len(possibleNs[idx]) == 1:\n",
    "            b[ir, ic] = possibleNs[idx][0]\n",
    "        idx = idx + 1\n",
    "print(b)\n"
   ]
  },
  {
   "cell_type": "code",
   "execution_count": 116,
   "metadata": {},
   "outputs": [
    {
     "name": "stdout",
     "output_type": "stream",
     "text": [
      "[[3, 5, 6, 7, 8], [0], [3, 5, 6, 7, 8, 9], [0], [3, 5, 7, 8, 9], [1, 3, 5, 7, 8, 9], [1, 3, 5, 6, 7, 8], [3, 5, 6, 7, 8, 9], [1, 3, 5, 6, 7, 8, 9]]\n",
      "[[2, 3, 5, 7, 8, 9], [0], [3, 5, 7, 8, 9], [3, 4, 5, 7, 8, 9], [3, 4, 5, 7, 8], [0], [2, 3, 4, 5, 7, 8, 9], [2, 3, 4, 5, 7, 8], [3, 4, 5, 7, 8, 9]]\n"
     ]
    }
   ],
   "source": [
    "squareIdx = 0\n",
    "allSquareIdxs = np.ndarray.flatten(allIdx[topLeftIdx[squareIdx][0]:topLeftIdx[squareIdx][0]+3,\n",
    "           topLeftIdx[squareIdx][1]:topLeftIdx[squareIdx][1]+3])\n",
    "\n",
    "\n",
    "listPoss = []\n",
    "for i in allSquareIdxs:\n",
    "    listPoss.append(possibleNs[i])\n",
    "print(listPoss)\n",
    "\n",
    "squareIdx = 2\n",
    "allSquareIdxs = np.ndarray.flatten(allIdx[topLeftIdx[squareIdx][0]:topLeftIdx[squareIdx][0]+3,\n",
    "           topLeftIdx[squareIdx][1]:topLeftIdx[squareIdx][1]+3])\n",
    "\n",
    "\n",
    "listPoss = []\n",
    "for i in allSquareIdxs:\n",
    "    listPoss.append(possibleNs[i])\n",
    "print(listPoss)"
   ]
  },
  {
   "cell_type": "code",
   "execution_count": null,
   "metadata": {},
   "outputs": [],
   "source": []
  }
 ],
 "metadata": {
  "kernelspec": {
   "display_name": "Python 3",
   "language": "python",
   "name": "python3"
  },
  "language_info": {
   "codemirror_mode": {
    "name": "ipython",
    "version": 3
   },
   "file_extension": ".py",
   "mimetype": "text/x-python",
   "name": "python",
   "nbconvert_exporter": "python",
   "pygments_lexer": "ipython3",
   "version": "3.6.8"
  }
 },
 "nbformat": 4,
 "nbformat_minor": 2
}
