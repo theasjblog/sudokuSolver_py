{
 "cells": [
  {
   "cell_type": "markdown",
   "metadata": {},
   "source": [
    "# Sudoku Solver core functions\n",
    "\n",
    "\n",
    "This notebook contains the core functions to solve a sudoku:\n",
    "\n",
    "* The solver\n",
    "* Validator\n",
    "* Some test cases"
   ]
  },
  {
   "cell_type": "code",
   "execution_count": null,
   "metadata": {},
   "outputs": [],
   "source": [
    "# imports\n",
    "import numpy as np\n",
    "import sys\n",
    "import math"
   ]
  },
  {
   "cell_type": "code",
   "execution_count": 1,
   "metadata": {},
   "outputs": [],
   "source": [
    "# test grids\n",
    "emptySudoku = np.zeros((9,9))\n",
    "\n",
    "sampleSudoku = np.array([[5, 3, 0, 0, 7, 0, 0, 0, 0],\n",
    "                         [6, 0, 0, 1, 9, 5, 0, 0, 0],\n",
    "                         [0, 9, 8, 0, 0, 0, 0, 6, 0],\n",
    "                         [8, 0, 0, 0, 6, 0, 0, 0, 3],\n",
    "                         [4, 0, 0, 8, 0, 3, 0, 0, 1],\n",
    "                         [7, 0, 0, 0, 2, 0, 0, 0, 6],\n",
    "                         [0, 6, 0, 0, 0, 0, 2, 8, 0],\n",
    "                         [0, 0, 0, 4, 1, 9, 0, 0, 5],\n",
    "                         [0, 0, 0, 0, 8, 0, 0, 7, 9]])\n",
    "\n",
    "invalidRow = np.array([[5, 5, 0, 0, 7, 0, 0, 0, 0],\n",
    "                         [6, 0, 0, 1, 9, 5, 0, 0, 0],\n",
    "                         [0, 9, 8, 0, 0, 0, 0, 6, 0],\n",
    "                         [8, 0, 0, 0, 6, 0, 0, 0, 3],\n",
    "                         [4, 0, 0, 8, 0, 3, 0, 0, 1],\n",
    "                         [7, 0, 0, 0, 2, 0, 0, 0, 6],\n",
    "                         [0, 6, 0, 0, 0, 0, 2, 8, 0],\n",
    "                         [0, 0, 0, 4, 1, 9, 0, 0, 5],\n",
    "                         [0, 0, 0, 0, 8, 0, 0, 7, 9]])\n",
    "\n",
    "invalidCol = np.array([[5, 3, 0, 0, 7, 0, 0, 0, 0],\n",
    "                         [6, 0, 0, 1, 9, 5, 0, 0, 0],\n",
    "                         [5, 9, 8, 0, 0, 0, 0, 6, 0],\n",
    "                         [8, 0, 0, 0, 6, 0, 0, 0, 3],\n",
    "                         [4, 0, 0, 8, 0, 3, 0, 0, 1],\n",
    "                         [7, 0, 0, 0, 2, 0, 0, 0, 6],\n",
    "                         [0, 6, 0, 0, 0, 0, 2, 8, 0],\n",
    "                         [0, 0, 0, 4, 1, 9, 0, 0, 5],\n",
    "                         [0, 0, 0, 0, 8, 0, 0, 7, 9]])\n",
    "\n",
    "invalidSquare = np.array([[5, 3, 0, 0, 7, 0, 0, 0, 0],\n",
    "                         [6, 0, 3, 1, 9, 5, 0, 0, 0],\n",
    "                         [0, 9, 8, 0, 0, 0, 0, 6, 0],\n",
    "                         [8, 0, 0, 0, 6, 0, 0, 0, 3],\n",
    "                         [4, 0, 0, 8, 0, 3, 0, 0, 1],\n",
    "                         [7, 0, 0, 0, 2, 0, 0, 0, 6],\n",
    "                         [0, 6, 0, 0, 0, 0, 2, 8, 0],\n",
    "                         [0, 0, 0, 4, 1, 9, 0, 0, 5],\n",
    "                         [0, 0, 0, 0, 8, 0, 0, 7, 9]])\n"
   ]
  },
  {
   "cell_type": "markdown",
   "metadata": {},
   "source": [
    "# Validation \n",
    "\n",
    "Functions to see if a grid is solvable.\n",
    "\n",
    "To be solvable, a grid must:\n",
    "\n",
    "* be of shape (9,9)\n",
    "* every row and column must contain only unique values (excluded 0s)\n",
    "* each 3X3 sub-grid must contain only unique values"
   ]
  },
  {
   "cell_type": "code",
   "execution_count": 52,
   "metadata": {},
   "outputs": [
    {
     "name": "stdout",
     "output_type": "stream",
     "text": [
      "False\n",
      "[[5 3 0]\n",
      " [6 0 0]\n",
      " [0 9 8]]\n"
     ]
    }
   ],
   "source": [
    "# lines and rows only have unique values\n",
    "def lineCheck(line):\n",
    "    line = [i for i in line if i > 0]\n",
    "    res = len(line) == len(np.unique(line))\n",
    "    return(res)\n",
    "\n",
    "# a sub-grid (3X3) only has unique values\n",
    "def checkSquare(grid):\n",
    "    grid = np.ndarray.flatten(grid)\n",
    "    res = lineCheck(grid)\n",
    "    return(res)\n",
    "\n",
    "# wrapper to call all the the check funcitons\n",
    "def validateGrid(grid):\n",
    "    if not grid.shape == (9,9):\n",
    "        return(False)\n",
    "    rows = all(np.apply_along_axis(lineCheck, 0, test))\n",
    "    cols = all(np.apply_along_axis(lineCheck, 1, test))\n",
    "    if( not rows or not cols):\n",
    "        return(False)\n",
    "    gridCoord = [0,3,6]\n",
    "    checkSquareRes = []\n",
    "    for i in gridCoord:\n",
    "        for ii in gridCoord:\n",
    "            square = grid[i:i+3, ii:ii+3]\n",
    "            checkSquareRes = np.append(checkSquareRes, checkSquare(square))\n",
    "            \n",
    "    \n",
    "    checkSquareRes = all(checkSquareRes)\n",
    "    if( not checkSquareRes):\n",
    "        return(False)\n",
    "    \n",
    "    return(True)\n",
    "\n",
    "test = invalidRow\n",
    "test = invalidCol\n",
    "test = invalidSquare\n",
    "test = sampleSudoku\n",
    "test = sampleSudoku[0:3, 0:3]\n",
    "print(validateGrid(test))\n",
    "print(test)"
   ]
  },
  {
   "cell_type": "markdown",
   "metadata": {},
   "source": [
    "# Main solver function\n",
    "\n",
    "Iteratively loop over cols, rows and sub-grids to see what can be filled up. Keep repeting the loops until a solution is found or until we hit the imposed time limit."
   ]
  },
  {
   "cell_type": "code",
   "execution_count": null,
   "metadata": {},
   "outputs": [],
   "source": []
  }
 ],
 "metadata": {
  "kernelspec": {
   "display_name": "Python 3",
   "language": "python",
   "name": "python3"
  },
  "language_info": {
   "codemirror_mode": {
    "name": "ipython",
    "version": 3
   },
   "file_extension": ".py",
   "mimetype": "text/x-python",
   "name": "python",
   "nbconvert_exporter": "python",
   "pygments_lexer": "ipython3",
   "version": "3.7.4"
  }
 },
 "nbformat": 4,
 "nbformat_minor": 2
}
