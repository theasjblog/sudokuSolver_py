{
 "cells": [
  {
   "cell_type": "markdown",
   "metadata": {},
   "source": [
    "https://www.learn-sudoku.com/hidden-pairs.html"
   ]
  },
  {
   "cell_type": "code",
   "execution_count": 1,
   "metadata": {},
   "outputs": [],
   "source": [
    "import numpy as np\n",
    "import sys\n",
    "import math\n",
    "import time\n",
    "from itertools import combinations\n",
    "from base234 import *"
   ]
  },
  {
   "cell_type": "code",
   "execution_count": 15,
   "metadata": {},
   "outputs": [],
   "source": [
    "# hidden pair in [2,0], [2,2]\n",
    "hidden2Sudoku = np.zeros((9,9))\n",
    "hidden2Sudoku[0,0] = 3\n",
    "hidden2Sudoku[0,2] = 1\n",
    "hidden2Sudoku[1,1] = 2\n",
    "hidden2Sudoku[0,3] = 6\n",
    "hidden2Sudoku[0,4] = 7\n",
    "hidden2Sudoku[0,5] = 9\n",
    "hidden2Sudoku[1,6] = 6\n",
    "hidden2Sudoku[1,3] = 8\n",
    "hidden2Sudoku[1,7] = 9\n",
    "hidden2Sudoku[3,2] = 7\n",
    "hidden2Sudoku[2,3] = 4\n",
    "hidden2Sudoku[2,4] = 5\n",
    "hidden2Sudoku[3,1] = 6\n",
    "hidden2Sudoku[4,1] = 9\n"
   ]
  },
  {
   "cell_type": "code",
   "execution_count": 67,
   "metadata": {
    "scrolled": false
   },
   "outputs": [],
   "source": [
    "#####\n",
    "# PAIRS\n",
    "def checkForHiddenPairs(ns, idxs):\n",
    "    # find all numbers that appear only twice\n",
    "    numLst = []\n",
    "    for i in range(1,10):\n",
    "        appearCount = 0\n",
    "        for thisIdx in idxs:\n",
    "            if i in ns[thisIdx]:\n",
    "                appearCount = appearCount + 1\n",
    "        if appearCount == 2:\n",
    "            numLst.append(i)\n",
    "            \n",
    "    if not len(numLst)>=2:\n",
    "        return([0], [0, 0])\n",
    "        \n",
    "    combNum = list(combinations(numLst, 2))\n",
    "    combIdx = list(combinations(idxs, 2))\n",
    "    for thisComb in combNum:\n",
    "        matches = 0\n",
    "        for thisIdx in combIdx:\n",
    "            lst1 = ns[thisIdx[0]]\n",
    "            lst2 = ns[thisIdx[1]]\n",
    "            if len(lst1)>=2 and len(lst2)>=1:\n",
    "                lstInt = intersection(lst1, lst2)\n",
    "                if len(lstInt)>=2:\n",
    "                    lstInt = intersection(lstInt, thisComb)\n",
    "                    if lstInt == [thisComb[0], thisComb[1]]:\n",
    "                        matches = matches + 1\n",
    "        if matches == 1:\n",
    "            # get where the couple is\n",
    "            # can just look for where the first num is\n",
    "            resIdx = []\n",
    "            for thisIdx in idxs:\n",
    "                if thisComb[0] in ns[thisIdx]:\n",
    "                    resIdx.append(thisIdx)\n",
    "            return([thisComb[0], thisComb[1]], resIdx)\n",
    "    return([0], [0, 0]) \n",
    "    \n",
    "# what to do if I have pairs\n",
    "# the below tells us where in the grid we have pairs, and what the vallues are\n",
    "# we remove all those values for the same row, col and square of the pair\n",
    "def replaceHiddenPairs(nsPair, typeIs):\n",
    "    replaceMade = False\n",
    "    for i in range(0,9):\n",
    "        idxs = getIdxs(i, typeIs)\n",
    "        thisPair, idx = checkForHiddenPairs(nsPair, idxs)\n",
    "        if len(thisPair) == 2:\n",
    "            orList = nsPair\n",
    "            nsPair[idx[0]] =  thisPair\n",
    "            nsPair[idx[1]] =  thisPair\n",
    "            if not orList == nsPair:\n",
    "                replaceMade = True\n",
    "    return(nsPair, replaceMade)\n",
    "\n",
    "# Finally, create a function to wrap everything\n",
    "def solveHiddenPairs(nsPossibilities):\n",
    "    keepLooping = True\n",
    "    while keepLooping:\n",
    "        nsPossibilities, replaceMadeR = replaceHiddenPairs(nsPossibilities, 'row')\n",
    "        nsPossibilities, replaceMadeC = replaceHiddenPairs(nsPossibilities, 'col')\n",
    "        nsPossibilities, replaceMadeS = replaceHiddenPairs(nsPossibilities, 'square')\n",
    "        if not replaceMadeR and not replaceMadeC and not replaceMadeS:\n",
    "            keepLooping = False\n",
    "    return(nsPossibilities)"
   ]
  },
  {
   "cell_type": "code",
   "execution_count": 68,
   "metadata": {},
   "outputs": [
    {
     "name": "stdout",
     "output_type": "stream",
     "text": [
      "[6, 7, 8, 9]\n",
      "[6, 8, 9]\n",
      "[6, 9]\n",
      "[6, 9]\n"
     ]
    }
   ],
   "source": [
    "ns = getPossibilities(hidden2Sudoku)\n",
    "print(ns[18])\n",
    "print(ns[20])\n",
    "p = solveHiddenPairs(ns)\n",
    "print(p[18])\n",
    "print(p[20])"
   ]
  },
  {
   "cell_type": "code",
   "execution_count": null,
   "metadata": {},
   "outputs": [],
   "source": []
  }
 ],
 "metadata": {
  "kernelspec": {
   "display_name": "Python 3",
   "language": "python",
   "name": "python3"
  },
  "language_info": {
   "codemirror_mode": {
    "name": "ipython",
    "version": 3
   },
   "file_extension": ".py",
   "mimetype": "text/x-python",
   "name": "python",
   "nbconvert_exporter": "python",
   "pygments_lexer": "ipython3",
   "version": "3.6.8"
  }
 },
 "nbformat": 4,
 "nbformat_minor": 2
}
