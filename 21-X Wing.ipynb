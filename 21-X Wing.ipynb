{
 "cells": [
  {
   "cell_type": "markdown",
   "metadata": {},
   "source": [
    "https://www.learn-sudoku.com/x-wing.html"
   ]
  },
  {
   "cell_type": "markdown",
   "metadata": {},
   "source": [
    "* loop through rows\n",
    "* loop thorugh numbers\n",
    "* find number that appears only twice in possibilities\n",
    "* see if the number exists also in two columns down the same rows. If so, the results must be in the same row\n",
    "* check that the second row only has that number has possible in those two cells\n",
    "* remove that number from possible in the same column\n",
    "* repeat looping through rows"
   ]
  },
  {
   "cell_type": "code",
   "execution_count": 1,
   "metadata": {},
   "outputs": [],
   "source": [
    "import numpy as np\n",
    "from baseNaked234Hidden234 import *"
   ]
  },
  {
   "cell_type": "code",
   "execution_count": 2,
   "metadata": {},
   "outputs": [],
   "source": [
    "# cells [2,1], [2,3], [4,1], [4,3] = 4\n",
    "xwingSudoku = np.zeros((9,9))\n",
    "xwingSudoku[0,2] = 3\n",
    "xwingSudoku[0,3] = 8\n",
    "xwingSudoku[0,6] = 5\n",
    "xwingSudoku[0,7] = 1\n",
    "xwingSudoku[1,2] = 8\n",
    "xwingSudoku[1,3] = 7\n",
    "xwingSudoku[1,6] = 9\n",
    "xwingSudoku[1,7] = 3\n",
    "xwingSudoku[2,0] = 1\n",
    "xwingSudoku[2,3] = 3\n",
    "xwingSudoku[2,5] = 5\n",
    "xwingSudoku[2,6] = 7\n",
    "xwingSudoku[2,7] = 2\n",
    "xwingSudoku[2,8] = 8\n",
    "xwingSudoku[3,3] = 2\n",
    "xwingSudoku[3,6] = 8\n",
    "xwingSudoku[3,7] = 4\n",
    "xwingSudoku[3,8] = 9\n",
    "xwingSudoku[4,0] = 8\n",
    "xwingSudoku[4,2] = 1\n",
    "xwingSudoku[4,3] = 9\n",
    "xwingSudoku[4,5] = 6\n",
    "xwingSudoku[4,6] = 2\n",
    "xwingSudoku[4,7] = 5\n",
    "xwingSudoku[4,8] = 7\n",
    "xwingSudoku[5,3] = 5\n",
    "xwingSudoku[5,6] = 1\n",
    "xwingSudoku[5,7] = 6\n",
    "xwingSudoku[5,8] = 3\n",
    "xwingSudoku[6,0] = 9\n",
    "xwingSudoku[6,1] = 6\n",
    "xwingSudoku[6,2] = 4\n",
    "xwingSudoku[6,3] = 1\n",
    "xwingSudoku[6,4] = 2\n",
    "xwingSudoku[6,5] = 7\n",
    "xwingSudoku[6,6] = 3\n",
    "xwingSudoku[6,7] = 8\n",
    "xwingSudoku[6,8] = 5\n",
    "xwingSudoku[7,0] = 3\n",
    "xwingSudoku[7,1] = 8\n",
    "xwingSudoku[7,2] = 2\n",
    "xwingSudoku[7,3] = 6\n",
    "xwingSudoku[7,4] = 5\n",
    "xwingSudoku[7,5] = 9\n",
    "xwingSudoku[7,6] = 4\n",
    "xwingSudoku[7,7] = 7\n",
    "xwingSudoku[7,8] = 1\n",
    "xwingSudoku[8,1] = 1\n",
    "xwingSudoku[8,3] = 4\n",
    "xwingSudoku[8,6] = 6\n",
    "xwingSudoku[8,7] = 9\n",
    "xwingSudoku[8,8] = 2"
   ]
  },
  {
   "cell_type": "code",
   "execution_count": 3,
   "metadata": {},
   "outputs": [],
   "source": [
    "def checkXwingsRows(ns):\n",
    "    m, s = getMapping()\n",
    "    # loop through rows\n",
    "    candidateRow = []            \n",
    "    candidateNum = []\n",
    "    candidateCol = []            \n",
    "    for rowIdx in range(0,9):\n",
    "        idxs = getIdxs(rowIdx, 'row')\n",
    "        for thisNum in range(1,10):\n",
    "            nCount = 0\n",
    "            okRow = rowIdx\n",
    "            okCol = []\n",
    "            for colIdx in range(0,9):\n",
    "                nsIdx = m[rowIdx, colIdx]\n",
    "                p = ns[nsIdx]\n",
    "                if thisNum in p:\n",
    "                    nCount = nCount + 1\n",
    "                    okCol.append(colIdx)\n",
    "            if nCount == 2:\n",
    "                candidateNum.append(thisNum)\n",
    "                candidateRow.append(okRow)\n",
    "                candidateCol.append(okCol)\n",
    "            \n",
    "    #verify x-wings\n",
    "    xwings = []\n",
    "    idxs = []\n",
    "    for i in range(0, len(candidateNum)-1):\n",
    "        num1 = candidateNum[i]\n",
    "        cols1 = candidateCol[i]\n",
    "        row1 = candidateRow[i]\n",
    "        for ii in range(i+1, len(candidateNum)):\n",
    "            num2 = candidateNum[ii]\n",
    "            cols2 = candidateCol[ii]\n",
    "            row2 = candidateRow[ii]\n",
    "        #check that the num and the cols are he same\n",
    "            if num1 == num2 and cols1 == cols2:\n",
    "                xwings.append(num1)\n",
    "                idxs.append([[row1, row2], cols1])\n",
    "    return(xwings, idxs)\n",
    "\n",
    "\n",
    "# now we remove all those numbers from the other rows in the columns where they appear\n",
    "def replaceXwingsRows(ns, xwings, idxs):\n",
    "    if len(xwings) == 0:\n",
    "        return(ns)\n",
    "    for i in range(0, len(xwings)):\n",
    "        thisNum = xwings[i]\n",
    "        #idxs of the first of the two cols\n",
    "        idx1 = getIdxs(idxs[i][1][0], 'col')\n",
    "        idx2 = getIdxs(idxs[i][1][1], 'col')\n",
    "        idx3 = getIdxs(idxs[i][0][0], 'row')\n",
    "        idx4 = getIdxs(idxs[i][0][1], 'row')\n",
    "        allColsIdx = idx1 + idx2\n",
    "        allRowsIdx = idx3 + idx4\n",
    "        #remove row idx from col idx:\n",
    "        allIdxs = remove_values_from_list(allColsIdx, allRowsIdx)\n",
    "        for i in allIdxs:\n",
    "            ns[i] = remove_values_from_list(ns[i], [thisNum])\n",
    "    return(ns)\n",
    "\n",
    "def solveXwingsRows(ns):\n",
    "    xwings, idxs = checkXwingsRows(ns)\n",
    "    ns = replaceXwingsRows(ns, xwings, idxs)\n",
    "    return(ns)"
   ]
  },
  {
   "cell_type": "code",
   "execution_count": 4,
   "metadata": {},
   "outputs": [
    {
     "name": "stdout",
     "output_type": "stream",
     "text": [
      "[2, 4, 7, 9]\n",
      "[4, 9]\n",
      "[2, 7, 9]\n",
      "[4, 9]\n"
     ]
    }
   ],
   "source": [
    "ns = getPossibilities(xwingSudoku)\n",
    "print(ns[1])\n",
    "print(ns[19])\n",
    "p = solveXwingsRows(ns)\n",
    "print(p[1])\n",
    "print(p[19])\n"
   ]
  },
  {
   "cell_type": "code",
   "execution_count": 5,
   "metadata": {},
   "outputs": [],
   "source": [
    "def checkXwingsCols(ns):\n",
    "    m, s = getMapping()\n",
    "    # loop through rows\n",
    "    candidateRow = []            \n",
    "    candidateNum = []\n",
    "    candidateCol = []            \n",
    "    for colIdx in range(0,9):\n",
    "        idxs = getIdxs(colIdx, 'col')\n",
    "        for thisNum in range(1,10):\n",
    "            nCount = 0\n",
    "            okCol = colIdx\n",
    "            okRow = []\n",
    "            for rowIdx in range(0,9):\n",
    "                nsIdx = m[rowIdx, colIdx]\n",
    "                p = ns[nsIdx]\n",
    "                if thisNum in p:\n",
    "                    nCount = nCount + 1\n",
    "                    okRow.append(rowIdx)\n",
    "            if nCount == 2:\n",
    "                candidateNum.append(thisNum)\n",
    "                candidateRow.append(okRow)\n",
    "                candidateCol.append(okCol)\n",
    "            \n",
    "    #verify x-wings\n",
    "    xwings = []\n",
    "    idxs = []\n",
    "    for i in range(0, len(candidateNum)-1):\n",
    "        num1 = candidateNum[i]\n",
    "        col1 = candidateCol[i]\n",
    "        rows1 = candidateRow[i]\n",
    "        for ii in range(i+1, len(candidateNum)):\n",
    "            num2 = candidateNum[ii]\n",
    "            col2 = candidateCol[ii]\n",
    "            rows2 = candidateRow[ii]\n",
    "        #check that the num and the cols are he same\n",
    "            if num1 == num2 and rows1 == rows2:\n",
    "                xwings.append(num1)\n",
    "                idxs.append([rows1, [col1, col2]])\n",
    "    return(xwings, idxs)\n",
    "\n",
    "\n",
    "# now we remove all those numbers from the other rows in the columns where they appear\n",
    "def replaceXwingsCols(ns, xwings, idxs):\n",
    "    if len(xwings) == 0:\n",
    "        return(ns)\n",
    "    for i in range(0, len(xwings)):\n",
    "        thisNum = xwings[i]\n",
    "        #idxs of the first of the two cols\n",
    "        idx1 = getIdxs(idxs[i][1][0], 'col')\n",
    "        idx2 = getIdxs(idxs[i][1][1], 'col')\n",
    "        idx3 = getIdxs(idxs[i][0][0], 'row')\n",
    "        idx4 = getIdxs(idxs[i][0][1], 'row')\n",
    "        allColsIdx = idx1 + idx2\n",
    "        allRowsIdx = idx3 + idx4\n",
    "        #remove row idx from col idx:\n",
    "        allIdxs = remove_values_from_list(allRowsIdx, allColsIdx)\n",
    "        for i in allIdxs:\n",
    "            ns[i] = remove_values_from_list(ns[i], [thisNum])\n",
    "    return(ns)\n",
    "\n",
    "def solveXWingsCols(ns):\n",
    "    xwings, idxs = checkXwingsCols(ns)\n",
    "    ns = replaceXwingsCols(ns, xwings, idxs)\n",
    "    return(ns)"
   ]
  },
  {
   "cell_type": "markdown",
   "metadata": {},
   "source": [
    "should try to collapse rows and cols solver into just 2 functions"
   ]
  },
  {
   "cell_type": "code",
   "execution_count": 6,
   "metadata": {},
   "outputs": [],
   "source": [
    "def solveXwings(ns):\n",
    "    xwings, idxs = checkXwingsRows(ns)\n",
    "    ns = replaceXwingsCols(ns, xwings, idxs)\n",
    "    xwings, idxs = checkXwingsCols(ns)\n",
    "    ns = replaceXwingsCols(ns, xwings, idxs)\n",
    "    return(ns)\n"
   ]
  },
  {
   "cell_type": "code",
   "execution_count": 12,
   "metadata": {},
   "outputs": [
    {
     "name": "stdout",
     "output_type": "stream",
     "text": [
      "[[], [2, 9], [3], [8], [6, 9], [2, 4], [5], [1], [4, 6], [], [2, 5], [8], [7], [1, 6], [2, 4], [9], [3], [4, 6], [1], [], [], [3], [], [5], [7], [2], [8], [], [], [], [2], [], [], [8], [4], [9], [8], [3, 4], [1], [9], [4], [6], [2], [5], [7], [2, 4], [2, 9], [9], [5], [8], [8], [1], [6], [3], [9], [6], [4], [1], [2], [7], [3], [8], [5], [3], [8], [2], [6], [5], [9], [4], [7], [1], [], [1], [], [4], [], [], [6], [9], [2]]\n",
      "[[], [2, 9], [3], [8], [6, 9], [2, 4], [5], [1], [4, 6], [], [5], [8], [7], [1, 6], [2, 4], [9], [3], [4, 6], [1], [], [], [3], [], [5], [7], [2], [8], [], [], [], [2], [], [], [8], [4], [9], [8], [3, 4], [1], [9], [4], [6], [2], [5], [7], [2, 4], [2, 9], [9], [5], [8], [8], [1], [6], [3], [9], [6], [4], [1], [2], [7], [3], [8], [5], [3], [8], [2], [6], [5], [9], [4], [7], [1], [], [1], [], [4], [], [], [6], [9], [2]]\n",
      "[[0. 0. 3. 8. 0. 0. 5. 1. 0.]\n",
      " [0. 5. 8. 7. 0. 0. 9. 3. 0.]\n",
      " [1. 0. 0. 3. 0. 5. 7. 2. 8.]\n",
      " [0. 0. 0. 2. 0. 0. 8. 4. 9.]\n",
      " [8. 0. 1. 9. 4. 6. 2. 5. 7.]\n",
      " [0. 0. 9. 5. 8. 8. 1. 6. 3.]\n",
      " [9. 6. 4. 1. 2. 7. 3. 8. 5.]\n",
      " [3. 8. 2. 6. 5. 9. 4. 7. 1.]\n",
      " [0. 1. 0. 4. 0. 0. 6. 9. 2.]]\n",
      "[[2, 4, 6, 7], [2, 4, 7, 9], [3], [8], [6, 9], [2, 4], [5], [1], [4, 6], [2, 4, 6], [5], [8], [7], [1, 6], [1, 2, 4], [9], [3], [4, 6], [1], [4, 9], [6], [3], [6, 9], [5], [7], [2], [8], [5, 6, 7], [3, 7], [5, 6, 7], [2], [1, 3, 7], [1, 3], [8], [4], [9], [8], [3], [1], [9], [4], [6], [2], [5], [7], [2, 4, 7], [2, 4, 7], [9], [5], [8], [8], [1], [6], [3], [9], [6], [4], [1], [2], [7], [3], [8], [5], [3], [8], [2], [6], [5], [9], [4], [7], [1], [5, 7], [1], [5, 7], [4], [3], [3], [6], [9], [2]]\n"
     ]
    }
   ],
   "source": [
    "# ns = getPossibilities(xwingSudoku)\n",
    "print(ns)\n",
    "p = solveXwings(ns)\n",
    "#print(p)\n",
    "\n",
    "p = solveNakedPairs(ns)\n",
    "#print(p)               \n",
    "p = solveNaked3(ns)\n",
    "print(p)\n",
    "print(fillGridFromPoss(xwingSudoku, p))\n",
    "print(getPossibilities(fillGridFromPoss(xwingSudoku, p)))\n",
    "p = solveNaked4(ns)\n",
    "#print(p)\n",
    "p = solveHiddenPairs(ns)\n",
    "#print(p)\n",
    "p = solveHidden3(ns)\n",
    "#print(p)\n",
    "p = solveHidden4(ns)\n",
    "#print(p)\n",
    "p = solveXwings(ns)\n",
    "#print(p)\n",
    "        \n",
    "# from sudokuSamples import *\n",
    "# b = solveSudoku(sampleSudoku)\n",
    "# print(b[0])\n",
    "# ns = getPossibilities(b[0])\n",
    "# print(ns)\n",
    "# p = solveXwings(ns)\n",
    "# print(p)\n",
    "# print(p == ns)"
   ]
  },
  {
   "cell_type": "code",
   "execution_count": 20,
   "metadata": {},
   "outputs": [
    {
     "name": "stdout",
     "output_type": "stream",
     "text": [
      "False\n"
     ]
    }
   ],
   "source": [
    "print(np.array_equal(xwingSudoku, np.zeros((9,9))))"
   ]
  },
  {
   "cell_type": "code",
   "execution_count": null,
   "metadata": {},
   "outputs": [],
   "source": []
  }
 ],
 "metadata": {
  "kernelspec": {
   "display_name": "Python 3",
   "language": "python",
   "name": "python3"
  },
  "language_info": {
   "codemirror_mode": {
    "name": "ipython",
    "version": 3
   },
   "file_extension": ".py",
   "mimetype": "text/x-python",
   "name": "python",
   "nbconvert_exporter": "python",
   "pygments_lexer": "ipython3",
   "version": "3.6.8"
  }
 },
 "nbformat": 4,
 "nbformat_minor": 2
}
