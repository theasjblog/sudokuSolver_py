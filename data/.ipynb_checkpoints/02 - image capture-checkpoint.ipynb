{
 "cells": [
  {
   "cell_type": "markdown",
   "metadata": {},
   "source": [
    "# Take a photo of a sudoku"
   ]
  },
  {
   "cell_type": "code",
   "execution_count": null,
   "metadata": {},
   "outputs": [],
   "source": [
    "#control laptop camera\n",
    "#esc to exit\n",
    "#space to grab picture\n",
    "import cv2\n",
    "from matplotlib import pyplot as plt\n",
    "\n",
    "\n",
    "cam = cv2.VideoCapture(0)\n",
    "\n",
    "cv2.namedWindow(\"test\")\n",
    "\n",
    "img_counter = 0\n",
    "\n",
    "while True:\n",
    "    ret, frame = cam.read()\n",
    "    if not ret:\n",
    "        print(\"failed to grab frame\")\n",
    "        break\n",
    "    maxR=frame.shape[0]\n",
    "    maxC=frame.shape[1]\n",
    "    padding = 80\n",
    "    cent = [maxR/2, maxC/2]\n",
    "    lensS = (min(maxR,maxC)-padding*2)/2\n",
    "    # coord top left\n",
    "    coords = [[int(cent[0]-lensS),int(cent[1]-lensS)],\n",
    "             [int(cent[0]-lensS),int(cent[1]+lensS)],\n",
    "              [int(cent[0]+lensS),int(cent[1]-lensS)],\n",
    "              [int(cent[0]+lensS),int(cent[1]+lensS)]]\n",
    "    cellWidth = int(lensS*2/9)\n",
    "     \n",
    "    colourIs = (0,0,255)\n",
    "    \n",
    "    for i in range(0,10):\n",
    "        cv2.line(frame,(coords[0][1],\n",
    "                        coords[0][0]+(i*cellWidth)),\n",
    "                 (coords[0][1]+(9*cellWidth),\n",
    "                  coords[1][0]+(i*cellWidth)),\n",
    "                 colourIs,2)\n",
    "        cv2.line(frame,(coords[0][1]+(i*cellWidth),\n",
    "                        coords[0][0]),\n",
    "                 (coords[0][1]+(i*cellWidth),\n",
    "                  coords[1][0]+(9*cellWidth)),\n",
    "                 colourIs,2)\n",
    "    \n",
    "    cv2.imshow(\"test\", frame)\n",
    "\n",
    "    k = cv2.waitKey(1)\n",
    "    if k%256 == 27:\n",
    "        # ESC pressed\n",
    "        print(\"Escape hit, closing...\")\n",
    "        print(coords)\n",
    "        break\n",
    "    elif k%256 == 32:\n",
    "        # SPACE pressed\n",
    "        img_name = \"opencv_frame_{}.png\".format(img_counter)\n",
    "        cv2.imwrite(img_name, frame)\n",
    "        print(\"{} written!\".format(img_name))\n",
    "        img_counter += 1\n",
    "cam.release()\n",
    "\n",
    "cv2.destroyAllWindows()\n",
    "img = cv2.imread('opencv_frame_0.png')\n",
    "plt.imshow(img)\n",
    "plt.show()\n",
    "    "
   ]
  },
  {
   "cell_type": "code",
   "execution_count": null,
   "metadata": {},
   "outputs": [],
   "source": [
    "#save squares to file\n",
    "img = cv2.imread('opencv_frame_0.png')\n",
    "imC = 0\n",
    "for i in range(0,9):\n",
    "    for ii in range(0,9):\n",
    "        startRow = coords[0][0]+(cellWidth*i)\n",
    "        endRow = startRow + cellWidth\n",
    "        startCol = coords[0][1]+(cellWidth*ii)\n",
    "        endCol = startCol + cellWidth\n",
    "        im = img[startRow:endRow,startCol:endCol,:]\n",
    "        cv2.imwrite(\"./seqFold/ROI_{}.png\".format(imC), im)\n",
    "        imC = imC + 1\n",
    "        \n",
    "# now we can send this to a ML algorithm\n",
    "    "
   ]
  },
  {
   "cell_type": "code",
   "execution_count": null,
   "metadata": {},
   "outputs": [],
   "source": []
  }
 ],
 "metadata": {
  "kernelspec": {
   "display_name": "Python 3",
   "language": "python",
   "name": "python3"
  },
  "language_info": {
   "codemirror_mode": {
    "name": "ipython",
    "version": 3
   },
   "file_extension": ".py",
   "mimetype": "text/x-python",
   "name": "python",
   "nbconvert_exporter": "python",
   "pygments_lexer": "ipython3",
   "version": "3.8.3"
  }
 },
 "nbformat": 4,
 "nbformat_minor": 4
}
